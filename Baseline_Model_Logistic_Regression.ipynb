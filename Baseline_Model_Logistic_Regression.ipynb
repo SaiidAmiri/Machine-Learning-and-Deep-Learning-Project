{
  "cells": [
    {
      "cell_type": "markdown",
      "metadata": {
        "id": "view-in-github",
        "colab_type": "text"
      },
      "source": [
        "<a href=\"https://colab.research.google.com/github/SaiidAmiri/Machine-Learning-and-Deep-Learning-Project/blob/main/Baseline_Model_Logistic_Regression.ipynb\" target=\"_parent\"><img src=\"https://colab.research.google.com/assets/colab-badge.svg\" alt=\"Open In Colab\"/></a>"
      ]
    },
    {
      "cell_type": "markdown",
      "metadata": {
        "id": "ANpBrpoEkj3J"
      },
      "source": [
        "**Loading the Data**"
      ]
    },
    {
      "cell_type": "markdown",
      "metadata": {
        "id": "fe6GLIJjlCQf"
      },
      "source": [
        "The data set is a compressed (gzip) NDJSON file."
      ]
    },
    {
      "cell_type": "code",
      "execution_count": null,
      "metadata": {
        "id": "jf0moi8ekf9h"
      },
      "outputs": [],
      "source": [
        "import gzip\n",
        "import json\n",
        "from pathlib import Path "
      ]
    },
    {
      "cell_type": "markdown",
      "metadata": {
        "id": "Ywq-dNNrlQPg"
      },
      "source": [
        "The datasets are imported from Google Drive. It's about a classification of companies' landing pages by industry sector. "
      ]
    },
    {
      "cell_type": "code",
      "execution_count": null,
      "metadata": {
        "colab": {
          "base_uri": "https://localhost:8080/"
        },
        "id": "Ibr7jNGlnvuS",
        "outputId": "b57aefef-d6f9-4652-a14d-c10043d1f39b"
      },
      "outputs": [
        {
          "output_type": "stream",
          "name": "stdout",
          "text": [
            "Mounted at /gdrive\n"
          ]
        }
      ],
      "source": [
        "# Mount Google Drive\n",
        "from google.colab import drive\n",
        "drive.mount('/gdrive')\n",
        "data_path = Path('/gdrive/MyDrive/industry_data/')\n",
        "file_name1 = 'train_small.ndjson.gz'\n",
        "file_name2 = 'test_small.ndjson.gz'"
      ]
    },
    {
      "cell_type": "markdown",
      "metadata": {
        "id": "5RVjtKE2utZX"
      },
      "source": [
        "Importing the whole train file "
      ]
    },
    {
      "cell_type": "code",
      "execution_count": null,
      "metadata": {
        "id": "AsCq3pDuujSF"
      },
      "outputs": [],
      "source": [
        "# open train file\n",
        "with gzip.open(data_path/file_name1, \"rt\", encoding='UTF-8') as file:\n",
        "    data1 = [json.loads(line) for line in file]"
      ]
    },
    {
      "cell_type": "markdown",
      "metadata": {
        "id": "l9SbFW7svvzX"
      },
      "source": [
        "Importing the whole test file"
      ]
    },
    {
      "cell_type": "code",
      "execution_count": null,
      "metadata": {
        "id": "VfeG_nvFvyto"
      },
      "outputs": [],
      "source": [
        "# open test file\n",
        "with gzip.open(data_path/file_name2, \"rt\", encoding='UTF-8') as file:\n",
        "    data2 = [json.loads(line) for line in file]"
      ]
    },
    {
      "cell_type": "markdown",
      "metadata": {
        "id": "T_xokDqCwM6O"
      },
      "source": [
        "**Data Visualization**"
      ]
    },
    {
      "cell_type": "markdown",
      "metadata": {
        "id": "_5E8tr0K1s6_"
      },
      "source": [
        "*Training Dataset*"
      ]
    },
    {
      "cell_type": "markdown",
      "metadata": {
        "id": "S5c16DPsw9Gg"
      },
      "source": [
        "The train file is a list of dictionaries, each dictionary is comprised of 4 keys \n",
        "which are: html, industry, industry_label, and url."
      ]
    },
    {
      "cell_type": "code",
      "execution_count": null,
      "metadata": {
        "colab": {
          "base_uri": "https://localhost:8080/"
        },
        "id": "zqRzOCFjwx22",
        "outputId": "666beb0d-b8ce-4bd2-b2d7-a8576108849e"
      },
      "outputs": [
        {
          "output_type": "execute_result",
          "data": {
            "text/plain": [
              "dict_keys(['url', 'html', 'industry', 'industry_label'])"
            ]
          },
          "metadata": {},
          "execution_count": 5
        }
      ],
      "source": [
        "example1 = data1[0]\n",
        "example1.keys() "
      ]
    },
    {
      "cell_type": "code",
      "execution_count": null,
      "metadata": {
        "colab": {
          "base_uri": "https://localhost:8080/",
          "height": 87
        },
        "id": "I4lKqYEbwTIh",
        "outputId": "8b5df51c-e7d4-41f5-e32a-7c82bce7c2a9"
      },
      "outputs": [
        {
          "output_type": "execute_result",
          "data": {
            "application/vnd.google.colaboratory.intrinsic+json": {
              "type": "string"
            },
            "text/plain": [
              "'<!doctype html>\\n<html lang=\"de\">\\n\\t<head>\\n\\t\\t<meta charset=\"utf-8\">\\n\\t\\t<meta name=\"viewport\" content=\"width=device-width, initial-scale=1.0\">\\n\\n\\t\\t<title>Kaiser Personal Service</title>\\n\\n\\t\\t<link rel=\"stylesheet\" href=\"/css/fonts.css?ts=1601589832\">\\n\\t\\t<link rel=\"stylesheet\" href=\"/css/kps.css?ts=1612182547\">\\n\\n\\t\\t<script type=\"text/javascript\" src=\"/js/MooTools-Core-1.6.0.js\"></script>\\n\\t\\t<script type=\"text/javascript\" src=\"/js/MooTools-More-1.6.0.js\"></script>\\n\\t</head>\\n\\t<body>\\n\\t\\t<div id=\"header\">\\n\\t\\t\\t<a href=\"/\" cla'"
            ]
          },
          "metadata": {},
          "execution_count": 6
        }
      ],
      "source": [
        "# Part of the html content of the first observation in the train file\n",
        "example1['html'][:512]"
      ]
    },
    {
      "cell_type": "markdown",
      "metadata": {
        "id": "ZZmkX7Ujyjta"
      },
      "source": [
        "Transformation of the train file constructed before as a list of dictionaries to a dataframe."
      ]
    },
    {
      "cell_type": "code",
      "execution_count": null,
      "metadata": {
        "id": "1ftw98qeyIgs"
      },
      "outputs": [],
      "source": [
        "import pandas as pd\n",
        "data_train = pd.DataFrame(data1)"
      ]
    },
    {
      "cell_type": "code",
      "execution_count": null,
      "metadata": {
        "colab": {
          "base_uri": "https://localhost:8080/"
        },
        "id": "wRXohB4EzJPV",
        "outputId": "1bef043c-6d0f-43d2-f673-c537aa520e15"
      },
      "outputs": [
        {
          "output_type": "execute_result",
          "data": {
            "text/plain": [
              "(25185, 4)"
            ]
          },
          "metadata": {},
          "execution_count": 8
        }
      ],
      "source": [
        "data_train.shape "
      ]
    },
    {
      "cell_type": "code",
      "execution_count": null,
      "metadata": {
        "colab": {
          "base_uri": "https://localhost:8080/",
          "height": 206
        },
        "id": "jHPNapH0zCd3",
        "outputId": "f1b6a84d-57a0-494f-bfc6-731835b7caae"
      },
      "outputs": [
        {
          "output_type": "execute_result",
          "data": {
            "text/html": [
              "\n",
              "  <div id=\"df-0aa500dd-693f-4e15-9d4a-784c7d931ae3\">\n",
              "    <div class=\"colab-df-container\">\n",
              "      <div>\n",
              "<style scoped>\n",
              "    .dataframe tbody tr th:only-of-type {\n",
              "        vertical-align: middle;\n",
              "    }\n",
              "\n",
              "    .dataframe tbody tr th {\n",
              "        vertical-align: top;\n",
              "    }\n",
              "\n",
              "    .dataframe thead th {\n",
              "        text-align: right;\n",
              "    }\n",
              "</style>\n",
              "<table border=\"1\" class=\"dataframe\">\n",
              "  <thead>\n",
              "    <tr style=\"text-align: right;\">\n",
              "      <th></th>\n",
              "      <th>url</th>\n",
              "      <th>html</th>\n",
              "      <th>industry</th>\n",
              "      <th>industry_label</th>\n",
              "    </tr>\n",
              "  </thead>\n",
              "  <tbody>\n",
              "    <tr>\n",
              "      <th>0</th>\n",
              "      <td>http://www.kaiser-personal-service.de</td>\n",
              "      <td>&lt;!doctype html&gt;\\n&lt;html lang=\"de\"&gt;\\n\\t&lt;head&gt;\\n\\...</td>\n",
              "      <td>137</td>\n",
              "      <td>Human Resources</td>\n",
              "    </tr>\n",
              "    <tr>\n",
              "      <th>1</th>\n",
              "      <td>http://www.brandseven.com</td>\n",
              "      <td>&lt;!DOCTYPE html&gt;\\n&lt;html class=\"html\" lang=\"de-D...</td>\n",
              "      <td>96</td>\n",
              "      <td>Information Technology and Services</td>\n",
              "    </tr>\n",
              "    <tr>\n",
              "      <th>2</th>\n",
              "      <td>http://www.beumergroup.com</td>\n",
              "      <td>&lt;!DOCTYPE html&gt;\\n&lt;html class=\"home page-templa...</td>\n",
              "      <td>135</td>\n",
              "      <td>Mechanical or Industrial Engineering</td>\n",
              "    </tr>\n",
              "    <tr>\n",
              "      <th>3</th>\n",
              "      <td>http://www.aurigavision.com</td>\n",
              "      <td>&lt;!doctype html&gt;\\n&lt;!--[if IE 8]&gt;         &lt;html ...</td>\n",
              "      <td>13</td>\n",
              "      <td>Medical Practice</td>\n",
              "    </tr>\n",
              "    <tr>\n",
              "      <th>4</th>\n",
              "      <td>http://www.comme-a-la-maison.ch</td>\n",
              "      <td>&lt;!DOCTYPE html&gt;\\n&lt;html lang=\"fr\"&gt;\\n&lt;head&gt;\\n\\n&lt;...</td>\n",
              "      <td>48</td>\n",
              "      <td>Construction</td>\n",
              "    </tr>\n",
              "  </tbody>\n",
              "</table>\n",
              "</div>\n",
              "      <button class=\"colab-df-convert\" onclick=\"convertToInteractive('df-0aa500dd-693f-4e15-9d4a-784c7d931ae3')\"\n",
              "              title=\"Convert this dataframe to an interactive table.\"\n",
              "              style=\"display:none;\">\n",
              "        \n",
              "  <svg xmlns=\"http://www.w3.org/2000/svg\" height=\"24px\"viewBox=\"0 0 24 24\"\n",
              "       width=\"24px\">\n",
              "    <path d=\"M0 0h24v24H0V0z\" fill=\"none\"/>\n",
              "    <path d=\"M18.56 5.44l.94 2.06.94-2.06 2.06-.94-2.06-.94-.94-2.06-.94 2.06-2.06.94zm-11 1L8.5 8.5l.94-2.06 2.06-.94-2.06-.94L8.5 2.5l-.94 2.06-2.06.94zm10 10l.94 2.06.94-2.06 2.06-.94-2.06-.94-.94-2.06-.94 2.06-2.06.94z\"/><path d=\"M17.41 7.96l-1.37-1.37c-.4-.4-.92-.59-1.43-.59-.52 0-1.04.2-1.43.59L10.3 9.45l-7.72 7.72c-.78.78-.78 2.05 0 2.83L4 21.41c.39.39.9.59 1.41.59.51 0 1.02-.2 1.41-.59l7.78-7.78 2.81-2.81c.8-.78.8-2.07 0-2.86zM5.41 20L4 18.59l7.72-7.72 1.47 1.35L5.41 20z\"/>\n",
              "  </svg>\n",
              "      </button>\n",
              "      \n",
              "  <style>\n",
              "    .colab-df-container {\n",
              "      display:flex;\n",
              "      flex-wrap:wrap;\n",
              "      gap: 12px;\n",
              "    }\n",
              "\n",
              "    .colab-df-convert {\n",
              "      background-color: #E8F0FE;\n",
              "      border: none;\n",
              "      border-radius: 50%;\n",
              "      cursor: pointer;\n",
              "      display: none;\n",
              "      fill: #1967D2;\n",
              "      height: 32px;\n",
              "      padding: 0 0 0 0;\n",
              "      width: 32px;\n",
              "    }\n",
              "\n",
              "    .colab-df-convert:hover {\n",
              "      background-color: #E2EBFA;\n",
              "      box-shadow: 0px 1px 2px rgba(60, 64, 67, 0.3), 0px 1px 3px 1px rgba(60, 64, 67, 0.15);\n",
              "      fill: #174EA6;\n",
              "    }\n",
              "\n",
              "    [theme=dark] .colab-df-convert {\n",
              "      background-color: #3B4455;\n",
              "      fill: #D2E3FC;\n",
              "    }\n",
              "\n",
              "    [theme=dark] .colab-df-convert:hover {\n",
              "      background-color: #434B5C;\n",
              "      box-shadow: 0px 1px 3px 1px rgba(0, 0, 0, 0.15);\n",
              "      filter: drop-shadow(0px 1px 2px rgba(0, 0, 0, 0.3));\n",
              "      fill: #FFFFFF;\n",
              "    }\n",
              "  </style>\n",
              "\n",
              "      <script>\n",
              "        const buttonEl =\n",
              "          document.querySelector('#df-0aa500dd-693f-4e15-9d4a-784c7d931ae3 button.colab-df-convert');\n",
              "        buttonEl.style.display =\n",
              "          google.colab.kernel.accessAllowed ? 'block' : 'none';\n",
              "\n",
              "        async function convertToInteractive(key) {\n",
              "          const element = document.querySelector('#df-0aa500dd-693f-4e15-9d4a-784c7d931ae3');\n",
              "          const dataTable =\n",
              "            await google.colab.kernel.invokeFunction('convertToInteractive',\n",
              "                                                     [key], {});\n",
              "          if (!dataTable) return;\n",
              "\n",
              "          const docLinkHtml = 'Like what you see? Visit the ' +\n",
              "            '<a target=\"_blank\" href=https://colab.research.google.com/notebooks/data_table.ipynb>data table notebook</a>'\n",
              "            + ' to learn more about interactive tables.';\n",
              "          element.innerHTML = '';\n",
              "          dataTable['output_type'] = 'display_data';\n",
              "          await google.colab.output.renderOutput(dataTable, element);\n",
              "          const docLink = document.createElement('div');\n",
              "          docLink.innerHTML = docLinkHtml;\n",
              "          element.appendChild(docLink);\n",
              "        }\n",
              "      </script>\n",
              "    </div>\n",
              "  </div>\n",
              "  "
            ],
            "text/plain": [
              "                                     url  ...                        industry_label\n",
              "0  http://www.kaiser-personal-service.de  ...                       Human Resources\n",
              "1              http://www.brandseven.com  ...   Information Technology and Services\n",
              "2             http://www.beumergroup.com  ...  Mechanical or Industrial Engineering\n",
              "3            http://www.aurigavision.com  ...                      Medical Practice\n",
              "4        http://www.comme-a-la-maison.ch  ...                          Construction\n",
              "\n",
              "[5 rows x 4 columns]"
            ]
          },
          "metadata": {},
          "execution_count": 9
        }
      ],
      "source": [
        "data_train.head()"
      ]
    },
    {
      "cell_type": "markdown",
      "metadata": {
        "id": "xmGvIOfR0BmK"
      },
      "source": [
        "Exploration of the distribution of the different classes in the training dataset. There are 19 industry classes."
      ]
    },
    {
      "cell_type": "code",
      "execution_count": null,
      "metadata": {
        "colab": {
          "base_uri": "https://localhost:8080/",
          "height": 563
        },
        "id": "hAVKxIf_zvYx",
        "outputId": "76063827-c09a-45ef-9e7f-a2aa195b83d4"
      },
      "outputs": [
        {
          "output_type": "display_data",
          "data": {
            "image/png": "[encoded data removed]",
            "text/plain": [
              "<Figure size 576x432 with 1 Axes>"
            ]
          },
          "metadata": {
            "needs_background": "light"
          }
        }
      ],
      "source": [
        "import matplotlib.pyplot as plt\n",
        "fig = plt.figure(figsize=(8,6))\n",
        "data_train.groupby('industry_label').html.count().sort_values(ascending=False).plot.bar(ylim=0)\n",
        "plt.show()"
      ]
    },
    {
      "cell_type": "code",
      "execution_count": null,
      "metadata": {
        "colab": {
          "base_uri": "https://localhost:8080/"
        },
        "id": "UR8axN2B3r7p",
        "outputId": "b6f617cb-c6ec-4c9a-e3b8-00f5a7682c7f"
      },
      "outputs": [
        {
          "output_type": "execute_result",
          "data": {
            "text/plain": [
              "Information Technology and Services     5191\n",
              "Mechanical or Industrial Engineering    3147\n",
              "Marketing and Advertising               2418\n",
              "Management Consulting                   2192\n",
              "Financial Services                      1414\n",
              "Wholesale                               1414\n",
              "Medical Practice                        1217\n",
              "Construction                            1191\n",
              "Automotive                              1050\n",
              "Consumer Goods                          1040\n",
              "Renewables & Environment                 874\n",
              "Real Estate                              764\n",
              "Human Resources                          619\n",
              "Recreational Facilities and Services     469\n",
              "Telecommunications                       466\n",
              "Logistics and Supply Chain               463\n",
              "Legal Services                           439\n",
              "Insurance                                418\n",
              "Leisure, Travel & Tourism                399\n",
              "Name: industry_label, dtype: int64"
            ]
          },
          "metadata": {},
          "execution_count": 11
        }
      ],
      "source": [
        "data_train['industry_label'].value_counts()"
      ]
    },
    {
      "cell_type": "markdown",
      "metadata": {
        "id": "phmHADzB2iVh"
      },
      "source": [
        "The training dataset is imbalanced. It comprises 25185 observations, in which the \"Information Technology and Services\" class is the most frequent one with 5191 observations, and the \"Leisure, Travel & Tourism\" class has the minimum occurrence with only 399 observations."
      ]
    },
    {
      "cell_type": "code",
      "execution_count": null,
      "metadata": {
        "colab": {
          "base_uri": "https://localhost:8080/"
        },
        "id": "4_C3Qs_4KusE",
        "outputId": "ffc4a264-1c72-4eee-e25e-44e5d7b7240d"
      },
      "outputs": [
        {
          "output_type": "stream",
          "name": "stdout",
          "text": [
            "395211490\n"
          ]
        }
      ],
      "source": [
        "# Number of words in the training dataset\n",
        "print(data_train['html'].apply(lambda x: len(x.split(' '))).sum())"
      ]
    },
    {
      "cell_type": "markdown",
      "metadata": {
        "id": "oPISMB4oNtyS"
      },
      "source": [
        "There are nearly 395 million words in the 'html' column relative to the train set. "
      ]
    },
    {
      "cell_type": "markdown",
      "metadata": {
        "id": "5clS-L2t6QVh"
      },
      "source": [
        "*Test Dataset*"
      ]
    },
    {
      "cell_type": "markdown",
      "metadata": {
        "id": "QBqZEm0i6hO6"
      },
      "source": [
        "The test file is also a list of dictionaries, each dictionary comprises 4 keys which are: html, industry, industry_label, and url."
      ]
    },
    {
      "cell_type": "code",
      "execution_count": null,
      "metadata": {
        "colab": {
          "base_uri": "https://localhost:8080/"
        },
        "id": "w-mLb-fyNLPp",
        "outputId": "38cb363a-3bae-4f68-ff88-6c4678aeb39e"
      },
      "outputs": [
        {
          "output_type": "execute_result",
          "data": {
            "text/plain": [
              "dict_keys(['url', 'html', 'industry', 'industry_label'])"
            ]
          },
          "metadata": {},
          "execution_count": 13
        }
      ],
      "source": [
        "example2 = data2[0]\n",
        "example2.keys()"
      ]
    },
    {
      "cell_type": "code",
      "execution_count": null,
      "metadata": {
        "colab": {
          "base_uri": "https://localhost:8080/",
          "height": 87
        },
        "id": "hO0wVwajNVLf",
        "outputId": "9b00c341-8fc3-4479-95d6-294b5630a7d2"
      },
      "outputs": [
        {
          "output_type": "execute_result",
          "data": {
            "application/vnd.google.colaboratory.intrinsic+json": {
              "type": "string"
            },
            "text/plain": [
              "'<!-- HTML --><!DOCTYPE html><html lang=\"de\" xmlns=\"http://www.w3.org/1999/xhtml\"><head>\\n<meta content=\"ad5ef4c6-83e0-425a-a257-e16bdb6590e9\" name=\"csrf-token\" />\\n   <title>Elektromarkt in Ihrer Nähe mit Online-Shop – expert</title> <meta name=\"description\" content=\"Finden Sie hier Ihren expert Elektrofachmarkt in Ihrer Nähe und viele Aktionsangebote ✔ günstig im expert Online-Shop. expert – Mit den besten Empfehlungen.\"> <meta charset=\"utf-8\"/> <meta http-equiv=\"X-UA-Compatible\" content=\"IE=edge\"/> <meta co'"
            ]
          },
          "metadata": {},
          "execution_count": 14
        }
      ],
      "source": [
        "# Part of the html content of the first observation in the test file\n",
        "example2['html'][:512]"
      ]
    },
    {
      "cell_type": "markdown",
      "metadata": {
        "id": "u_WUGc5aNfgK"
      },
      "source": [
        "Transformation of the test file constructed before as a list of dictionaries to a dataframe."
      ]
    },
    {
      "cell_type": "code",
      "execution_count": null,
      "metadata": {
        "id": "LlzBEsoA0kVR"
      },
      "outputs": [],
      "source": [
        "import pandas as pd\n",
        "data_test = pd.DataFrame(data2) "
      ]
    },
    {
      "cell_type": "code",
      "execution_count": null,
      "metadata": {
        "colab": {
          "base_uri": "https://localhost:8080/"
        },
        "id": "Skc5xzhy0kfD",
        "outputId": "e0ecc48e-f940-437d-dc38-127f8f5fb7fd"
      },
      "outputs": [
        {
          "output_type": "execute_result",
          "data": {
            "text/plain": [
              "(8396, 4)"
            ]
          },
          "metadata": {},
          "execution_count": 16
        }
      ],
      "source": [
        "data_test.shape "
      ]
    },
    {
      "cell_type": "code",
      "execution_count": null,
      "metadata": {
        "colab": {
          "base_uri": "https://localhost:8080/",
          "height": 206
        },
        "id": "YMEbqkm37N3b",
        "outputId": "c363e185-7420-4b09-8776-0372cd1c9729"
      },
      "outputs": [
        {
          "output_type": "execute_result",
          "data": {
            "text/html": [
              "\n",
              "  <div id=\"df-8033a31f-3640-4256-9af6-a9e316f8f19d\">\n",
              "    <div class=\"colab-df-container\">\n",
              "      <div>\n",
              "<style scoped>\n",
              "    .dataframe tbody tr th:only-of-type {\n",
              "        vertical-align: middle;\n",
              "    }\n",
              "\n",
              "    .dataframe tbody tr th {\n",
              "        vertical-align: top;\n",
              "    }\n",
              "\n",
              "    .dataframe thead th {\n",
              "        text-align: right;\n",
              "    }\n",
              "</style>\n",
              "<table border=\"1\" class=\"dataframe\">\n",
              "  <thead>\n",
              "    <tr style=\"text-align: right;\">\n",
              "      <th></th>\n",
              "      <th>url</th>\n",
              "      <th>html</th>\n",
              "      <th>industry</th>\n",
              "      <th>industry_label</th>\n",
              "    </tr>\n",
              "  </thead>\n",
              "  <tbody>\n",
              "    <tr>\n",
              "      <th>0</th>\n",
              "      <td>http://www.expert.de</td>\n",
              "      <td>&lt;!-- HTML --&gt;&lt;!DOCTYPE html&gt;&lt;html lang=\"de\" xm...</td>\n",
              "      <td>133</td>\n",
              "      <td>Wholesale</td>\n",
              "    </tr>\n",
              "    <tr>\n",
              "      <th>1</th>\n",
              "      <td>http://www.weight-watchers.de</td>\n",
              "      <td>&lt;!doctype html&gt;&lt;html lang=\"de\" xmlns=\"http://w...</td>\n",
              "      <td>13</td>\n",
              "      <td>Medical Practice</td>\n",
              "    </tr>\n",
              "    <tr>\n",
              "      <th>2</th>\n",
              "      <td>http://www.sk-rade.de</td>\n",
              "      <td>&lt;!DOCTYPE html&gt;\\r\\n\\t\\t&lt;html lang=\"de\" class=\"...</td>\n",
              "      <td>43</td>\n",
              "      <td>Financial Services</td>\n",
              "    </tr>\n",
              "    <tr>\n",
              "      <th>3</th>\n",
              "      <td>http://www.getahead.de</td>\n",
              "      <td>&lt;!DOCTYPE html&gt;\\n&lt;!-- HTML5 --&gt;\\n&lt;html lang=\"d...</td>\n",
              "      <td>137</td>\n",
              "      <td>Human Resources</td>\n",
              "    </tr>\n",
              "    <tr>\n",
              "      <th>4</th>\n",
              "      <td>http://www.pfalzwerke-netz.de</td>\n",
              "      <td>&lt;!doctype html&gt;\\n&lt;html class=\"no-js\" lang=\"de\"...</td>\n",
              "      <td>144</td>\n",
              "      <td>Renewables &amp; Environment</td>\n",
              "    </tr>\n",
              "  </tbody>\n",
              "</table>\n",
              "</div>\n",
              "      <button class=\"colab-df-convert\" onclick=\"convertToInteractive('df-8033a31f-3640-4256-9af6-a9e316f8f19d')\"\n",
              "              title=\"Convert this dataframe to an interactive table.\"\n",
              "              style=\"display:none;\">\n",
              "        \n",
              "  <svg xmlns=\"http://www.w3.org/2000/svg\" height=\"24px\"viewBox=\"0 0 24 24\"\n",
              "       width=\"24px\">\n",
              "    <path d=\"M0 0h24v24H0V0z\" fill=\"none\"/>\n",
              "    <path d=\"M18.56 5.44l.94 2.06.94-2.06 2.06-.94-2.06-.94-.94-2.06-.94 2.06-2.06.94zm-11 1L8.5 8.5l.94-2.06 2.06-.94-2.06-.94L8.5 2.5l-.94 2.06-2.06.94zm10 10l.94 2.06.94-2.06 2.06-.94-2.06-.94-.94-2.06-.94 2.06-2.06.94z\"/><path d=\"M17.41 7.96l-1.37-1.37c-.4-.4-.92-.59-1.43-.59-.52 0-1.04.2-1.43.59L10.3 9.45l-7.72 7.72c-.78.78-.78 2.05 0 2.83L4 21.41c.39.39.9.59 1.41.59.51 0 1.02-.2 1.41-.59l7.78-7.78 2.81-2.81c.8-.78.8-2.07 0-2.86zM5.41 20L4 18.59l7.72-7.72 1.47 1.35L5.41 20z\"/>\n",
              "  </svg>\n",
              "      </button>\n",
              "      \n",
              "  <style>\n",
              "    .colab-df-container {\n",
              "      display:flex;\n",
              "      flex-wrap:wrap;\n",
              "      gap: 12px;\n",
              "    }\n",
              "\n",
              "    .colab-df-convert {\n",
              "      background-color: #E8F0FE;\n",
              "      border: none;\n",
              "      border-radius: 50%;\n",
              "      cursor: pointer;\n",
              "      display: none;\n",
              "      fill: #1967D2;\n",
              "      height: 32px;\n",
              "      padding: 0 0 0 0;\n",
              "      width: 32px;\n",
              "    }\n",
              "\n",
              "    .colab-df-convert:hover {\n",
              "      background-color: #E2EBFA;\n",
              "      box-shadow: 0px 1px 2px rgba(60, 64, 67, 0.3), 0px 1px 3px 1px rgba(60, 64, 67, 0.15);\n",
              "      fill: #174EA6;\n",
              "    }\n",
              "\n",
              "    [theme=dark] .colab-df-convert {\n",
              "      background-color: #3B4455;\n",
              "      fill: #D2E3FC;\n",
              "    }\n",
              "\n",
              "    [theme=dark] .colab-df-convert:hover {\n",
              "      background-color: #434B5C;\n",
              "      box-shadow: 0px 1px 3px 1px rgba(0, 0, 0, 0.15);\n",
              "      filter: drop-shadow(0px 1px 2px rgba(0, 0, 0, 0.3));\n",
              "      fill: #FFFFFF;\n",
              "    }\n",
              "  </style>\n",
              "\n",
              "      <script>\n",
              "        const buttonEl =\n",
              "          document.querySelector('#df-8033a31f-3640-4256-9af6-a9e316f8f19d button.colab-df-convert');\n",
              "        buttonEl.style.display =\n",
              "          google.colab.kernel.accessAllowed ? 'block' : 'none';\n",
              "\n",
              "        async function convertToInteractive(key) {\n",
              "          const element = document.querySelector('#df-8033a31f-3640-4256-9af6-a9e316f8f19d');\n",
              "          const dataTable =\n",
              "            await google.colab.kernel.invokeFunction('convertToInteractive',\n",
              "                                                     [key], {});\n",
              "          if (!dataTable) return;\n",
              "\n",
              "          const docLinkHtml = 'Like what you see? Visit the ' +\n",
              "            '<a target=\"_blank\" href=https://colab.research.google.com/notebooks/data_table.ipynb>data table notebook</a>'\n",
              "            + ' to learn more about interactive tables.';\n",
              "          element.innerHTML = '';\n",
              "          dataTable['output_type'] = 'display_data';\n",
              "          await google.colab.output.renderOutput(dataTable, element);\n",
              "          const docLink = document.createElement('div');\n",
              "          docLink.innerHTML = docLinkHtml;\n",
              "          element.appendChild(docLink);\n",
              "        }\n",
              "      </script>\n",
              "    </div>\n",
              "  </div>\n",
              "  "
            ],
            "text/plain": [
              "                             url  ...            industry_label\n",
              "0           http://www.expert.de  ...                 Wholesale\n",
              "1  http://www.weight-watchers.de  ...          Medical Practice\n",
              "2          http://www.sk-rade.de  ...        Financial Services\n",
              "3         http://www.getahead.de  ...           Human Resources\n",
              "4  http://www.pfalzwerke-netz.de  ...  Renewables & Environment\n",
              "\n",
              "[5 rows x 4 columns]"
            ]
          },
          "metadata": {},
          "execution_count": 17
        }
      ],
      "source": [
        "data_test.head()"
      ]
    },
    {
      "cell_type": "markdown",
      "metadata": {
        "id": "KzCyB-D47o1J"
      },
      "source": [
        "Exploration of the distribution of the different classes in the test dataset. There are also 19 industry classes."
      ]
    },
    {
      "cell_type": "code",
      "execution_count": null,
      "metadata": {
        "colab": {
          "base_uri": "https://localhost:8080/",
          "height": 563
        },
        "id": "pE9EBx8V7vEq",
        "outputId": "d5133798-14a6-44f6-e012-85fed63b1a7b"
      },
      "outputs": [
        {
          "output_type": "display_data",
          "data": {
            "image/png": "[encoded data removed]",
            "text/plain": [
              "<Figure size 576x432 with 1 Axes>"
            ]
          },
          "metadata": {
            "needs_background": "light"
          }
        }
      ],
      "source": [
        "import matplotlib.pyplot as plt\n",
        "fig = plt.figure(figsize=(8,6))\n",
        "data_test.groupby('industry_label').html.count().sort_values(ascending=False).plot.bar(ylim=0)\n",
        "plt.show()"
      ]
    },
    {
      "cell_type": "code",
      "execution_count": null,
      "metadata": {
        "colab": {
          "base_uri": "https://localhost:8080/"
        },
        "id": "wfeYa2Wh8L79",
        "outputId": "5b10968f-b5d1-4b5d-e547-28e36201b319"
      },
      "outputs": [
        {
          "output_type": "execute_result",
          "data": {
            "text/plain": [
              "Information Technology and Services     1671\n",
              "Mechanical or Industrial Engineering    1004\n",
              "Marketing and Advertising                830\n",
              "Management Consulting                    759\n",
              "Financial Services                       469\n",
              "Wholesale                                468\n",
              "Medical Practice                         395\n",
              "Construction                             390\n",
              "Consumer Goods                           372\n",
              "Automotive                               356\n",
              "Renewables & Environment                 290\n",
              "Real Estate                              240\n",
              "Human Resources                          218\n",
              "Logistics and Supply Chain               183\n",
              "Recreational Facilities and Services     163\n",
              "Telecommunications                       153\n",
              "Insurance                                152\n",
              "Leisure, Travel & Tourism                148\n",
              "Legal Services                           135\n",
              "Name: industry_label, dtype: int64"
            ]
          },
          "metadata": {},
          "execution_count": 19
        }
      ],
      "source": [
        "data_test['industry_label'].value_counts()"
      ]
    },
    {
      "cell_type": "markdown",
      "metadata": {
        "id": "uMBMP77F8XX_"
      },
      "source": [
        "The test dataset is also imbalanced. It is comprised of 8396 observations, in which the \"Information Technology and Services\" class is the most frequent with 1671 observations, and the \"Legal Services\" class has the minimum occurrence with only 135 observations."
      ]
    },
    {
      "cell_type": "code",
      "execution_count": null,
      "metadata": {
        "colab": {
          "base_uri": "https://localhost:8080/"
        },
        "id": "bImH4rpGLlBs",
        "outputId": "9dcdb75b-b1f0-483e-d463-cc39edc2a79d"
      },
      "outputs": [
        {
          "output_type": "stream",
          "name": "stdout",
          "text": [
            "135251555\n"
          ]
        }
      ],
      "source": [
        "# Number of words in the test dataset\n",
        "print(data_test['html'].apply(lambda x: len(x.split(' '))).sum())"
      ]
    },
    {
      "cell_type": "markdown",
      "metadata": {
        "id": "o5ATGOKOO6Y-"
      },
      "source": [
        "There are nearly 135 million words in the 'html' column relative to the test set."
      ]
    },
    {
      "cell_type": "markdown",
      "metadata": {
        "id": "8g_sliTzqCWz"
      },
      "source": [
        "**Data Cleaning**"
      ]
    },
    {
      "cell_type": "markdown",
      "metadata": {
        "id": "ODpTYRQ8qJzj"
      },
      "source": [
        "The landing pages of companies are classified based on their html files. In order to get a better accuracy, one needs to clean these html files to obtain proper texts that are ready for training and testing. So, the html is decoded by usig the \"BeautifulSoup\" command, and the punctuations that are not relevant for the training process are removed. "
      ]
    },
    {
      "cell_type": "code",
      "execution_count": null,
      "metadata": {
        "id": "H0-iUj5jp43E"
      },
      "outputs": [],
      "source": [
        "import string\n",
        "from bs4 import BeautifulSoup\n",
        "PUNCT_TO_REMOVE = string.punctuation\n",
        "def cleaning_text(text):\n",
        "    \"\"\"custom function to remove the punctuation\"\"\"\n",
        "    text = text.replace('\\n', ' ')\n",
        "    text = BeautifulSoup(text, 'html.parser').text # HTML decoding\n",
        "    text = text.translate(str.maketrans('', '', PUNCT_TO_REMOVE))\n",
        "    return text"
      ]
    },
    {
      "cell_type": "markdown",
      "metadata": {
        "id": "-e01g3Mm103S"
      },
      "source": [
        "*Training Dataset after Cleaning*"
      ]
    },
    {
      "cell_type": "code",
      "execution_count": null,
      "metadata": {
        "colab": {
          "base_uri": "https://localhost:8080/",
          "height": 206
        },
        "id": "p6bF3vRlsWdX",
        "outputId": "38e7350f-b47e-4559-a3a8-4822895e2cd7"
      },
      "outputs": [
        {
          "output_type": "execute_result",
          "data": {
            "text/html": [
              "\n",
              "  <div id=\"df-ceb35945-7d32-4e1a-a8dc-de31aa50c97c\">\n",
              "    <div class=\"colab-df-container\">\n",
              "      <div>\n",
              "<style scoped>\n",
              "    .dataframe tbody tr th:only-of-type {\n",
              "        vertical-align: middle;\n",
              "    }\n",
              "\n",
              "    .dataframe tbody tr th {\n",
              "        vertical-align: top;\n",
              "    }\n",
              "\n",
              "    .dataframe thead th {\n",
              "        text-align: right;\n",
              "    }\n",
              "</style>\n",
              "<table border=\"1\" class=\"dataframe\">\n",
              "  <thead>\n",
              "    <tr style=\"text-align: right;\">\n",
              "      <th></th>\n",
              "      <th>url</th>\n",
              "      <th>html</th>\n",
              "      <th>industry</th>\n",
              "      <th>industry_label</th>\n",
              "    </tr>\n",
              "  </thead>\n",
              "  <tbody>\n",
              "    <tr>\n",
              "      <th>25180</th>\n",
              "      <td>http://www.starkhomes.com</td>\n",
              "      <td>South Central Wisconsin Real E...</td>\n",
              "      <td>44</td>\n",
              "      <td>Real Estate</td>\n",
              "    </tr>\n",
              "    <tr>\n",
              "      <th>25181</th>\n",
              "      <td>http://www.hotel-konsul.de</td>\n",
              "      <td>Hotel Konsul  Hotel Konsul             ...</td>\n",
              "      <td>30</td>\n",
              "      <td>Leisure, Travel &amp; Tourism</td>\n",
              "    </tr>\n",
              "    <tr>\n",
              "      <th>25182</th>\n",
              "      <td>http://www.suva.ch</td>\n",
              "      <td>Suva  Unfallv...</td>\n",
              "      <td>42</td>\n",
              "      <td>Insurance</td>\n",
              "    </tr>\n",
              "    <tr>\n",
              "      <th>25183</th>\n",
              "      <td>http://www.wiegandsystem.de</td>\n",
              "      <td>asynchide  opacity 0 important  functionasy...</td>\n",
              "      <td>13</td>\n",
              "      <td>Medical Practice</td>\n",
              "    </tr>\n",
              "    <tr>\n",
              "      <th>25184</th>\n",
              "      <td>http://www.coresystems.net</td>\n",
              "      <td>SAP Field Service Management l field se...</td>\n",
              "      <td>96</td>\n",
              "      <td>Information Technology and Services</td>\n",
              "    </tr>\n",
              "  </tbody>\n",
              "</table>\n",
              "</div>\n",
              "      <button class=\"colab-df-convert\" onclick=\"convertToInteractive('df-ceb35945-7d32-4e1a-a8dc-de31aa50c97c')\"\n",
              "              title=\"Convert this dataframe to an interactive table.\"\n",
              "              style=\"display:none;\">\n",
              "        \n",
              "  <svg xmlns=\"http://www.w3.org/2000/svg\" height=\"24px\"viewBox=\"0 0 24 24\"\n",
              "       width=\"24px\">\n",
              "    <path d=\"M0 0h24v24H0V0z\" fill=\"none\"/>\n",
              "    <path d=\"M18.56 5.44l.94 2.06.94-2.06 2.06-.94-2.06-.94-.94-2.06-.94 2.06-2.06.94zm-11 1L8.5 8.5l.94-2.06 2.06-.94-2.06-.94L8.5 2.5l-.94 2.06-2.06.94zm10 10l.94 2.06.94-2.06 2.06-.94-2.06-.94-.94-2.06-.94 2.06-2.06.94z\"/><path d=\"M17.41 7.96l-1.37-1.37c-.4-.4-.92-.59-1.43-.59-.52 0-1.04.2-1.43.59L10.3 9.45l-7.72 7.72c-.78.78-.78 2.05 0 2.83L4 21.41c.39.39.9.59 1.41.59.51 0 1.02-.2 1.41-.59l7.78-7.78 2.81-2.81c.8-.78.8-2.07 0-2.86zM5.41 20L4 18.59l7.72-7.72 1.47 1.35L5.41 20z\"/>\n",
              "  </svg>\n",
              "      </button>\n",
              "      \n",
              "  <style>\n",
              "    .colab-df-container {\n",
              "      display:flex;\n",
              "      flex-wrap:wrap;\n",
              "      gap: 12px;\n",
              "    }\n",
              "\n",
              "    .colab-df-convert {\n",
              "      background-color: #E8F0FE;\n",
              "      border: none;\n",
              "      border-radius: 50%;\n",
              "      cursor: pointer;\n",
              "      display: none;\n",
              "      fill: #1967D2;\n",
              "      height: 32px;\n",
              "      padding: 0 0 0 0;\n",
              "      width: 32px;\n",
              "    }\n",
              "\n",
              "    .colab-df-convert:hover {\n",
              "      background-color: #E2EBFA;\n",
              "      box-shadow: 0px 1px 2px rgba(60, 64, 67, 0.3), 0px 1px 3px 1px rgba(60, 64, 67, 0.15);\n",
              "      fill: #174EA6;\n",
              "    }\n",
              "\n",
              "    [theme=dark] .colab-df-convert {\n",
              "      background-color: #3B4455;\n",
              "      fill: #D2E3FC;\n",
              "    }\n",
              "\n",
              "    [theme=dark] .colab-df-convert:hover {\n",
              "      background-color: #434B5C;\n",
              "      box-shadow: 0px 1px 3px 1px rgba(0, 0, 0, 0.15);\n",
              "      filter: drop-shadow(0px 1px 2px rgba(0, 0, 0, 0.3));\n",
              "      fill: #FFFFFF;\n",
              "    }\n",
              "  </style>\n",
              "\n",
              "      <script>\n",
              "        const buttonEl =\n",
              "          document.querySelector('#df-ceb35945-7d32-4e1a-a8dc-de31aa50c97c button.colab-df-convert');\n",
              "        buttonEl.style.display =\n",
              "          google.colab.kernel.accessAllowed ? 'block' : 'none';\n",
              "\n",
              "        async function convertToInteractive(key) {\n",
              "          const element = document.querySelector('#df-ceb35945-7d32-4e1a-a8dc-de31aa50c97c');\n",
              "          const dataTable =\n",
              "            await google.colab.kernel.invokeFunction('convertToInteractive',\n",
              "                                                     [key], {});\n",
              "          if (!dataTable) return;\n",
              "\n",
              "          const docLinkHtml = 'Like what you see? Visit the ' +\n",
              "            '<a target=\"_blank\" href=https://colab.research.google.com/notebooks/data_table.ipynb>data table notebook</a>'\n",
              "            + ' to learn more about interactive tables.';\n",
              "          element.innerHTML = '';\n",
              "          dataTable['output_type'] = 'display_data';\n",
              "          await google.colab.output.renderOutput(dataTable, element);\n",
              "          const docLink = document.createElement('div');\n",
              "          docLink.innerHTML = docLinkHtml;\n",
              "          element.appendChild(docLink);\n",
              "        }\n",
              "      </script>\n",
              "    </div>\n",
              "  </div>\n",
              "  "
            ],
            "text/plain": [
              "                               url  ...                       industry_label\n",
              "25180    http://www.starkhomes.com  ...                          Real Estate\n",
              "25181   http://www.hotel-konsul.de  ...            Leisure, Travel & Tourism\n",
              "25182           http://www.suva.ch  ...                            Insurance\n",
              "25183  http://www.wiegandsystem.de  ...                     Medical Practice\n",
              "25184   http://www.coresystems.net  ...  Information Technology and Services\n",
              "\n",
              "[5 rows x 4 columns]"
            ]
          },
          "metadata": {},
          "execution_count": 22
        }
      ],
      "source": [
        "data_train['html'] = data_train['html'].apply(cleaning_text)\n",
        "data_train.tail()"
      ]
    },
    {
      "cell_type": "code",
      "execution_count": null,
      "metadata": {
        "colab": {
          "base_uri": "https://localhost:8080/"
        },
        "id": "J0hnXdz00rPm",
        "outputId": "40f98fc5-2a22-4d61-a35f-ee106524c2ac"
      },
      "outputs": [
        {
          "output_type": "stream",
          "name": "stdout",
          "text": [
            "170234367\n"
          ]
        }
      ],
      "source": [
        "# Number of words in the training dataset\n",
        "print(data_train['html'].apply(lambda x: len(x.split(' '))).sum())"
      ]
    },
    {
      "cell_type": "markdown",
      "metadata": {
        "id": "k69dFVEV07UK"
      },
      "source": [
        "More than one-half of the html content is cleaned."
      ]
    },
    {
      "cell_type": "markdown",
      "metadata": {
        "id": "Lk_feAGM2Fbw"
      },
      "source": [
        "*Test Dataset after Cleaning*"
      ]
    },
    {
      "cell_type": "code",
      "execution_count": null,
      "metadata": {
        "id": "SQEfXIowxdKW",
        "colab": {
          "base_uri": "https://localhost:8080/",
          "height": 206
        },
        "outputId": "ee502272-af60-4928-f463-1ac88f65931d"
      },
      "outputs": [
        {
          "output_type": "execute_result",
          "data": {
            "text/html": [
              "\n",
              "  <div id=\"df-91ed2a0a-7871-46fd-bb7b-ea425e5bb2a6\">\n",
              "    <div class=\"colab-df-container\">\n",
              "      <div>\n",
              "<style scoped>\n",
              "    .dataframe tbody tr th:only-of-type {\n",
              "        vertical-align: middle;\n",
              "    }\n",
              "\n",
              "    .dataframe tbody tr th {\n",
              "        vertical-align: top;\n",
              "    }\n",
              "\n",
              "    .dataframe thead th {\n",
              "        text-align: right;\n",
              "    }\n",
              "</style>\n",
              "<table border=\"1\" class=\"dataframe\">\n",
              "  <thead>\n",
              "    <tr style=\"text-align: right;\">\n",
              "      <th></th>\n",
              "      <th>url</th>\n",
              "      <th>html</th>\n",
              "      <th>industry</th>\n",
              "      <th>industry_label</th>\n",
              "    </tr>\n",
              "  </thead>\n",
              "  <tbody>\n",
              "    <tr>\n",
              "      <th>8391</th>\n",
              "      <td>http://www.lovatoelectric.de</td>\n",
              "      <td>\\r \\tLovato Electric  Energy and Automa...</td>\n",
              "      <td>25</td>\n",
              "      <td>Consumer Goods</td>\n",
              "    </tr>\n",
              "    <tr>\n",
              "      <th>8392</th>\n",
              "      <td>http://www.hollflachdachbau.de</td>\n",
              "      <td>Startseite  Holl Flachdachbau             ...</td>\n",
              "      <td>48</td>\n",
              "      <td>Construction</td>\n",
              "    </tr>\n",
              "    <tr>\n",
              "      <th>8393</th>\n",
              "      <td>http://www.q-park.de</td>\n",
              "      <td>﻿\\r    \\r     dataLayer  pagelanguagedetypehom...</td>\n",
              "      <td>44</td>\n",
              "      <td>Real Estate</td>\n",
              "    </tr>\n",
              "    <tr>\n",
              "      <th>8394</th>\n",
              "      <td>http://www.jrs.de</td>\n",
              "      <td>JRS   J Rettenmaier  Söhne GmbH  Co KG  docum...</td>\n",
              "      <td>13</td>\n",
              "      <td>Medical Practice</td>\n",
              "    </tr>\n",
              "    <tr>\n",
              "      <th>8395</th>\n",
              "      <td>http://www.spelsberg.de</td>\n",
              "      <td>functionwdsliwlwlwlpus...</td>\n",
              "      <td>25</td>\n",
              "      <td>Consumer Goods</td>\n",
              "    </tr>\n",
              "  </tbody>\n",
              "</table>\n",
              "</div>\n",
              "      <button class=\"colab-df-convert\" onclick=\"convertToInteractive('df-91ed2a0a-7871-46fd-bb7b-ea425e5bb2a6')\"\n",
              "              title=\"Convert this dataframe to an interactive table.\"\n",
              "              style=\"display:none;\">\n",
              "        \n",
              "  <svg xmlns=\"http://www.w3.org/2000/svg\" height=\"24px\"viewBox=\"0 0 24 24\"\n",
              "       width=\"24px\">\n",
              "    <path d=\"M0 0h24v24H0V0z\" fill=\"none\"/>\n",
              "    <path d=\"M18.56 5.44l.94 2.06.94-2.06 2.06-.94-2.06-.94-.94-2.06-.94 2.06-2.06.94zm-11 1L8.5 8.5l.94-2.06 2.06-.94-2.06-.94L8.5 2.5l-.94 2.06-2.06.94zm10 10l.94 2.06.94-2.06 2.06-.94-2.06-.94-.94-2.06-.94 2.06-2.06.94z\"/><path d=\"M17.41 7.96l-1.37-1.37c-.4-.4-.92-.59-1.43-.59-.52 0-1.04.2-1.43.59L10.3 9.45l-7.72 7.72c-.78.78-.78 2.05 0 2.83L4 21.41c.39.39.9.59 1.41.59.51 0 1.02-.2 1.41-.59l7.78-7.78 2.81-2.81c.8-.78.8-2.07 0-2.86zM5.41 20L4 18.59l7.72-7.72 1.47 1.35L5.41 20z\"/>\n",
              "  </svg>\n",
              "      </button>\n",
              "      \n",
              "  <style>\n",
              "    .colab-df-container {\n",
              "      display:flex;\n",
              "      flex-wrap:wrap;\n",
              "      gap: 12px;\n",
              "    }\n",
              "\n",
              "    .colab-df-convert {\n",
              "      background-color: #E8F0FE;\n",
              "      border: none;\n",
              "      border-radius: 50%;\n",
              "      cursor: pointer;\n",
              "      display: none;\n",
              "      fill: #1967D2;\n",
              "      height: 32px;\n",
              "      padding: 0 0 0 0;\n",
              "      width: 32px;\n",
              "    }\n",
              "\n",
              "    .colab-df-convert:hover {\n",
              "      background-color: #E2EBFA;\n",
              "      box-shadow: 0px 1px 2px rgba(60, 64, 67, 0.3), 0px 1px 3px 1px rgba(60, 64, 67, 0.15);\n",
              "      fill: #174EA6;\n",
              "    }\n",
              "\n",
              "    [theme=dark] .colab-df-convert {\n",
              "      background-color: #3B4455;\n",
              "      fill: #D2E3FC;\n",
              "    }\n",
              "\n",
              "    [theme=dark] .colab-df-convert:hover {\n",
              "      background-color: #434B5C;\n",
              "      box-shadow: 0px 1px 3px 1px rgba(0, 0, 0, 0.15);\n",
              "      filter: drop-shadow(0px 1px 2px rgba(0, 0, 0, 0.3));\n",
              "      fill: #FFFFFF;\n",
              "    }\n",
              "  </style>\n",
              "\n",
              "      <script>\n",
              "        const buttonEl =\n",
              "          document.querySelector('#df-91ed2a0a-7871-46fd-bb7b-ea425e5bb2a6 button.colab-df-convert');\n",
              "        buttonEl.style.display =\n",
              "          google.colab.kernel.accessAllowed ? 'block' : 'none';\n",
              "\n",
              "        async function convertToInteractive(key) {\n",
              "          const element = document.querySelector('#df-91ed2a0a-7871-46fd-bb7b-ea425e5bb2a6');\n",
              "          const dataTable =\n",
              "            await google.colab.kernel.invokeFunction('convertToInteractive',\n",
              "                                                     [key], {});\n",
              "          if (!dataTable) return;\n",
              "\n",
              "          const docLinkHtml = 'Like what you see? Visit the ' +\n",
              "            '<a target=\"_blank\" href=https://colab.research.google.com/notebooks/data_table.ipynb>data table notebook</a>'\n",
              "            + ' to learn more about interactive tables.';\n",
              "          element.innerHTML = '';\n",
              "          dataTable['output_type'] = 'display_data';\n",
              "          await google.colab.output.renderOutput(dataTable, element);\n",
              "          const docLink = document.createElement('div');\n",
              "          docLink.innerHTML = docLinkHtml;\n",
              "          element.appendChild(docLink);\n",
              "        }\n",
              "      </script>\n",
              "    </div>\n",
              "  </div>\n",
              "  "
            ],
            "text/plain": [
              "                                 url  ...    industry_label\n",
              "8391    http://www.lovatoelectric.de  ...    Consumer Goods\n",
              "8392  http://www.hollflachdachbau.de  ...      Construction\n",
              "8393            http://www.q-park.de  ...       Real Estate\n",
              "8394               http://www.jrs.de  ...  Medical Practice\n",
              "8395         http://www.spelsberg.de  ...    Consumer Goods\n",
              "\n",
              "[5 rows x 4 columns]"
            ]
          },
          "metadata": {},
          "execution_count": 24
        }
      ],
      "source": [
        "data_test['html'] = data_test['html'].apply(cleaning_text)\n",
        "data_test.tail()"
      ]
    },
    {
      "cell_type": "code",
      "execution_count": null,
      "metadata": {
        "id": "voPq2VeF2T1F",
        "colab": {
          "base_uri": "https://localhost:8080/"
        },
        "outputId": "285c23d9-0eea-4b58-a718-353798dfb0dc"
      },
      "outputs": [
        {
          "output_type": "stream",
          "name": "stdout",
          "text": [
            "58947648\n"
          ]
        }
      ],
      "source": [
        "# Number of words in the test dataset\n",
        "print(data_test['html'].apply(lambda x: len(x.split(' '))).sum())"
      ]
    },
    {
      "cell_type": "markdown",
      "metadata": {
        "id": "ZSzbJ9342SIX"
      },
      "source": [
        "More than one-half of the html content is cleaned."
      ]
    },
    {
      "cell_type": "markdown",
      "metadata": {
        "id": "3KlBf57s20Hc"
      },
      "source": [
        "**Train the Model through a Pipeline**"
      ]
    },
    {
      "cell_type": "markdown",
      "metadata": {
        "id": "F9ASN6Ds4C9O"
      },
      "source": [
        "sklearn.feature_extraction.text.TfidfVectorizer is used to calculate a tf-idf vector for each observation in the column 'html', in which:\n",
        "\n",
        "*   sublinear_df is set to True to use a logarithmic form for frequency.\n",
        "*   min_df is the minimum numbers of documents a word must be present in to be kept.\n",
        "*   norm is set to l2, to ensure all our feature vectors have a euclidian norm of 1.\n",
        "*   ngram_range is set to (1, 2) to indicate that we want to consider both unigrams and bigrams.\n",
        "*   stop_words is set to \"english\" to remove all common pronouns (\"a\", \"the\", ...) to reduce the number of noisy features.\n",
        "\n",
        "Then, the Logistic Regression Model is used to fit the train dataset."
      ]
    },
    {
      "cell_type": "code",
      "execution_count": null,
      "metadata": {
        "id": "yrhzfYbh41aE"
      },
      "outputs": [],
      "source": [
        "from sklearn.feature_extraction.text import TfidfVectorizer\n",
        "from sklearn.pipeline import Pipeline\n",
        "from sklearn.linear_model import LogisticRegression\n",
        "log_reg = Pipeline([\n",
        "    ('tfidf', TfidfVectorizer(sublinear_tf=True, min_df=50, norm='l2', encoding='latin-1', ngram_range=(1, 2), stop_words='english')),\n",
        "    ('log_reg', LogisticRegression(multi_class=\"ovr\",n_jobs=1, C=80))\n",
        "    ])\n",
        "# Setting multi_class=\"ovr\",n_jobs=1, and C=80 has given the best f1-scores "
      ]
    },
    {
      "cell_type": "code",
      "execution_count": null,
      "metadata": {
        "id": "FlgsIRoT6KBS",
        "colab": {
          "base_uri": "https://localhost:8080/"
        },
        "outputId": "90af2356-7063-486e-83cf-a58c8ffbe6ba"
      },
      "outputs": [
        {
          "output_type": "stream",
          "name": "stderr",
          "text": [
            "/usr/local/lib/python3.7/dist-packages/sklearn/linear_model/_logistic.py:818: ConvergenceWarning: lbfgs failed to converge (status=1):\n",
            "STOP: TOTAL NO. of ITERATIONS REACHED LIMIT.\n",
            "\n",
            "Increase the number of iterations (max_iter) or scale the data as shown in:\n",
            "    https://scikit-learn.org/stable/modules/preprocessing.html\n",
            "Please also refer to the documentation for alternative solver options:\n",
            "    https://scikit-learn.org/stable/modules/linear_model.html#logistic-regression\n",
            "  extra_warning_msg=_LOGISTIC_SOLVER_CONVERGENCE_MSG,\n",
            "/usr/local/lib/python3.7/dist-packages/sklearn/linear_model/_logistic.py:818: ConvergenceWarning: lbfgs failed to converge (status=1):\n",
            "STOP: TOTAL NO. of ITERATIONS REACHED LIMIT.\n",
            "\n",
            "Increase the number of iterations (max_iter) or scale the data as shown in:\n",
            "    https://scikit-learn.org/stable/modules/preprocessing.html\n",
            "Please also refer to the documentation for alternative solver options:\n",
            "    https://scikit-learn.org/stable/modules/linear_model.html#logistic-regression\n",
            "  extra_warning_msg=_LOGISTIC_SOLVER_CONVERGENCE_MSG,\n",
            "/usr/local/lib/python3.7/dist-packages/sklearn/linear_model/_logistic.py:818: ConvergenceWarning: lbfgs failed to converge (status=1):\n",
            "STOP: TOTAL NO. of ITERATIONS REACHED LIMIT.\n",
            "\n",
            "Increase the number of iterations (max_iter) or scale the data as shown in:\n",
            "    https://scikit-learn.org/stable/modules/preprocessing.html\n",
            "Please also refer to the documentation for alternative solver options:\n",
            "    https://scikit-learn.org/stable/modules/linear_model.html#logistic-regression\n",
            "  extra_warning_msg=_LOGISTIC_SOLVER_CONVERGENCE_MSG,\n",
            "/usr/local/lib/python3.7/dist-packages/sklearn/linear_model/_logistic.py:818: ConvergenceWarning: lbfgs failed to converge (status=1):\n",
            "STOP: TOTAL NO. of ITERATIONS REACHED LIMIT.\n",
            "\n",
            "Increase the number of iterations (max_iter) or scale the data as shown in:\n",
            "    https://scikit-learn.org/stable/modules/preprocessing.html\n",
            "Please also refer to the documentation for alternative solver options:\n",
            "    https://scikit-learn.org/stable/modules/linear_model.html#logistic-regression\n",
            "  extra_warning_msg=_LOGISTIC_SOLVER_CONVERGENCE_MSG,\n",
            "/usr/local/lib/python3.7/dist-packages/sklearn/linear_model/_logistic.py:818: ConvergenceWarning: lbfgs failed to converge (status=1):\n",
            "STOP: TOTAL NO. of ITERATIONS REACHED LIMIT.\n",
            "\n",
            "Increase the number of iterations (max_iter) or scale the data as shown in:\n",
            "    https://scikit-learn.org/stable/modules/preprocessing.html\n",
            "Please also refer to the documentation for alternative solver options:\n",
            "    https://scikit-learn.org/stable/modules/linear_model.html#logistic-regression\n",
            "  extra_warning_msg=_LOGISTIC_SOLVER_CONVERGENCE_MSG,\n",
            "/usr/local/lib/python3.7/dist-packages/sklearn/linear_model/_logistic.py:818: ConvergenceWarning: lbfgs failed to converge (status=1):\n",
            "STOP: TOTAL NO. of ITERATIONS REACHED LIMIT.\n",
            "\n",
            "Increase the number of iterations (max_iter) or scale the data as shown in:\n",
            "    https://scikit-learn.org/stable/modules/preprocessing.html\n",
            "Please also refer to the documentation for alternative solver options:\n",
            "    https://scikit-learn.org/stable/modules/linear_model.html#logistic-regression\n",
            "  extra_warning_msg=_LOGISTIC_SOLVER_CONVERGENCE_MSG,\n",
            "/usr/local/lib/python3.7/dist-packages/sklearn/linear_model/_logistic.py:818: ConvergenceWarning: lbfgs failed to converge (status=1):\n",
            "STOP: TOTAL NO. of ITERATIONS REACHED LIMIT.\n",
            "\n",
            "Increase the number of iterations (max_iter) or scale the data as shown in:\n",
            "    https://scikit-learn.org/stable/modules/preprocessing.html\n",
            "Please also refer to the documentation for alternative solver options:\n",
            "    https://scikit-learn.org/stable/modules/linear_model.html#logistic-regression\n",
            "  extra_warning_msg=_LOGISTIC_SOLVER_CONVERGENCE_MSG,\n",
            "/usr/local/lib/python3.7/dist-packages/sklearn/linear_model/_logistic.py:818: ConvergenceWarning: lbfgs failed to converge (status=1):\n",
            "STOP: TOTAL NO. of ITERATIONS REACHED LIMIT.\n",
            "\n",
            "Increase the number of iterations (max_iter) or scale the data as shown in:\n",
            "    https://scikit-learn.org/stable/modules/preprocessing.html\n",
            "Please also refer to the documentation for alternative solver options:\n",
            "    https://scikit-learn.org/stable/modules/linear_model.html#logistic-regression\n",
            "  extra_warning_msg=_LOGISTIC_SOLVER_CONVERGENCE_MSG,\n",
            "/usr/local/lib/python3.7/dist-packages/sklearn/linear_model/_logistic.py:818: ConvergenceWarning: lbfgs failed to converge (status=1):\n",
            "STOP: TOTAL NO. of ITERATIONS REACHED LIMIT.\n",
            "\n",
            "Increase the number of iterations (max_iter) or scale the data as shown in:\n",
            "    https://scikit-learn.org/stable/modules/preprocessing.html\n",
            "Please also refer to the documentation for alternative solver options:\n",
            "    https://scikit-learn.org/stable/modules/linear_model.html#logistic-regression\n",
            "  extra_warning_msg=_LOGISTIC_SOLVER_CONVERGENCE_MSG,\n",
            "/usr/local/lib/python3.7/dist-packages/sklearn/linear_model/_logistic.py:818: ConvergenceWarning: lbfgs failed to converge (status=1):\n",
            "STOP: TOTAL NO. of ITERATIONS REACHED LIMIT.\n",
            "\n",
            "Increase the number of iterations (max_iter) or scale the data as shown in:\n",
            "    https://scikit-learn.org/stable/modules/preprocessing.html\n",
            "Please also refer to the documentation for alternative solver options:\n",
            "    https://scikit-learn.org/stable/modules/linear_model.html#logistic-regression\n",
            "  extra_warning_msg=_LOGISTIC_SOLVER_CONVERGENCE_MSG,\n",
            "/usr/local/lib/python3.7/dist-packages/sklearn/linear_model/_logistic.py:818: ConvergenceWarning: lbfgs failed to converge (status=1):\n",
            "STOP: TOTAL NO. of ITERATIONS REACHED LIMIT.\n",
            "\n",
            "Increase the number of iterations (max_iter) or scale the data as shown in:\n",
            "    https://scikit-learn.org/stable/modules/preprocessing.html\n",
            "Please also refer to the documentation for alternative solver options:\n",
            "    https://scikit-learn.org/stable/modules/linear_model.html#logistic-regression\n",
            "  extra_warning_msg=_LOGISTIC_SOLVER_CONVERGENCE_MSG,\n",
            "/usr/local/lib/python3.7/dist-packages/sklearn/linear_model/_logistic.py:818: ConvergenceWarning: lbfgs failed to converge (status=1):\n",
            "STOP: TOTAL NO. of ITERATIONS REACHED LIMIT.\n",
            "\n",
            "Increase the number of iterations (max_iter) or scale the data as shown in:\n",
            "    https://scikit-learn.org/stable/modules/preprocessing.html\n",
            "Please also refer to the documentation for alternative solver options:\n",
            "    https://scikit-learn.org/stable/modules/linear_model.html#logistic-regression\n",
            "  extra_warning_msg=_LOGISTIC_SOLVER_CONVERGENCE_MSG,\n",
            "/usr/local/lib/python3.7/dist-packages/sklearn/linear_model/_logistic.py:818: ConvergenceWarning: lbfgs failed to converge (status=1):\n",
            "STOP: TOTAL NO. of ITERATIONS REACHED LIMIT.\n",
            "\n",
            "Increase the number of iterations (max_iter) or scale the data as shown in:\n",
            "    https://scikit-learn.org/stable/modules/preprocessing.html\n",
            "Please also refer to the documentation for alternative solver options:\n",
            "    https://scikit-learn.org/stable/modules/linear_model.html#logistic-regression\n",
            "  extra_warning_msg=_LOGISTIC_SOLVER_CONVERGENCE_MSG,\n",
            "/usr/local/lib/python3.7/dist-packages/sklearn/linear_model/_logistic.py:818: ConvergenceWarning: lbfgs failed to converge (status=1):\n",
            "STOP: TOTAL NO. of ITERATIONS REACHED LIMIT.\n",
            "\n",
            "Increase the number of iterations (max_iter) or scale the data as shown in:\n",
            "    https://scikit-learn.org/stable/modules/preprocessing.html\n",
            "Please also refer to the documentation for alternative solver options:\n",
            "    https://scikit-learn.org/stable/modules/linear_model.html#logistic-regression\n",
            "  extra_warning_msg=_LOGISTIC_SOLVER_CONVERGENCE_MSG,\n",
            "/usr/local/lib/python3.7/dist-packages/sklearn/linear_model/_logistic.py:818: ConvergenceWarning: lbfgs failed to converge (status=1):\n",
            "STOP: TOTAL NO. of ITERATIONS REACHED LIMIT.\n",
            "\n",
            "Increase the number of iterations (max_iter) or scale the data as shown in:\n",
            "    https://scikit-learn.org/stable/modules/preprocessing.html\n",
            "Please also refer to the documentation for alternative solver options:\n",
            "    https://scikit-learn.org/stable/modules/linear_model.html#logistic-regression\n",
            "  extra_warning_msg=_LOGISTIC_SOLVER_CONVERGENCE_MSG,\n",
            "/usr/local/lib/python3.7/dist-packages/sklearn/linear_model/_logistic.py:818: ConvergenceWarning: lbfgs failed to converge (status=1):\n",
            "STOP: TOTAL NO. of ITERATIONS REACHED LIMIT.\n",
            "\n",
            "Increase the number of iterations (max_iter) or scale the data as shown in:\n",
            "    https://scikit-learn.org/stable/modules/preprocessing.html\n",
            "Please also refer to the documentation for alternative solver options:\n",
            "    https://scikit-learn.org/stable/modules/linear_model.html#logistic-regression\n",
            "  extra_warning_msg=_LOGISTIC_SOLVER_CONVERGENCE_MSG,\n",
            "/usr/local/lib/python3.7/dist-packages/sklearn/linear_model/_logistic.py:818: ConvergenceWarning: lbfgs failed to converge (status=1):\n",
            "STOP: TOTAL NO. of ITERATIONS REACHED LIMIT.\n",
            "\n",
            "Increase the number of iterations (max_iter) or scale the data as shown in:\n",
            "    https://scikit-learn.org/stable/modules/preprocessing.html\n",
            "Please also refer to the documentation for alternative solver options:\n",
            "    https://scikit-learn.org/stable/modules/linear_model.html#logistic-regression\n",
            "  extra_warning_msg=_LOGISTIC_SOLVER_CONVERGENCE_MSG,\n",
            "/usr/local/lib/python3.7/dist-packages/sklearn/linear_model/_logistic.py:818: ConvergenceWarning: lbfgs failed to converge (status=1):\n",
            "STOP: TOTAL NO. of ITERATIONS REACHED LIMIT.\n",
            "\n",
            "Increase the number of iterations (max_iter) or scale the data as shown in:\n",
            "    https://scikit-learn.org/stable/modules/preprocessing.html\n",
            "Please also refer to the documentation for alternative solver options:\n",
            "    https://scikit-learn.org/stable/modules/linear_model.html#logistic-regression\n",
            "  extra_warning_msg=_LOGISTIC_SOLVER_CONVERGENCE_MSG,\n",
            "/usr/local/lib/python3.7/dist-packages/sklearn/linear_model/_logistic.py:818: ConvergenceWarning: lbfgs failed to converge (status=1):\n",
            "STOP: TOTAL NO. of ITERATIONS REACHED LIMIT.\n",
            "\n",
            "Increase the number of iterations (max_iter) or scale the data as shown in:\n",
            "    https://scikit-learn.org/stable/modules/preprocessing.html\n",
            "Please also refer to the documentation for alternative solver options:\n",
            "    https://scikit-learn.org/stable/modules/linear_model.html#logistic-regression\n",
            "  extra_warning_msg=_LOGISTIC_SOLVER_CONVERGENCE_MSG,\n"
          ]
        },
        {
          "output_type": "execute_result",
          "data": {
            "text/plain": [
              "Pipeline(steps=[('tfidf',\n",
              "                 TfidfVectorizer(encoding='latin-1', min_df=50,\n",
              "                                 ngram_range=(1, 2), stop_words='english',\n",
              "                                 sublinear_tf=True)),\n",
              "                ('log_reg',\n",
              "                 LogisticRegression(C=80, multi_class='ovr', n_jobs=1))])"
            ]
          },
          "metadata": {},
          "execution_count": 27
        }
      ],
      "source": [
        "log_reg.fit(data_train.html,data_train.industry_label)"
      ]
    },
    {
      "cell_type": "markdown",
      "metadata": {
        "id": "5eYeSI_Q8wWz"
      },
      "source": [
        "**Evaluate the Model**"
      ]
    },
    {
      "cell_type": "code",
      "execution_count": null,
      "metadata": {
        "id": "Si6-9VIq8t1e"
      },
      "outputs": [],
      "source": [
        "predictions = log_reg.predict(data_test.html)"
      ]
    },
    {
      "cell_type": "markdown",
      "metadata": {
        "id": "N2t9dBcw-p-z"
      },
      "source": [
        "The model has been evaluated using the classification report."
      ]
    },
    {
      "cell_type": "code",
      "execution_count": null,
      "metadata": {
        "id": "muaRF4L59kFi",
        "colab": {
          "base_uri": "https://localhost:8080/",
          "height": 739
        },
        "outputId": "7fc91ce6-b098-4377-d9c4-09f828aa2428"
      },
      "outputs": [
        {
          "output_type": "execute_result",
          "data": {
            "text/html": [
              "\n",
              "  <div id=\"df-d3226df2-dd22-4b56-a10f-b4c1f235a28c\">\n",
              "    <div class=\"colab-df-container\">\n",
              "      <div>\n",
              "<style scoped>\n",
              "    .dataframe tbody tr th:only-of-type {\n",
              "        vertical-align: middle;\n",
              "    }\n",
              "\n",
              "    .dataframe tbody tr th {\n",
              "        vertical-align: top;\n",
              "    }\n",
              "\n",
              "    .dataframe thead th {\n",
              "        text-align: right;\n",
              "    }\n",
              "</style>\n",
              "<table border=\"1\" class=\"dataframe\">\n",
              "  <thead>\n",
              "    <tr style=\"text-align: right;\">\n",
              "      <th></th>\n",
              "      <th>precision</th>\n",
              "      <th>recall</th>\n",
              "      <th>f1-score</th>\n",
              "      <th>support</th>\n",
              "    </tr>\n",
              "  </thead>\n",
              "  <tbody>\n",
              "    <tr>\n",
              "      <th>Automotive</th>\n",
              "      <td>0.758123</td>\n",
              "      <td>0.589888</td>\n",
              "      <td>0.663507</td>\n",
              "      <td>356.000000</td>\n",
              "    </tr>\n",
              "    <tr>\n",
              "      <th>Construction</th>\n",
              "      <td>0.631579</td>\n",
              "      <td>0.646154</td>\n",
              "      <td>0.638783</td>\n",
              "      <td>390.000000</td>\n",
              "    </tr>\n",
              "    <tr>\n",
              "      <th>Consumer Goods</th>\n",
              "      <td>0.639456</td>\n",
              "      <td>0.505376</td>\n",
              "      <td>0.564565</td>\n",
              "      <td>372.000000</td>\n",
              "    </tr>\n",
              "    <tr>\n",
              "      <th>Financial Services</th>\n",
              "      <td>0.809955</td>\n",
              "      <td>0.763326</td>\n",
              "      <td>0.785950</td>\n",
              "      <td>469.000000</td>\n",
              "    </tr>\n",
              "    <tr>\n",
              "      <th>Human Resources</th>\n",
              "      <td>0.772455</td>\n",
              "      <td>0.591743</td>\n",
              "      <td>0.670130</td>\n",
              "      <td>218.000000</td>\n",
              "    </tr>\n",
              "    <tr>\n",
              "      <th>Information Technology and Services</th>\n",
              "      <td>0.670702</td>\n",
              "      <td>0.828845</td>\n",
              "      <td>0.741435</td>\n",
              "      <td>1671.000000</td>\n",
              "    </tr>\n",
              "    <tr>\n",
              "      <th>Insurance</th>\n",
              "      <td>0.780488</td>\n",
              "      <td>0.631579</td>\n",
              "      <td>0.698182</td>\n",
              "      <td>152.000000</td>\n",
              "    </tr>\n",
              "    <tr>\n",
              "      <th>Legal Services</th>\n",
              "      <td>0.929825</td>\n",
              "      <td>0.785185</td>\n",
              "      <td>0.851406</td>\n",
              "      <td>135.000000</td>\n",
              "    </tr>\n",
              "    <tr>\n",
              "      <th>Leisure, Travel &amp; Tourism</th>\n",
              "      <td>0.930233</td>\n",
              "      <td>0.810811</td>\n",
              "      <td>0.866426</td>\n",
              "      <td>148.000000</td>\n",
              "    </tr>\n",
              "    <tr>\n",
              "      <th>Logistics and Supply Chain</th>\n",
              "      <td>0.857143</td>\n",
              "      <td>0.590164</td>\n",
              "      <td>0.699029</td>\n",
              "      <td>183.000000</td>\n",
              "    </tr>\n",
              "    <tr>\n",
              "      <th>Management Consulting</th>\n",
              "      <td>0.630643</td>\n",
              "      <td>0.607378</td>\n",
              "      <td>0.618792</td>\n",
              "      <td>759.000000</td>\n",
              "    </tr>\n",
              "    <tr>\n",
              "      <th>Marketing and Advertising</th>\n",
              "      <td>0.721612</td>\n",
              "      <td>0.712048</td>\n",
              "      <td>0.716798</td>\n",
              "      <td>830.000000</td>\n",
              "    </tr>\n",
              "    <tr>\n",
              "      <th>Mechanical or Industrial Engineering</th>\n",
              "      <td>0.627466</td>\n",
              "      <td>0.791833</td>\n",
              "      <td>0.700132</td>\n",
              "      <td>1004.000000</td>\n",
              "    </tr>\n",
              "    <tr>\n",
              "      <th>Medical Practice</th>\n",
              "      <td>0.786744</td>\n",
              "      <td>0.691139</td>\n",
              "      <td>0.735849</td>\n",
              "      <td>395.000000</td>\n",
              "    </tr>\n",
              "    <tr>\n",
              "      <th>Real Estate</th>\n",
              "      <td>0.873684</td>\n",
              "      <td>0.691667</td>\n",
              "      <td>0.772093</td>\n",
              "      <td>240.000000</td>\n",
              "    </tr>\n",
              "    <tr>\n",
              "      <th>Recreational Facilities and Services</th>\n",
              "      <td>0.722222</td>\n",
              "      <td>0.478528</td>\n",
              "      <td>0.575646</td>\n",
              "      <td>163.000000</td>\n",
              "    </tr>\n",
              "    <tr>\n",
              "      <th>Renewables &amp; Environment</th>\n",
              "      <td>0.759657</td>\n",
              "      <td>0.610345</td>\n",
              "      <td>0.676864</td>\n",
              "      <td>290.000000</td>\n",
              "    </tr>\n",
              "    <tr>\n",
              "      <th>Telecommunications</th>\n",
              "      <td>0.722222</td>\n",
              "      <td>0.339869</td>\n",
              "      <td>0.462222</td>\n",
              "      <td>153.000000</td>\n",
              "    </tr>\n",
              "    <tr>\n",
              "      <th>Wholesale</th>\n",
              "      <td>0.612576</td>\n",
              "      <td>0.645299</td>\n",
              "      <td>0.628512</td>\n",
              "      <td>468.000000</td>\n",
              "    </tr>\n",
              "    <tr>\n",
              "      <th>accuracy</th>\n",
              "      <td>0.696403</td>\n",
              "      <td>0.696403</td>\n",
              "      <td>0.696403</td>\n",
              "      <td>0.696403</td>\n",
              "    </tr>\n",
              "    <tr>\n",
              "      <th>macro avg</th>\n",
              "      <td>0.749304</td>\n",
              "      <td>0.647957</td>\n",
              "      <td>0.687701</td>\n",
              "      <td>8396.000000</td>\n",
              "    </tr>\n",
              "    <tr>\n",
              "      <th>weighted avg</th>\n",
              "      <td>0.705695</td>\n",
              "      <td>0.696403</td>\n",
              "      <td>0.693746</td>\n",
              "      <td>8396.000000</td>\n",
              "    </tr>\n",
              "  </tbody>\n",
              "</table>\n",
              "</div>\n",
              "      <button class=\"colab-df-convert\" onclick=\"convertToInteractive('df-d3226df2-dd22-4b56-a10f-b4c1f235a28c')\"\n",
              "              title=\"Convert this dataframe to an interactive table.\"\n",
              "              style=\"display:none;\">\n",
              "        \n",
              "  <svg xmlns=\"http://www.w3.org/2000/svg\" height=\"24px\"viewBox=\"0 0 24 24\"\n",
              "       width=\"24px\">\n",
              "    <path d=\"M0 0h24v24H0V0z\" fill=\"none\"/>\n",
              "    <path d=\"M18.56 5.44l.94 2.06.94-2.06 2.06-.94-2.06-.94-.94-2.06-.94 2.06-2.06.94zm-11 1L8.5 8.5l.94-2.06 2.06-.94-2.06-.94L8.5 2.5l-.94 2.06-2.06.94zm10 10l.94 2.06.94-2.06 2.06-.94-2.06-.94-.94-2.06-.94 2.06-2.06.94z\"/><path d=\"M17.41 7.96l-1.37-1.37c-.4-.4-.92-.59-1.43-.59-.52 0-1.04.2-1.43.59L10.3 9.45l-7.72 7.72c-.78.78-.78 2.05 0 2.83L4 21.41c.39.39.9.59 1.41.59.51 0 1.02-.2 1.41-.59l7.78-7.78 2.81-2.81c.8-.78.8-2.07 0-2.86zM5.41 20L4 18.59l7.72-7.72 1.47 1.35L5.41 20z\"/>\n",
              "  </svg>\n",
              "      </button>\n",
              "      \n",
              "  <style>\n",
              "    .colab-df-container {\n",
              "      display:flex;\n",
              "      flex-wrap:wrap;\n",
              "      gap: 12px;\n",
              "    }\n",
              "\n",
              "    .colab-df-convert {\n",
              "      background-color: #E8F0FE;\n",
              "      border: none;\n",
              "      border-radius: 50%;\n",
              "      cursor: pointer;\n",
              "      display: none;\n",
              "      fill: #1967D2;\n",
              "      height: 32px;\n",
              "      padding: 0 0 0 0;\n",
              "      width: 32px;\n",
              "    }\n",
              "\n",
              "    .colab-df-convert:hover {\n",
              "      background-color: #E2EBFA;\n",
              "      box-shadow: 0px 1px 2px rgba(60, 64, 67, 0.3), 0px 1px 3px 1px rgba(60, 64, 67, 0.15);\n",
              "      fill: #174EA6;\n",
              "    }\n",
              "\n",
              "    [theme=dark] .colab-df-convert {\n",
              "      background-color: #3B4455;\n",
              "      fill: #D2E3FC;\n",
              "    }\n",
              "\n",
              "    [theme=dark] .colab-df-convert:hover {\n",
              "      background-color: #434B5C;\n",
              "      box-shadow: 0px 1px 3px 1px rgba(0, 0, 0, 0.15);\n",
              "      filter: drop-shadow(0px 1px 2px rgba(0, 0, 0, 0.3));\n",
              "      fill: #FFFFFF;\n",
              "    }\n",
              "  </style>\n",
              "\n",
              "      <script>\n",
              "        const buttonEl =\n",
              "          document.querySelector('#df-d3226df2-dd22-4b56-a10f-b4c1f235a28c button.colab-df-convert');\n",
              "        buttonEl.style.display =\n",
              "          google.colab.kernel.accessAllowed ? 'block' : 'none';\n",
              "\n",
              "        async function convertToInteractive(key) {\n",
              "          const element = document.querySelector('#df-d3226df2-dd22-4b56-a10f-b4c1f235a28c');\n",
              "          const dataTable =\n",
              "            await google.colab.kernel.invokeFunction('convertToInteractive',\n",
              "                                                     [key], {});\n",
              "          if (!dataTable) return;\n",
              "\n",
              "          const docLinkHtml = 'Like what you see? Visit the ' +\n",
              "            '<a target=\"_blank\" href=https://colab.research.google.com/notebooks/data_table.ipynb>data table notebook</a>'\n",
              "            + ' to learn more about interactive tables.';\n",
              "          element.innerHTML = '';\n",
              "          dataTable['output_type'] = 'display_data';\n",
              "          await google.colab.output.renderOutput(dataTable, element);\n",
              "          const docLink = document.createElement('div');\n",
              "          docLink.innerHTML = docLinkHtml;\n",
              "          element.appendChild(docLink);\n",
              "        }\n",
              "      </script>\n",
              "    </div>\n",
              "  </div>\n",
              "  "
            ],
            "text/plain": [
              "                                      precision  ...      support\n",
              "Automotive                             0.758123  ...   356.000000\n",
              "Construction                           0.631579  ...   390.000000\n",
              "Consumer Goods                         0.639456  ...   372.000000\n",
              "Financial Services                     0.809955  ...   469.000000\n",
              "Human Resources                        0.772455  ...   218.000000\n",
              "Information Technology and Services    0.670702  ...  1671.000000\n",
              "Insurance                              0.780488  ...   152.000000\n",
              "Legal Services                         0.929825  ...   135.000000\n",
              "Leisure, Travel & Tourism              0.930233  ...   148.000000\n",
              "Logistics and Supply Chain             0.857143  ...   183.000000\n",
              "Management Consulting                  0.630643  ...   759.000000\n",
              "Marketing and Advertising              0.721612  ...   830.000000\n",
              "Mechanical or Industrial Engineering   0.627466  ...  1004.000000\n",
              "Medical Practice                       0.786744  ...   395.000000\n",
              "Real Estate                            0.873684  ...   240.000000\n",
              "Recreational Facilities and Services   0.722222  ...   163.000000\n",
              "Renewables & Environment               0.759657  ...   290.000000\n",
              "Telecommunications                     0.722222  ...   153.000000\n",
              "Wholesale                              0.612576  ...   468.000000\n",
              "accuracy                               0.696403  ...     0.696403\n",
              "macro avg                              0.749304  ...  8396.000000\n",
              "weighted avg                           0.705695  ...  8396.000000\n",
              "\n",
              "[22 rows x 4 columns]"
            ]
          },
          "metadata": {},
          "execution_count": 29
        }
      ],
      "source": [
        "from sklearn import metrics\n",
        "import pandas as pd\n",
        "lr_report = metrics.classification_report(data_test.industry_label, \n",
        "                                           predictions,  \n",
        "                                           output_dict=True)\n",
        "pd.DataFrame(lr_report).T"
      ]
    },
    {
      "cell_type": "markdown",
      "metadata": {
        "id": "NXmwQZs4hYT0"
      },
      "source": [
        "*   f1-score is the harmonic mean between precision and recall.\n",
        "*   Recall is the number of correctly predicted elements of a class out of the number of actual/true elements of that class.\n",
        "*   Precision is the number of correctly predicted elements of a class out of all predicted elements of that class.\n",
        "*   Support is the number of occurence of the given class in the test dataset.\n",
        "\n",
        "The \"Telecommunications\" class has the lowest recall with approximately 0,34. This means that the percentage of the correctly predicted elements of the \"Telecommunications\" class out of its true elements is nearly 34%.\n",
        "\n",
        "The \"Leisure, Travel & Tourism\" class has the highest precision with approximately 0,93. This means that the percentage of the correctly predicted elements of the \"Leisure, Travel & Tourism\" class out of all predicted elements of this class is nearly 93%."
      ]
    },
    {
      "cell_type": "markdown",
      "metadata": {
        "id": "l3d4NYc0IMiL"
      },
      "source": [
        "The Confusion Matrix is displayed below to get a deeper look on the \n",
        "correctly-predicted elements and the actual/true ones of each class"
      ]
    },
    {
      "cell_type": "code",
      "execution_count": null,
      "metadata": {
        "id": "d8c3PyFiHRxi",
        "colab": {
          "base_uri": "https://localhost:8080/",
          "height": 888
        },
        "outputId": "d2cc6fc8-e726-4200-871c-495fff9e4756"
      },
      "outputs": [
        {
          "output_type": "display_data",
          "data": {
            "image/png": "[encoded data removed]",
            "text/plain": [
              "<Figure size 864x864 with 2 Axes>"
            ]
          },
          "metadata": {
            "needs_background": "light"
          }
        }
      ],
      "source": [
        "from sklearn.metrics import confusion_matrix\n",
        "import seaborn as sns\n",
        "import numpy as np\n",
        "unique_label = np.unique(data_test.industry_label)\n",
        "conf_mat = confusion_matrix(data_test.industry_label, predictions)\n",
        "fig, ax = plt.subplots(figsize=(12,12))\n",
        "sns.heatmap(conf_mat, annot=True, fmt='d',\n",
        "            xticklabels=unique_label, yticklabels=unique_label)\n",
        "plt.ylabel('Actual')\n",
        "plt.xlabel('Predicted')\n",
        "plt.show()"
      ]
    },
    {
      "cell_type": "markdown",
      "metadata": {
        "id": "8GT8sbpajqhZ"
      },
      "source": [
        "*   The lowest recall relating to the \"Telecommunications\" class is confirmed by the confusion matrix, since only 52 elements out of 153 are being correctly predicted in this class.\n",
        "*   The \"Leisure, Travel & Tourism\" class has the highest precision by nearly 0,93. There are 120 correctly-predicted elements in this class out of 129 predicted elements.  \n",
        "*   172 elements that belong in reality to the \"Management Consulting\" class, are incorrectly predicted as belonging to the \"Information Technology and Services\" class.\n",
        "*   124 elements that belong in reality to the \"Marketing and Advertising\" class, are incorrectly predicted as belonging to the \"Information Technology and Services\" class.\n",
        "\n",
        "\n",
        "\n",
        "\n",
        "\n",
        "\n"
      ]
    },
    {
      "cell_type": "markdown",
      "metadata": {
        "id": "tNSP6hapLEl_"
      },
      "source": [
        "**Turning the model into an online application**"
      ]
    },
    {
      "cell_type": "markdown",
      "metadata": {
        "id": "dKQSa9NgLkxf"
      },
      "source": [
        "Gradio is used to turn the model into a web interface"
      ]
    },
    {
      "cell_type": "code",
      "execution_count": null,
      "metadata": {
        "id": "Oh5cX1jiLj5E",
        "colab": {
          "base_uri": "https://localhost:8080/"
        },
        "outputId": "012f1aff-b368-4ca5-d647-a477a31518f7"
      },
      "outputs": [
        {
          "output_type": "stream",
          "name": "stdout",
          "text": [
            "Collecting gradio\n",
            "  Downloading gradio-2.8.4-py3-none-any.whl (650 kB)\n",
            "\u001b[?25l\r\u001b[K     |▌                               | 10 kB 28.8 MB/s eta 0:00:01\r\u001b[K     |█                               | 20 kB 19.5 MB/s eta 0:00:01\r\u001b[K     |█▌                              | 30 kB 17.4 MB/s eta 0:00:01\r\u001b[K     |██                              | 40 kB 15.0 MB/s eta 0:00:01\r\u001b[K     |██▌                             | 51 kB 8.5 MB/s eta 0:00:01\r\u001b[K     |███                             | 61 kB 9.8 MB/s eta 0:00:01\r\u001b[K     |███▌                            | 71 kB 10.8 MB/s eta 0:00:01\r\u001b[K     |████                            | 81 kB 9.7 MB/s eta 0:00:01\r\u001b[K     |████▌                           | 92 kB 10.7 MB/s eta 0:00:01\r\u001b[K     |█████                           | 102 kB 9.5 MB/s eta 0:00:01\r\u001b[K     |█████▌                          | 112 kB 9.5 MB/s eta 0:00:01\r\u001b[K     |██████                          | 122 kB 9.5 MB/s eta 0:00:01\r\u001b[K     |██████▌                         | 133 kB 9.5 MB/s eta 0:00:01\r\u001b[K     |███████                         | 143 kB 9.5 MB/s eta 0:00:01\r\u001b[K     |███████▋                        | 153 kB 9.5 MB/s eta 0:00:01\r\u001b[K     |████████                        | 163 kB 9.5 MB/s eta 0:00:01\r\u001b[K     |████████▋                       | 174 kB 9.5 MB/s eta 0:00:01\r\u001b[K     |█████████                       | 184 kB 9.5 MB/s eta 0:00:01\r\u001b[K     |█████████▋                      | 194 kB 9.5 MB/s eta 0:00:01\r\u001b[K     |██████████                      | 204 kB 9.5 MB/s eta 0:00:01\r\u001b[K     |██████████▋                     | 215 kB 9.5 MB/s eta 0:00:01\r\u001b[K     |███████████                     | 225 kB 9.5 MB/s eta 0:00:01\r\u001b[K     |███████████▋                    | 235 kB 9.5 MB/s eta 0:00:01\r\u001b[K     |████████████                    | 245 kB 9.5 MB/s eta 0:00:01\r\u001b[K     |████████████▋                   | 256 kB 9.5 MB/s eta 0:00:01\r\u001b[K     |█████████████                   | 266 kB 9.5 MB/s eta 0:00:01\r\u001b[K     |█████████████▋                  | 276 kB 9.5 MB/s eta 0:00:01\r\u001b[K     |██████████████                  | 286 kB 9.5 MB/s eta 0:00:01\r\u001b[K     |██████████████▋                 | 296 kB 9.5 MB/s eta 0:00:01\r\u001b[K     |███████████████▏                | 307 kB 9.5 MB/s eta 0:00:01\r\u001b[K     |███████████████▋                | 317 kB 9.5 MB/s eta 0:00:01\r\u001b[K     |████████████████▏               | 327 kB 9.5 MB/s eta 0:00:01\r\u001b[K     |████████████████▋               | 337 kB 9.5 MB/s eta 0:00:01\r\u001b[K     |█████████████████▏              | 348 kB 9.5 MB/s eta 0:00:01\r\u001b[K     |█████████████████▋              | 358 kB 9.5 MB/s eta 0:00:01\r\u001b[K     |██████████████████▏             | 368 kB 9.5 MB/s eta 0:00:01\r\u001b[K     |██████████████████▋             | 378 kB 9.5 MB/s eta 0:00:01\r\u001b[K     |███████████████████▏            | 389 kB 9.5 MB/s eta 0:00:01\r\u001b[K     |███████████████████▋            | 399 kB 9.5 MB/s eta 0:00:01\r\u001b[K     |████████████████████▏           | 409 kB 9.5 MB/s eta 0:00:01\r\u001b[K     |████████████████████▋           | 419 kB 9.5 MB/s eta 0:00:01\r\u001b[K     |█████████████████████▏          | 430 kB 9.5 MB/s eta 0:00:01\r\u001b[K     |█████████████████████▊          | 440 kB 9.5 MB/s eta 0:00:01\r\u001b[K     |██████████████████████▏         | 450 kB 9.5 MB/s eta 0:00:01\r\u001b[K     |██████████████████████▊         | 460 kB 9.5 MB/s eta 0:00:01\r\u001b[K     |███████████████████████▏        | 471 kB 9.5 MB/s eta 0:00:01\r\u001b[K     |███████████████████████▊        | 481 kB 9.5 MB/s eta 0:00:01\r\u001b[K     |████████████████████████▏       | 491 kB 9.5 MB/s eta 0:00:01\r\u001b[K     |████████████████████████▊       | 501 kB 9.5 MB/s eta 0:00:01\r\u001b[K     |█████████████████████████▏      | 512 kB 9.5 MB/s eta 0:00:01\r\u001b[K     |█████████████████████████▊      | 522 kB 9.5 MB/s eta 0:00:01\r\u001b[K     |██████████████████████████▏     | 532 kB 9.5 MB/s eta 0:00:01\r\u001b[K     |██████████████████████████▊     | 542 kB 9.5 MB/s eta 0:00:01\r\u001b[K     |███████████████████████████▏    | 552 kB 9.5 MB/s eta 0:00:01\r\u001b[K     |███████████████████████████▊    | 563 kB 9.5 MB/s eta 0:00:01\r\u001b[K     |████████████████████████████▏   | 573 kB 9.5 MB/s eta 0:00:01\r\u001b[K     |████████████████████████████▊   | 583 kB 9.5 MB/s eta 0:00:01\r\u001b[K     |█████████████████████████████▎  | 593 kB 9.5 MB/s eta 0:00:01\r\u001b[K     |█████████████████████████████▊  | 604 kB 9.5 MB/s eta 0:00:01\r\u001b[K     |██████████████████████████████▎ | 614 kB 9.5 MB/s eta 0:00:01\r\u001b[K     |██████████████████████████████▊ | 624 kB 9.5 MB/s eta 0:00:01\r\u001b[K     |███████████████████████████████▎| 634 kB 9.5 MB/s eta 0:00:01\r\u001b[K     |███████████████████████████████▊| 645 kB 9.5 MB/s eta 0:00:01\r\u001b[K     |████████████████████████████████| 650 kB 9.5 MB/s \n",
            "\u001b[?25hCollecting ffmpy\n",
            "  Downloading ffmpy-0.3.0.tar.gz (4.8 kB)\n",
            "Requirement already satisfied: requests in /usr/local/lib/python3.7/dist-packages (from gradio) (2.23.0)\n",
            "Collecting uvicorn\n",
            "  Downloading uvicorn-0.17.5-py3-none-any.whl (53 kB)\n",
            "\u001b[K     |████████████████████████████████| 53 kB 2.3 MB/s \n",
            "\u001b[?25hCollecting markdown-it-py[linkify,plugins]\n",
            "  Downloading markdown_it_py-2.0.1-py3-none-any.whl (84 kB)\n",
            "\u001b[K     |████████████████████████████████| 84 kB 2.6 MB/s \n",
            "\u001b[?25hCollecting orjson\n",
            "  Downloading orjson-3.6.7-cp37-cp37m-manylinux_2_24_x86_64.whl (255 kB)\n",
            "\u001b[K     |████████████████████████████████| 255 kB 60.0 MB/s \n",
            "\u001b[?25hCollecting fastapi\n",
            "  Downloading fastapi-0.74.1-py3-none-any.whl (53 kB)\n",
            "\u001b[K     |████████████████████████████████| 53 kB 2.1 MB/s \n",
            "\u001b[?25hRequirement already satisfied: numpy in /usr/local/lib/python3.7/dist-packages (from gradio) (1.21.5)\n",
            "Collecting python-multipart\n",
            "  Downloading python-multipart-0.0.5.tar.gz (32 kB)\n",
            "Requirement already satisfied: pillow in /usr/local/lib/python3.7/dist-packages (from gradio) (7.1.2)\n",
            "Collecting pydub\n",
            "  Downloading pydub-0.25.1-py2.py3-none-any.whl (32 kB)\n",
            "Requirement already satisfied: matplotlib in /usr/local/lib/python3.7/dist-packages (from gradio) (3.2.2)\n",
            "Collecting analytics-python\n",
            "  Downloading analytics_python-1.4.0-py2.py3-none-any.whl (15 kB)\n",
            "Collecting paramiko\n",
            "  Downloading paramiko-2.9.2-py2.py3-none-any.whl (210 kB)\n",
            "\u001b[K     |████████████████████████████████| 210 kB 50.3 MB/s \n",
            "\u001b[?25hCollecting aiohttp\n",
            "  Downloading aiohttp-3.8.1-cp37-cp37m-manylinux_2_5_x86_64.manylinux1_x86_64.manylinux_2_12_x86_64.manylinux2010_x86_64.whl (1.1 MB)\n",
            "\u001b[K     |████████████████████████████████| 1.1 MB 43.1 MB/s \n",
            "\u001b[?25hRequirement already satisfied: pandas in /usr/local/lib/python3.7/dist-packages (from gradio) (1.3.5)\n",
            "Collecting pycryptodome\n",
            "  Downloading pycryptodome-3.14.1-cp35-abi3-manylinux2010_x86_64.whl (2.0 MB)\n",
            "\u001b[K     |████████████████████████████████| 2.0 MB 36.6 MB/s \n",
            "\u001b[?25hCollecting frozenlist>=1.1.1\n",
            "  Downloading frozenlist-1.3.0-cp37-cp37m-manylinux_2_5_x86_64.manylinux1_x86_64.manylinux_2_17_x86_64.manylinux2014_x86_64.whl (144 kB)\n",
            "\u001b[K     |████████████████████████████████| 144 kB 61.9 MB/s \n",
            "\u001b[?25hCollecting aiosignal>=1.1.2\n",
            "  Downloading aiosignal-1.2.0-py3-none-any.whl (8.2 kB)\n",
            "Collecting async-timeout<5.0,>=4.0.0a3\n",
            "  Downloading async_timeout-4.0.2-py3-none-any.whl (5.8 kB)\n",
            "Requirement already satisfied: attrs>=17.3.0 in /usr/local/lib/python3.7/dist-packages (from aiohttp->gradio) (21.4.0)\n",
            "Requirement already satisfied: charset-normalizer<3.0,>=2.0 in /usr/local/lib/python3.7/dist-packages (from aiohttp->gradio) (2.0.12)\n",
            "Collecting yarl<2.0,>=1.0\n",
            "  Downloading yarl-1.7.2-cp37-cp37m-manylinux_2_5_x86_64.manylinux1_x86_64.manylinux_2_12_x86_64.manylinux2010_x86_64.whl (271 kB)\n",
            "\u001b[K     |████████████████████████████████| 271 kB 56.5 MB/s \n",
            "\u001b[?25hCollecting multidict<7.0,>=4.5\n",
            "  Downloading multidict-6.0.2-cp37-cp37m-manylinux_2_17_x86_64.manylinux2014_x86_64.whl (94 kB)\n",
            "\u001b[K     |████████████████████████████████| 94 kB 3.4 MB/s \n",
            "\u001b[?25hRequirement already satisfied: typing-extensions>=3.7.4 in /usr/local/lib/python3.7/dist-packages (from aiohttp->gradio) (3.10.0.2)\n",
            "Collecting asynctest==0.13.0\n",
            "  Downloading asynctest-0.13.0-py3-none-any.whl (26 kB)\n",
            "Requirement already satisfied: idna>=2.0 in /usr/local/lib/python3.7/dist-packages (from yarl<2.0,>=1.0->aiohttp->gradio) (2.10)\n",
            "Requirement already satisfied: python-dateutil>2.1 in /usr/local/lib/python3.7/dist-packages (from analytics-python->gradio) (2.8.2)\n",
            "Requirement already satisfied: six>=1.5 in /usr/local/lib/python3.7/dist-packages (from analytics-python->gradio) (1.15.0)\n",
            "Collecting monotonic>=1.5\n",
            "  Downloading monotonic-1.6-py2.py3-none-any.whl (8.2 kB)\n",
            "Collecting backoff==1.10.0\n",
            "  Downloading backoff-1.10.0-py2.py3-none-any.whl (31 kB)\n",
            "Requirement already satisfied: chardet<4,>=3.0.2 in /usr/local/lib/python3.7/dist-packages (from requests->gradio) (3.0.4)\n",
            "Requirement already satisfied: certifi>=2017.4.17 in /usr/local/lib/python3.7/dist-packages (from requests->gradio) (2021.10.8)\n",
            "Requirement already satisfied: urllib3!=1.25.0,!=1.25.1,<1.26,>=1.21.1 in /usr/local/lib/python3.7/dist-packages (from requests->gradio) (1.24.3)\n",
            "Collecting starlette==0.17.1\n",
            "  Downloading starlette-0.17.1-py3-none-any.whl (58 kB)\n",
            "\u001b[K     |████████████████████████████████| 58 kB 6.1 MB/s \n",
            "\u001b[?25hCollecting pydantic!=1.7,!=1.7.1,!=1.7.2,!=1.7.3,!=1.8,!=1.8.1,<2.0.0,>=1.6.2\n",
            "  Downloading pydantic-1.9.0-cp37-cp37m-manylinux_2_17_x86_64.manylinux2014_x86_64.whl (10.9 MB)\n",
            "\u001b[K     |████████████████████████████████| 10.9 MB 40.8 MB/s \n",
            "\u001b[?25hCollecting anyio<4,>=3.0.0\n",
            "  Downloading anyio-3.5.0-py3-none-any.whl (79 kB)\n",
            "\u001b[K     |████████████████████████████████| 79 kB 8.2 MB/s \n",
            "\u001b[?25hCollecting sniffio>=1.1\n",
            "  Downloading sniffio-1.2.0-py3-none-any.whl (10 kB)\n",
            "Collecting mdurl~=0.1\n",
            "  Downloading mdurl-0.1.0-py3-none-any.whl (11 kB)\n",
            "Collecting mdit-py-plugins\n",
            "  Downloading mdit_py_plugins-0.3.0-py3-none-any.whl (43 kB)\n",
            "\u001b[K     |████████████████████████████████| 43 kB 2.2 MB/s \n",
            "\u001b[?25hCollecting linkify-it-py~=1.0\n",
            "  Downloading linkify_it_py-1.0.3-py3-none-any.whl (19 kB)\n",
            "Collecting uc-micro-py\n",
            "  Downloading uc_micro_py-1.0.1-py3-none-any.whl (6.2 kB)\n",
            "Requirement already satisfied: pyparsing!=2.0.4,!=2.1.2,!=2.1.6,>=2.0.1 in /usr/local/lib/python3.7/dist-packages (from matplotlib->gradio) (3.0.7)\n",
            "Requirement already satisfied: kiwisolver>=1.0.1 in /usr/local/lib/python3.7/dist-packages (from matplotlib->gradio) (1.3.2)\n",
            "Requirement already satisfied: cycler>=0.10 in /usr/local/lib/python3.7/dist-packages (from matplotlib->gradio) (0.11.0)\n",
            "Requirement already satisfied: pytz>=2017.3 in /usr/local/lib/python3.7/dist-packages (from pandas->gradio) (2018.9)\n",
            "Collecting cryptography>=2.5\n",
            "  Downloading cryptography-36.0.1-cp36-abi3-manylinux_2_24_x86_64.whl (3.6 MB)\n",
            "\u001b[K     |████████████████████████████████| 3.6 MB 46.9 MB/s \n",
            "\u001b[?25hCollecting bcrypt>=3.1.3\n",
            "  Downloading bcrypt-3.2.0-cp36-abi3-manylinux_2_17_x86_64.manylinux2014_x86_64.manylinux_2_24_x86_64.whl (61 kB)\n",
            "\u001b[K     |████████████████████████████████| 61 kB 443 kB/s \n",
            "\u001b[?25hCollecting pynacl>=1.0.1\n",
            "  Downloading PyNaCl-1.5.0-cp36-abi3-manylinux_2_17_x86_64.manylinux2014_x86_64.manylinux_2_24_x86_64.whl (856 kB)\n",
            "\u001b[K     |████████████████████████████████| 856 kB 56.0 MB/s \n",
            "\u001b[?25hRequirement already satisfied: cffi>=1.1 in /usr/local/lib/python3.7/dist-packages (from bcrypt>=3.1.3->paramiko->gradio) (1.15.0)\n",
            "Requirement already satisfied: pycparser in /usr/local/lib/python3.7/dist-packages (from cffi>=1.1->bcrypt>=3.1.3->paramiko->gradio) (2.21)\n",
            "Collecting h11>=0.8\n",
            "  Downloading h11-0.13.0-py3-none-any.whl (58 kB)\n",
            "\u001b[K     |████████████████████████████████| 58 kB 6.7 MB/s \n",
            "\u001b[?25hRequirement already satisfied: click>=7.0 in /usr/local/lib/python3.7/dist-packages (from uvicorn->gradio) (7.1.2)\n",
            "Collecting asgiref>=3.4.0\n",
            "  Downloading asgiref-3.5.0-py3-none-any.whl (22 kB)\n",
            "Building wheels for collected packages: ffmpy, python-multipart\n",
            "  Building wheel for ffmpy (setup.py) ... \u001b[?25l\u001b[?25hdone\n",
            "  Created wheel for ffmpy: filename=ffmpy-0.3.0-py3-none-any.whl size=4712 sha256=9d81af0a2750d997a91fa17a13cca2f8ef4de3123531581f4afbab5bbc87a888\n",
            "  Stored in directory: /root/.cache/pip/wheels/13/e4/6c/e8059816e86796a597c6e6b0d4c880630f51a1fcfa0befd5e6\n",
            "  Building wheel for python-multipart (setup.py) ... \u001b[?25l\u001b[?25hdone\n",
            "  Created wheel for python-multipart: filename=python_multipart-0.0.5-py3-none-any.whl size=31678 sha256=0da7ffa6731f2d00cd830e90cbe01c37d4e1246f887ec2b9b8747751e668f205\n",
            "  Stored in directory: /root/.cache/pip/wheels/2c/41/7c/bfd1c180534ffdcc0972f78c5758f89881602175d48a8bcd2c\n",
            "Successfully built ffmpy python-multipart\n",
            "Installing collected packages: sniffio, mdurl, uc-micro-py, multidict, markdown-it-py, frozenlist, anyio, yarl, starlette, pynacl, pydantic, monotonic, mdit-py-plugins, linkify-it-py, h11, cryptography, bcrypt, backoff, asynctest, async-timeout, asgiref, aiosignal, uvicorn, python-multipart, pydub, pycryptodome, paramiko, orjson, ffmpy, fastapi, analytics-python, aiohttp, gradio\n",
            "Successfully installed aiohttp-3.8.1 aiosignal-1.2.0 analytics-python-1.4.0 anyio-3.5.0 asgiref-3.5.0 async-timeout-4.0.2 asynctest-0.13.0 backoff-1.10.0 bcrypt-3.2.0 cryptography-36.0.1 fastapi-0.74.1 ffmpy-0.3.0 frozenlist-1.3.0 gradio-2.8.4 h11-0.13.0 linkify-it-py-1.0.3 markdown-it-py-2.0.1 mdit-py-plugins-0.3.0 mdurl-0.1.0 monotonic-1.6 multidict-6.0.2 orjson-3.6.7 paramiko-2.9.2 pycryptodome-3.14.1 pydantic-1.9.0 pydub-0.25.1 pynacl-1.5.0 python-multipart-0.0.5 sniffio-1.2.0 starlette-0.17.1 uc-micro-py-1.0.1 uvicorn-0.17.5 yarl-1.7.2\n"
          ]
        }
      ],
      "source": [
        "# install gradio\n",
        "!pip install gradio"
      ]
    },
    {
      "cell_type": "code",
      "execution_count": null,
      "metadata": {
        "id": "Q72TgZTGLMF1"
      },
      "outputs": [],
      "source": [
        "#import gradio\n",
        "import gradio as gr"
      ]
    },
    {
      "cell_type": "markdown",
      "metadata": {
        "id": "yepXsBkCMGma"
      },
      "source": [
        "Define classifier function"
      ]
    },
    {
      "cell_type": "code",
      "execution_count": null,
      "metadata": {
        "id": "DuZVpKvRMIiq"
      },
      "outputs": [],
      "source": [
        "labels = np.unique(data_train['industry_label'])\n",
        "def predict(text):\n",
        "    text = [text]\n",
        "    text = cleaning_text(text)\n",
        "    pred = log_reg.predict(text)\n",
        "    return pred[0]"
      ]
    },
    {
      "cell_type": "markdown",
      "metadata": {
        "id": "W2SAqLKoMJX9"
      },
      "source": [
        "Launch gradio interface"
      ]
    },
    {
      "cell_type": "code",
      "execution_count": null,
      "metadata": {
        "id": "ukT4sfD8MM_D",
        "colab": {
          "base_uri": "https://localhost:8080/",
          "height": 643
        },
        "outputId": "be0fe289-9d49-4bb1-9ba1-f94cd7242531"
      },
      "outputs": [
        {
          "output_type": "stream",
          "name": "stdout",
          "text": [
            "Colab notebook detected. To show errors in colab notebook, set `debug=True` in `launch()`\n",
            "Running on public URL: https://14289.gradio.app\n",
            "\n",
            "This share link expires in 72 hours. For free permanent hosting, check out Spaces (https://huggingface.co/spaces)\n"
          ]
        },
        {
          "output_type": "display_data",
          "data": {
            "text/html": [
              "\n",
              "        <iframe\n",
              "            width=\"900\"\n",
              "            height=\"500\"\n",
              "            src=\"https://14289.gradio.app\"\n",
              "            frameborder=\"0\"\n",
              "            allowfullscreen\n",
              "        ></iframe>\n",
              "        "
            ],
            "text/plain": [
              "<IPython.lib.display.IFrame at 0x7feccd79d550>"
            ]
          },
          "metadata": {}
        },
        {
          "output_type": "execute_result",
          "data": {
            "text/plain": [
              "(<fastapi.applications.FastAPI at 0x7fed42587c90>,\n",
              " 'http://127.0.0.1:7861/',\n",
              " 'https://14289.gradio.app')"
            ]
          },
          "metadata": {},
          "execution_count": 35
        }
      ],
      "source": [
        "title = \"Industry Sector Classification\"\n",
        "\n",
        "example = [['Corporate Site of ING, a global financial institution of Dutch origin, providing news, investor relations and general information'],\n",
        "           ['Elektromarkt in Ihrer Nähe mit OnlineShop – expert']]\n",
        "\n",
        "gr_interface= gr.Interface(fn = predict, \n",
        "                  inputs = gr.inputs.Textbox(lines=5,placeholder=\"Paste some Text here\",label=\"Input Text\"),\n",
        "                  outputs = gr.outputs.Textbox(),interpretation=\"default\",\n",
        "                  description = \"Enter some text from a company's landing page and see whether the model infers correctly its industry sector\",  \n",
        "                  title=title,examples=example)\n",
        "gr_interface.launch(share=True)"
      ]
    }
  ],
  "metadata": {
    "accelerator": "GPU",
    "colab": {
      "machine_shape": "hm",
      "provenance": [],
      "authorship_tag": "ABX9TyOgEnupjlEt5FsWr4MsLnc2",
      "include_colab_link": true
    },
    "kernelspec": {
      "display_name": "Python 3",
      "name": "python3"
    },
    "language_info": {
      "name": "python"
    }
  },
  "nbformat": 4,
  "nbformat_minor": 0
}