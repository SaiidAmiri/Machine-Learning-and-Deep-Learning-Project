{
  "nbformat": 4,
  "nbformat_minor": 0,
  "metadata": {
    "colab": {
      "provenance": [],
      "machine_shape": "hm"
    },
    "kernelspec": {
      "name": "python3",
      "display_name": "Python 3"
    },
    "language_info": {
      "name": "python"
    },
    "accelerator": "GPU"
  },
  "cells": [
    {
      "cell_type": "markdown",
      "source": [
        "**Loading the Data**"
      ],
      "metadata": {
        "id": "ANpBrpoEkj3J"
      }
    },
    {
      "cell_type": "markdown",
      "source": [
        "The data set is a compressed (gzip) NDJSON file."
      ],
      "metadata": {
        "id": "fe6GLIJjlCQf"
      }
    },
    {
      "cell_type": "code",
      "execution_count": null,
      "metadata": {
        "id": "jf0moi8ekf9h"
      },
      "outputs": [],
      "source": [
        "import gzip\n",
        "import json\n",
        "from pathlib import Path"
      ]
    },
    {
      "cell_type": "markdown",
      "source": [
        "The datasets are imported from Google Drive. It's about a classification of companies' landing pages by industry sector. "
      ],
      "metadata": {
        "id": "Ywq-dNNrlQPg"
      }
    },
    {
      "cell_type": "code",
      "source": [
        "# Mount Google Drive\n",
        "from google.colab import drive\n",
        "drive.mount('/gdrive')\n",
        "data_path = Path('/gdrive/MyDrive/industry_data/')\n",
        "file_name1 = 'train_small.ndjson.gz'\n",
        "file_name2 = 'test_small.ndjson.gz'"
      ],
      "metadata": {
        "id": "Ibr7jNGlnvuS",
        "colab": {
          "base_uri": "https://localhost:8080/"
        },
        "outputId": "f4200871-cceb-4822-e7fb-6d7715b3d3ec"
      },
      "execution_count": null,
      "outputs": [
        {
          "output_type": "stream",
          "name": "stdout",
          "text": [
            "Mounted at /gdrive\n"
          ]
        }
      ]
    },
    {
      "cell_type": "markdown",
      "source": [
        "Importing the whole train file "
      ],
      "metadata": {
        "id": "5RVjtKE2utZX"
      }
    },
    {
      "cell_type": "code",
      "source": [
        "# open train file\n",
        "with gzip.open(data_path/file_name1, \"rt\", encoding='UTF-8') as file:\n",
        "    data1 = [json.loads(line) for line in file]"
      ],
      "metadata": {
        "id": "AsCq3pDuujSF"
      },
      "execution_count": null,
      "outputs": []
    },
    {
      "cell_type": "markdown",
      "source": [
        "Importing the whole test file"
      ],
      "metadata": {
        "id": "l9SbFW7svvzX"
      }
    },
    {
      "cell_type": "code",
      "source": [
        "# open test file\n",
        "with gzip.open(data_path/file_name2, \"rt\", encoding='UTF-8') as file:\n",
        "    data2 = [json.loads(line) for line in file]"
      ],
      "metadata": {
        "id": "VfeG_nvFvyto"
      },
      "execution_count": null,
      "outputs": []
    },
    {
      "cell_type": "markdown",
      "source": [
        "**Data Visualization**"
      ],
      "metadata": {
        "id": "T_xokDqCwM6O"
      }
    },
    {
      "cell_type": "markdown",
      "source": [
        "*Training Dataset*"
      ],
      "metadata": {
        "id": "_5E8tr0K1s6_"
      }
    },
    {
      "cell_type": "markdown",
      "source": [
        "The train file is a list of dictionaries, each dictionary is comprised of 4 keys \n",
        "which are: html, industry, industry_label, and url."
      ],
      "metadata": {
        "id": "S5c16DPsw9Gg"
      }
    },
    {
      "cell_type": "code",
      "source": [
        "example1 = data1[0]\n",
        "example1.keys() "
      ],
      "metadata": {
        "colab": {
          "base_uri": "https://localhost:8080/"
        },
        "id": "zqRzOCFjwx22",
        "outputId": "cbdfcfc2-ca1a-4dd0-a0df-e84fe65cf262"
      },
      "execution_count": null,
      "outputs": [
        {
          "output_type": "execute_result",
          "data": {
            "text/plain": [
              "dict_keys(['url', 'html', 'industry', 'industry_label'])"
            ]
          },
          "metadata": {},
          "execution_count": 5
        }
      ]
    },
    {
      "cell_type": "code",
      "source": [
        "# Part of the html content of the first observation in the train file\n",
        "example1['html'][:512]"
      ],
      "metadata": {
        "colab": {
          "base_uri": "https://localhost:8080/",
          "height": 87
        },
        "id": "b-rVSCZbPyTq",
        "outputId": "139c4c7e-90ec-4be0-f1e1-28f03b54e73b"
      },
      "execution_count": null,
      "outputs": [
        {
          "output_type": "execute_result",
          "data": {
            "application/vnd.google.colaboratory.intrinsic+json": {
              "type": "string"
            },
            "text/plain": [
              "'<!doctype html>\\n<html lang=\"de\">\\n\\t<head>\\n\\t\\t<meta charset=\"utf-8\">\\n\\t\\t<meta name=\"viewport\" content=\"width=device-width, initial-scale=1.0\">\\n\\n\\t\\t<title>Kaiser Personal Service</title>\\n\\n\\t\\t<link rel=\"stylesheet\" href=\"/css/fonts.css?ts=1601589832\">\\n\\t\\t<link rel=\"stylesheet\" href=\"/css/kps.css?ts=1612182547\">\\n\\n\\t\\t<script type=\"text/javascript\" src=\"/js/MooTools-Core-1.6.0.js\"></script>\\n\\t\\t<script type=\"text/javascript\" src=\"/js/MooTools-More-1.6.0.js\"></script>\\n\\t</head>\\n\\t<body>\\n\\t\\t<div id=\"header\">\\n\\t\\t\\t<a href=\"/\" cla'"
            ]
          },
          "metadata": {},
          "execution_count": 6
        }
      ]
    },
    {
      "cell_type": "markdown",
      "source": [
        "Transformation of the train file constructed before as a list of dictionaries to a dataframe."
      ],
      "metadata": {
        "id": "ZZmkX7Ujyjta"
      }
    },
    {
      "cell_type": "code",
      "source": [
        "import pandas as pd\n",
        "data_train = pd.DataFrame(data1)"
      ],
      "metadata": {
        "id": "1ftw98qeyIgs"
      },
      "execution_count": null,
      "outputs": []
    },
    {
      "cell_type": "code",
      "source": [
        "data_train.shape "
      ],
      "metadata": {
        "colab": {
          "base_uri": "https://localhost:8080/"
        },
        "id": "wRXohB4EzJPV",
        "outputId": "d344b3a0-094f-4908-a818-9222c236561b"
      },
      "execution_count": null,
      "outputs": [
        {
          "output_type": "execute_result",
          "data": {
            "text/plain": [
              "(25185, 4)"
            ]
          },
          "metadata": {},
          "execution_count": 8
        }
      ]
    },
    {
      "cell_type": "code",
      "source": [
        "data_train.head()"
      ],
      "metadata": {
        "colab": {
          "base_uri": "https://localhost:8080/",
          "height": 206
        },
        "id": "jHPNapH0zCd3",
        "outputId": "f6c30428-b890-46e3-b532-87af919865ac"
      },
      "execution_count": null,
      "outputs": [
        {
          "output_type": "execute_result",
          "data": {
            "text/html": [
              "\n",
              "  <div id=\"df-c822a688-f729-4142-8226-43459428991d\">\n",
              "    <div class=\"colab-df-container\">\n",
              "      <div>\n",
              "<style scoped>\n",
              "    .dataframe tbody tr th:only-of-type {\n",
              "        vertical-align: middle;\n",
              "    }\n",
              "\n",
              "    .dataframe tbody tr th {\n",
              "        vertical-align: top;\n",
              "    }\n",
              "\n",
              "    .dataframe thead th {\n",
              "        text-align: right;\n",
              "    }\n",
              "</style>\n",
              "<table border=\"1\" class=\"dataframe\">\n",
              "  <thead>\n",
              "    <tr style=\"text-align: right;\">\n",
              "      <th></th>\n",
              "      <th>url</th>\n",
              "      <th>html</th>\n",
              "      <th>industry</th>\n",
              "      <th>industry_label</th>\n",
              "    </tr>\n",
              "  </thead>\n",
              "  <tbody>\n",
              "    <tr>\n",
              "      <th>0</th>\n",
              "      <td>http://www.kaiser-personal-service.de</td>\n",
              "      <td>&lt;!doctype html&gt;\\n&lt;html lang=\"de\"&gt;\\n\\t&lt;head&gt;\\n\\...</td>\n",
              "      <td>137</td>\n",
              "      <td>Human Resources</td>\n",
              "    </tr>\n",
              "    <tr>\n",
              "      <th>1</th>\n",
              "      <td>http://www.brandseven.com</td>\n",
              "      <td>&lt;!DOCTYPE html&gt;\\n&lt;html class=\"html\" lang=\"de-D...</td>\n",
              "      <td>96</td>\n",
              "      <td>Information Technology and Services</td>\n",
              "    </tr>\n",
              "    <tr>\n",
              "      <th>2</th>\n",
              "      <td>http://www.beumergroup.com</td>\n",
              "      <td>&lt;!DOCTYPE html&gt;\\n&lt;html class=\"home page-templa...</td>\n",
              "      <td>135</td>\n",
              "      <td>Mechanical or Industrial Engineering</td>\n",
              "    </tr>\n",
              "    <tr>\n",
              "      <th>3</th>\n",
              "      <td>http://www.aurigavision.com</td>\n",
              "      <td>&lt;!doctype html&gt;\\n&lt;!--[if IE 8]&gt;         &lt;html ...</td>\n",
              "      <td>13</td>\n",
              "      <td>Medical Practice</td>\n",
              "    </tr>\n",
              "    <tr>\n",
              "      <th>4</th>\n",
              "      <td>http://www.comme-a-la-maison.ch</td>\n",
              "      <td>&lt;!DOCTYPE html&gt;\\n&lt;html lang=\"fr\"&gt;\\n&lt;head&gt;\\n\\n&lt;...</td>\n",
              "      <td>48</td>\n",
              "      <td>Construction</td>\n",
              "    </tr>\n",
              "  </tbody>\n",
              "</table>\n",
              "</div>\n",
              "      <button class=\"colab-df-convert\" onclick=\"convertToInteractive('df-c822a688-f729-4142-8226-43459428991d')\"\n",
              "              title=\"Convert this dataframe to an interactive table.\"\n",
              "              style=\"display:none;\">\n",
              "        \n",
              "  <svg xmlns=\"http://www.w3.org/2000/svg\" height=\"24px\"viewBox=\"0 0 24 24\"\n",
              "       width=\"24px\">\n",
              "    <path d=\"M0 0h24v24H0V0z\" fill=\"none\"/>\n",
              "    <path d=\"M18.56 5.44l.94 2.06.94-2.06 2.06-.94-2.06-.94-.94-2.06-.94 2.06-2.06.94zm-11 1L8.5 8.5l.94-2.06 2.06-.94-2.06-.94L8.5 2.5l-.94 2.06-2.06.94zm10 10l.94 2.06.94-2.06 2.06-.94-2.06-.94-.94-2.06-.94 2.06-2.06.94z\"/><path d=\"M17.41 7.96l-1.37-1.37c-.4-.4-.92-.59-1.43-.59-.52 0-1.04.2-1.43.59L10.3 9.45l-7.72 7.72c-.78.78-.78 2.05 0 2.83L4 21.41c.39.39.9.59 1.41.59.51 0 1.02-.2 1.41-.59l7.78-7.78 2.81-2.81c.8-.78.8-2.07 0-2.86zM5.41 20L4 18.59l7.72-7.72 1.47 1.35L5.41 20z\"/>\n",
              "  </svg>\n",
              "      </button>\n",
              "      \n",
              "  <style>\n",
              "    .colab-df-container {\n",
              "      display:flex;\n",
              "      flex-wrap:wrap;\n",
              "      gap: 12px;\n",
              "    }\n",
              "\n",
              "    .colab-df-convert {\n",
              "      background-color: #E8F0FE;\n",
              "      border: none;\n",
              "      border-radius: 50%;\n",
              "      cursor: pointer;\n",
              "      display: none;\n",
              "      fill: #1967D2;\n",
              "      height: 32px;\n",
              "      padding: 0 0 0 0;\n",
              "      width: 32px;\n",
              "    }\n",
              "\n",
              "    .colab-df-convert:hover {\n",
              "      background-color: #E2EBFA;\n",
              "      box-shadow: 0px 1px 2px rgba(60, 64, 67, 0.3), 0px 1px 3px 1px rgba(60, 64, 67, 0.15);\n",
              "      fill: #174EA6;\n",
              "    }\n",
              "\n",
              "    [theme=dark] .colab-df-convert {\n",
              "      background-color: #3B4455;\n",
              "      fill: #D2E3FC;\n",
              "    }\n",
              "\n",
              "    [theme=dark] .colab-df-convert:hover {\n",
              "      background-color: #434B5C;\n",
              "      box-shadow: 0px 1px 3px 1px rgba(0, 0, 0, 0.15);\n",
              "      filter: drop-shadow(0px 1px 2px rgba(0, 0, 0, 0.3));\n",
              "      fill: #FFFFFF;\n",
              "    }\n",
              "  </style>\n",
              "\n",
              "      <script>\n",
              "        const buttonEl =\n",
              "          document.querySelector('#df-c822a688-f729-4142-8226-43459428991d button.colab-df-convert');\n",
              "        buttonEl.style.display =\n",
              "          google.colab.kernel.accessAllowed ? 'block' : 'none';\n",
              "\n",
              "        async function convertToInteractive(key) {\n",
              "          const element = document.querySelector('#df-c822a688-f729-4142-8226-43459428991d');\n",
              "          const dataTable =\n",
              "            await google.colab.kernel.invokeFunction('convertToInteractive',\n",
              "                                                     [key], {});\n",
              "          if (!dataTable) return;\n",
              "\n",
              "          const docLinkHtml = 'Like what you see? Visit the ' +\n",
              "            '<a target=\"_blank\" href=https://colab.research.google.com/notebooks/data_table.ipynb>data table notebook</a>'\n",
              "            + ' to learn more about interactive tables.';\n",
              "          element.innerHTML = '';\n",
              "          dataTable['output_type'] = 'display_data';\n",
              "          await google.colab.output.renderOutput(dataTable, element);\n",
              "          const docLink = document.createElement('div');\n",
              "          docLink.innerHTML = docLinkHtml;\n",
              "          element.appendChild(docLink);\n",
              "        }\n",
              "      </script>\n",
              "    </div>\n",
              "  </div>\n",
              "  "
            ],
            "text/plain": [
              "                                     url  ...                        industry_label\n",
              "0  http://www.kaiser-personal-service.de  ...                       Human Resources\n",
              "1              http://www.brandseven.com  ...   Information Technology and Services\n",
              "2             http://www.beumergroup.com  ...  Mechanical or Industrial Engineering\n",
              "3            http://www.aurigavision.com  ...                      Medical Practice\n",
              "4        http://www.comme-a-la-maison.ch  ...                          Construction\n",
              "\n",
              "[5 rows x 4 columns]"
            ]
          },
          "metadata": {},
          "execution_count": 9
        }
      ]
    },
    {
      "cell_type": "markdown",
      "source": [
        "Exploration of the distribution of the different classes in the training dataset. There are 19 industry classes."
      ],
      "metadata": {
        "id": "xmGvIOfR0BmK"
      }
    },
    {
      "cell_type": "code",
      "source": [
        "import matplotlib.pyplot as plt\n",
        "fig1 = plt.figure(figsize=(8,6))\n",
        "data_train.groupby(['industry_label']).size().sort_values(ascending=False).plot.bar()\n",
        "plt.show()"
      ],
      "metadata": {
        "colab": {
          "base_uri": "https://localhost:8080/",
          "height": 563
        },
        "id": "hAVKxIf_zvYx",
        "outputId": "e4a63f88-ee98-4d4f-babc-2c145aa768b6"
      },
      "execution_count": null,
      "outputs": [
        {
          "output_type": "display_data",
          "data": {
            "image/png": "[encoded data removed]",
            "text/plain": [
              "<Figure size 576x432 with 1 Axes>"
            ]
          },
          "metadata": {
            "needs_background": "light"
          }
        }
      ]
    },
    {
      "cell_type": "code",
      "source": [
        "data_train['industry_label'].value_counts()"
      ],
      "metadata": {
        "colab": {
          "base_uri": "https://localhost:8080/"
        },
        "id": "UR8axN2B3r7p",
        "outputId": "c90cb2d4-a9e7-46c7-85c4-d8dc621e074e"
      },
      "execution_count": null,
      "outputs": [
        {
          "output_type": "execute_result",
          "data": {
            "text/plain": [
              "Information Technology and Services     5191\n",
              "Mechanical or Industrial Engineering    3147\n",
              "Marketing and Advertising               2418\n",
              "Management Consulting                   2192\n",
              "Financial Services                      1414\n",
              "Wholesale                               1414\n",
              "Medical Practice                        1217\n",
              "Construction                            1191\n",
              "Automotive                              1050\n",
              "Consumer Goods                          1040\n",
              "Renewables & Environment                 874\n",
              "Real Estate                              764\n",
              "Human Resources                          619\n",
              "Recreational Facilities and Services     469\n",
              "Telecommunications                       466\n",
              "Logistics and Supply Chain               463\n",
              "Legal Services                           439\n",
              "Insurance                                418\n",
              "Leisure, Travel & Tourism                399\n",
              "Name: industry_label, dtype: int64"
            ]
          },
          "metadata": {},
          "execution_count": 11
        }
      ]
    },
    {
      "cell_type": "markdown",
      "source": [
        "The training dataset is imbalanced. It comprises 25185 observations, in which the \"Information Technology and Services\" class is the most frequent one with 5191 observations, and the \"Leisure, Travel & Tourism\" class has the minimum occurrence with only 399 observations."
      ],
      "metadata": {
        "id": "phmHADzB2iVh"
      }
    },
    {
      "cell_type": "code",
      "source": [
        "# Number of words in the training dataset\n",
        "print(data_train['html'].apply(lambda x: len(x.split(' '))).sum())"
      ],
      "metadata": {
        "colab": {
          "base_uri": "https://localhost:8080/"
        },
        "id": "4_C3Qs_4KusE",
        "outputId": "72ef33c7-96b5-4d96-9cb9-2583bfbee004"
      },
      "execution_count": null,
      "outputs": [
        {
          "output_type": "stream",
          "name": "stdout",
          "text": [
            "395211490\n"
          ]
        }
      ]
    },
    {
      "cell_type": "markdown",
      "source": [
        "There are nearly 395 million words in the 'html' column relative to the train set. "
      ],
      "metadata": {
        "id": "oPISMB4oNtyS"
      }
    },
    {
      "cell_type": "markdown",
      "source": [
        "*Test Dataset*"
      ],
      "metadata": {
        "id": "5clS-L2t6QVh"
      }
    },
    {
      "cell_type": "markdown",
      "source": [
        "The test file is also a list of dictionaries, each dictionary comprises 4 keys which are: html, industry, industry_label, and url."
      ],
      "metadata": {
        "id": "QBqZEm0i6hO6"
      }
    },
    {
      "cell_type": "code",
      "source": [
        "example2 = data2[0]\n",
        "example2.keys()"
      ],
      "metadata": {
        "colab": {
          "base_uri": "https://localhost:8080/"
        },
        "id": "w-mLb-fyNLPp",
        "outputId": "470ce3ed-9a23-455b-d9ab-87bf3cf64717"
      },
      "execution_count": null,
      "outputs": [
        {
          "output_type": "execute_result",
          "data": {
            "text/plain": [
              "dict_keys(['url', 'html', 'industry', 'industry_label'])"
            ]
          },
          "metadata": {},
          "execution_count": 13
        }
      ]
    },
    {
      "cell_type": "code",
      "source": [
        "# Part of the html content of the first observation in the test file\n",
        "example2['html'][:512]"
      ],
      "metadata": {
        "colab": {
          "base_uri": "https://localhost:8080/",
          "height": 87
        },
        "id": "Vs9jiSwKPmvz",
        "outputId": "74b347ad-6f59-483c-c590-eb7edaf696d5"
      },
      "execution_count": null,
      "outputs": [
        {
          "output_type": "execute_result",
          "data": {
            "application/vnd.google.colaboratory.intrinsic+json": {
              "type": "string"
            },
            "text/plain": [
              "'<!-- HTML --><!DOCTYPE html><html lang=\"de\" xmlns=\"http://www.w3.org/1999/xhtml\"><head>\\n<meta content=\"ad5ef4c6-83e0-425a-a257-e16bdb6590e9\" name=\"csrf-token\" />\\n   <title>Elektromarkt in Ihrer Nähe mit Online-Shop – expert</title> <meta name=\"description\" content=\"Finden Sie hier Ihren expert Elektrofachmarkt in Ihrer Nähe und viele Aktionsangebote ✔ günstig im expert Online-Shop. expert – Mit den besten Empfehlungen.\"> <meta charset=\"utf-8\"/> <meta http-equiv=\"X-UA-Compatible\" content=\"IE=edge\"/> <meta co'"
            ]
          },
          "metadata": {},
          "execution_count": 14
        }
      ]
    },
    {
      "cell_type": "markdown",
      "source": [
        "Transformation of the test file constructed before as a list of dictionaries to a dataframe."
      ],
      "metadata": {
        "id": "u_WUGc5aNfgK"
      }
    },
    {
      "cell_type": "code",
      "source": [
        "import pandas as pd\n",
        "data_test = pd.DataFrame(data2) "
      ],
      "metadata": {
        "id": "LlzBEsoA0kVR"
      },
      "execution_count": null,
      "outputs": []
    },
    {
      "cell_type": "code",
      "source": [
        "data_test.shape "
      ],
      "metadata": {
        "colab": {
          "base_uri": "https://localhost:8080/"
        },
        "id": "Skc5xzhy0kfD",
        "outputId": "3325c6d1-fe34-45b9-d064-b86b5442fe09"
      },
      "execution_count": null,
      "outputs": [
        {
          "output_type": "execute_result",
          "data": {
            "text/plain": [
              "(8396, 4)"
            ]
          },
          "metadata": {},
          "execution_count": 16
        }
      ]
    },
    {
      "cell_type": "code",
      "source": [
        "data_test.head()"
      ],
      "metadata": {
        "colab": {
          "base_uri": "https://localhost:8080/",
          "height": 206
        },
        "id": "YMEbqkm37N3b",
        "outputId": "3b7cdfb4-1c2f-45f9-9e42-fe2b0a30e921"
      },
      "execution_count": null,
      "outputs": [
        {
          "output_type": "execute_result",
          "data": {
            "text/html": [
              "\n",
              "  <div id=\"df-75f94b8c-f7ba-4d5d-9884-86fdf7b7c1c1\">\n",
              "    <div class=\"colab-df-container\">\n",
              "      <div>\n",
              "<style scoped>\n",
              "    .dataframe tbody tr th:only-of-type {\n",
              "        vertical-align: middle;\n",
              "    }\n",
              "\n",
              "    .dataframe tbody tr th {\n",
              "        vertical-align: top;\n",
              "    }\n",
              "\n",
              "    .dataframe thead th {\n",
              "        text-align: right;\n",
              "    }\n",
              "</style>\n",
              "<table border=\"1\" class=\"dataframe\">\n",
              "  <thead>\n",
              "    <tr style=\"text-align: right;\">\n",
              "      <th></th>\n",
              "      <th>url</th>\n",
              "      <th>html</th>\n",
              "      <th>industry</th>\n",
              "      <th>industry_label</th>\n",
              "    </tr>\n",
              "  </thead>\n",
              "  <tbody>\n",
              "    <tr>\n",
              "      <th>0</th>\n",
              "      <td>http://www.expert.de</td>\n",
              "      <td>&lt;!-- HTML --&gt;&lt;!DOCTYPE html&gt;&lt;html lang=\"de\" xm...</td>\n",
              "      <td>133</td>\n",
              "      <td>Wholesale</td>\n",
              "    </tr>\n",
              "    <tr>\n",
              "      <th>1</th>\n",
              "      <td>http://www.weight-watchers.de</td>\n",
              "      <td>&lt;!doctype html&gt;&lt;html lang=\"de\" xmlns=\"http://w...</td>\n",
              "      <td>13</td>\n",
              "      <td>Medical Practice</td>\n",
              "    </tr>\n",
              "    <tr>\n",
              "      <th>2</th>\n",
              "      <td>http://www.sk-rade.de</td>\n",
              "      <td>&lt;!DOCTYPE html&gt;\\r\\n\\t\\t&lt;html lang=\"de\" class=\"...</td>\n",
              "      <td>43</td>\n",
              "      <td>Financial Services</td>\n",
              "    </tr>\n",
              "    <tr>\n",
              "      <th>3</th>\n",
              "      <td>http://www.getahead.de</td>\n",
              "      <td>&lt;!DOCTYPE html&gt;\\n&lt;!-- HTML5 --&gt;\\n&lt;html lang=\"d...</td>\n",
              "      <td>137</td>\n",
              "      <td>Human Resources</td>\n",
              "    </tr>\n",
              "    <tr>\n",
              "      <th>4</th>\n",
              "      <td>http://www.pfalzwerke-netz.de</td>\n",
              "      <td>&lt;!doctype html&gt;\\n&lt;html class=\"no-js\" lang=\"de\"...</td>\n",
              "      <td>144</td>\n",
              "      <td>Renewables &amp; Environment</td>\n",
              "    </tr>\n",
              "  </tbody>\n",
              "</table>\n",
              "</div>\n",
              "      <button class=\"colab-df-convert\" onclick=\"convertToInteractive('df-75f94b8c-f7ba-4d5d-9884-86fdf7b7c1c1')\"\n",
              "              title=\"Convert this dataframe to an interactive table.\"\n",
              "              style=\"display:none;\">\n",
              "        \n",
              "  <svg xmlns=\"http://www.w3.org/2000/svg\" height=\"24px\"viewBox=\"0 0 24 24\"\n",
              "       width=\"24px\">\n",
              "    <path d=\"M0 0h24v24H0V0z\" fill=\"none\"/>\n",
              "    <path d=\"M18.56 5.44l.94 2.06.94-2.06 2.06-.94-2.06-.94-.94-2.06-.94 2.06-2.06.94zm-11 1L8.5 8.5l.94-2.06 2.06-.94-2.06-.94L8.5 2.5l-.94 2.06-2.06.94zm10 10l.94 2.06.94-2.06 2.06-.94-2.06-.94-.94-2.06-.94 2.06-2.06.94z\"/><path d=\"M17.41 7.96l-1.37-1.37c-.4-.4-.92-.59-1.43-.59-.52 0-1.04.2-1.43.59L10.3 9.45l-7.72 7.72c-.78.78-.78 2.05 0 2.83L4 21.41c.39.39.9.59 1.41.59.51 0 1.02-.2 1.41-.59l7.78-7.78 2.81-2.81c.8-.78.8-2.07 0-2.86zM5.41 20L4 18.59l7.72-7.72 1.47 1.35L5.41 20z\"/>\n",
              "  </svg>\n",
              "      </button>\n",
              "      \n",
              "  <style>\n",
              "    .colab-df-container {\n",
              "      display:flex;\n",
              "      flex-wrap:wrap;\n",
              "      gap: 12px;\n",
              "    }\n",
              "\n",
              "    .colab-df-convert {\n",
              "      background-color: #E8F0FE;\n",
              "      border: none;\n",
              "      border-radius: 50%;\n",
              "      cursor: pointer;\n",
              "      display: none;\n",
              "      fill: #1967D2;\n",
              "      height: 32px;\n",
              "      padding: 0 0 0 0;\n",
              "      width: 32px;\n",
              "    }\n",
              "\n",
              "    .colab-df-convert:hover {\n",
              "      background-color: #E2EBFA;\n",
              "      box-shadow: 0px 1px 2px rgba(60, 64, 67, 0.3), 0px 1px 3px 1px rgba(60, 64, 67, 0.15);\n",
              "      fill: #174EA6;\n",
              "    }\n",
              "\n",
              "    [theme=dark] .colab-df-convert {\n",
              "      background-color: #3B4455;\n",
              "      fill: #D2E3FC;\n",
              "    }\n",
              "\n",
              "    [theme=dark] .colab-df-convert:hover {\n",
              "      background-color: #434B5C;\n",
              "      box-shadow: 0px 1px 3px 1px rgba(0, 0, 0, 0.15);\n",
              "      filter: drop-shadow(0px 1px 2px rgba(0, 0, 0, 0.3));\n",
              "      fill: #FFFFFF;\n",
              "    }\n",
              "  </style>\n",
              "\n",
              "      <script>\n",
              "        const buttonEl =\n",
              "          document.querySelector('#df-75f94b8c-f7ba-4d5d-9884-86fdf7b7c1c1 button.colab-df-convert');\n",
              "        buttonEl.style.display =\n",
              "          google.colab.kernel.accessAllowed ? 'block' : 'none';\n",
              "\n",
              "        async function convertToInteractive(key) {\n",
              "          const element = document.querySelector('#df-75f94b8c-f7ba-4d5d-9884-86fdf7b7c1c1');\n",
              "          const dataTable =\n",
              "            await google.colab.kernel.invokeFunction('convertToInteractive',\n",
              "                                                     [key], {});\n",
              "          if (!dataTable) return;\n",
              "\n",
              "          const docLinkHtml = 'Like what you see? Visit the ' +\n",
              "            '<a target=\"_blank\" href=https://colab.research.google.com/notebooks/data_table.ipynb>data table notebook</a>'\n",
              "            + ' to learn more about interactive tables.';\n",
              "          element.innerHTML = '';\n",
              "          dataTable['output_type'] = 'display_data';\n",
              "          await google.colab.output.renderOutput(dataTable, element);\n",
              "          const docLink = document.createElement('div');\n",
              "          docLink.innerHTML = docLinkHtml;\n",
              "          element.appendChild(docLink);\n",
              "        }\n",
              "      </script>\n",
              "    </div>\n",
              "  </div>\n",
              "  "
            ],
            "text/plain": [
              "                             url  ...            industry_label\n",
              "0           http://www.expert.de  ...                 Wholesale\n",
              "1  http://www.weight-watchers.de  ...          Medical Practice\n",
              "2          http://www.sk-rade.de  ...        Financial Services\n",
              "3         http://www.getahead.de  ...           Human Resources\n",
              "4  http://www.pfalzwerke-netz.de  ...  Renewables & Environment\n",
              "\n",
              "[5 rows x 4 columns]"
            ]
          },
          "metadata": {},
          "execution_count": 17
        }
      ]
    },
    {
      "cell_type": "markdown",
      "source": [
        "Exploration of the distribution of the different classes in the test dataset. There are also 19 industry classes."
      ],
      "metadata": {
        "id": "KzCyB-D47o1J"
      }
    },
    {
      "cell_type": "code",
      "source": [
        "fig1 = plt.figure(figsize=(8,6))\n",
        "data_test.groupby(['industry_label']).size().sort_values(ascending=False).plot.bar()\n",
        "plt.show()"
      ],
      "metadata": {
        "colab": {
          "base_uri": "https://localhost:8080/",
          "height": 563
        },
        "id": "pE9EBx8V7vEq",
        "outputId": "463b0ec0-46b1-46b0-97a6-4b61ff75253e"
      },
      "execution_count": null,
      "outputs": [
        {
          "output_type": "display_data",
          "data": {
            "image/png": "[encoded data removed]",
            "text/plain": [
              "<Figure size 576x432 with 1 Axes>"
            ]
          },
          "metadata": {
            "needs_background": "light"
          }
        }
      ]
    },
    {
      "cell_type": "code",
      "source": [
        "data_test['industry_label'].value_counts()"
      ],
      "metadata": {
        "colab": {
          "base_uri": "https://localhost:8080/"
        },
        "id": "wfeYa2Wh8L79",
        "outputId": "be90f723-f05d-4f5c-dc86-5938d4ed0cd1"
      },
      "execution_count": null,
      "outputs": [
        {
          "output_type": "execute_result",
          "data": {
            "text/plain": [
              "Information Technology and Services     1671\n",
              "Mechanical or Industrial Engineering    1004\n",
              "Marketing and Advertising                830\n",
              "Management Consulting                    759\n",
              "Financial Services                       469\n",
              "Wholesale                                468\n",
              "Medical Practice                         395\n",
              "Construction                             390\n",
              "Consumer Goods                           372\n",
              "Automotive                               356\n",
              "Renewables & Environment                 290\n",
              "Real Estate                              240\n",
              "Human Resources                          218\n",
              "Logistics and Supply Chain               183\n",
              "Recreational Facilities and Services     163\n",
              "Telecommunications                       153\n",
              "Insurance                                152\n",
              "Leisure, Travel & Tourism                148\n",
              "Legal Services                           135\n",
              "Name: industry_label, dtype: int64"
            ]
          },
          "metadata": {},
          "execution_count": 19
        }
      ]
    },
    {
      "cell_type": "markdown",
      "source": [
        "The test dataset is also imbalanced. It is comprised of 8396 observations, in which the \"Information Technology and Services\" class is the most frequent with 1671 observations, and the \"Legal Services\" class has the minimum occurrence with only 135 observations."
      ],
      "metadata": {
        "id": "uMBMP77F8XX_"
      }
    },
    {
      "cell_type": "code",
      "source": [
        "# Number of words in the test dataset\n",
        "print(data_test['html'].apply(lambda x: len(x.split(' '))).sum())"
      ],
      "metadata": {
        "colab": {
          "base_uri": "https://localhost:8080/"
        },
        "id": "bImH4rpGLlBs",
        "outputId": "0c975c72-4adf-4387-a29e-cb7d782aefac"
      },
      "execution_count": null,
      "outputs": [
        {
          "output_type": "stream",
          "name": "stdout",
          "text": [
            "135251555\n"
          ]
        }
      ]
    },
    {
      "cell_type": "markdown",
      "source": [
        "There are nearly 135 million words in the 'html' column relative to the test set."
      ],
      "metadata": {
        "id": "o5ATGOKOO6Y-"
      }
    },
    {
      "cell_type": "markdown",
      "source": [
        "**Data Cleaning**"
      ],
      "metadata": {
        "id": "8g_sliTzqCWz"
      }
    },
    {
      "cell_type": "markdown",
      "source": [
        "The landing pages of companies are classified based on their html files. In order to get a better accuracy, one needs to clean these html files to obtain proper texts that are well-prepared for training and testing. So, the html is decoded by usig the \"BeautifulSoup\" command, and the punctuations that are not relevant for the training process are removed. "
      ],
      "metadata": {
        "id": "ODpTYRQ8qJzj"
      }
    },
    {
      "cell_type": "code",
      "source": [
        "import string\n",
        "from bs4 import BeautifulSoup\n",
        "PUNCT_TO_REMOVE = string.punctuation\n",
        "def cleaning_text(text):\n",
        "    \"\"\"custom function to remove the punctuation\"\"\"\n",
        "    text = text.replace('\\n', ' ') \n",
        "    text = BeautifulSoup(text, 'html.parser').text # HTML decoding\n",
        "    text = text.translate(str.maketrans('', '', PUNCT_TO_REMOVE))\n",
        "    return text"
      ],
      "metadata": {
        "id": "H0-iUj5jp43E"
      },
      "execution_count": null,
      "outputs": []
    },
    {
      "cell_type": "markdown",
      "source": [
        "*Training Dataset after Cleaning*"
      ],
      "metadata": {
        "id": "-e01g3Mm103S"
      }
    },
    {
      "cell_type": "code",
      "source": [
        "data_train['html'] = data_train['html'].apply(cleaning_text)\n",
        "data_train.tail()"
      ],
      "metadata": {
        "id": "p6bF3vRlsWdX",
        "colab": {
          "base_uri": "https://localhost:8080/",
          "height": 206
        },
        "outputId": "3c3edf2d-4c4b-4bfe-a728-d491399fdf84"
      },
      "execution_count": null,
      "outputs": [
        {
          "output_type": "execute_result",
          "data": {
            "text/html": [
              "\n",
              "  <div id=\"df-72ddfe19-eec4-4c03-9c71-98cb3bb39514\">\n",
              "    <div class=\"colab-df-container\">\n",
              "      <div>\n",
              "<style scoped>\n",
              "    .dataframe tbody tr th:only-of-type {\n",
              "        vertical-align: middle;\n",
              "    }\n",
              "\n",
              "    .dataframe tbody tr th {\n",
              "        vertical-align: top;\n",
              "    }\n",
              "\n",
              "    .dataframe thead th {\n",
              "        text-align: right;\n",
              "    }\n",
              "</style>\n",
              "<table border=\"1\" class=\"dataframe\">\n",
              "  <thead>\n",
              "    <tr style=\"text-align: right;\">\n",
              "      <th></th>\n",
              "      <th>url</th>\n",
              "      <th>html</th>\n",
              "      <th>industry</th>\n",
              "      <th>industry_label</th>\n",
              "    </tr>\n",
              "  </thead>\n",
              "  <tbody>\n",
              "    <tr>\n",
              "      <th>25180</th>\n",
              "      <td>http://www.starkhomes.com</td>\n",
              "      <td>South Central Wisconsin Real E...</td>\n",
              "      <td>44</td>\n",
              "      <td>Real Estate</td>\n",
              "    </tr>\n",
              "    <tr>\n",
              "      <th>25181</th>\n",
              "      <td>http://www.hotel-konsul.de</td>\n",
              "      <td>Hotel Konsul  Hotel Konsul             ...</td>\n",
              "      <td>30</td>\n",
              "      <td>Leisure, Travel &amp; Tourism</td>\n",
              "    </tr>\n",
              "    <tr>\n",
              "      <th>25182</th>\n",
              "      <td>http://www.suva.ch</td>\n",
              "      <td>Suva  Unfallv...</td>\n",
              "      <td>42</td>\n",
              "      <td>Insurance</td>\n",
              "    </tr>\n",
              "    <tr>\n",
              "      <th>25183</th>\n",
              "      <td>http://www.wiegandsystem.de</td>\n",
              "      <td>asynchide  opacity 0 important  functionasy...</td>\n",
              "      <td>13</td>\n",
              "      <td>Medical Practice</td>\n",
              "    </tr>\n",
              "    <tr>\n",
              "      <th>25184</th>\n",
              "      <td>http://www.coresystems.net</td>\n",
              "      <td>SAP Field Service Management l field se...</td>\n",
              "      <td>96</td>\n",
              "      <td>Information Technology and Services</td>\n",
              "    </tr>\n",
              "  </tbody>\n",
              "</table>\n",
              "</div>\n",
              "      <button class=\"colab-df-convert\" onclick=\"convertToInteractive('df-72ddfe19-eec4-4c03-9c71-98cb3bb39514')\"\n",
              "              title=\"Convert this dataframe to an interactive table.\"\n",
              "              style=\"display:none;\">\n",
              "        \n",
              "  <svg xmlns=\"http://www.w3.org/2000/svg\" height=\"24px\"viewBox=\"0 0 24 24\"\n",
              "       width=\"24px\">\n",
              "    <path d=\"M0 0h24v24H0V0z\" fill=\"none\"/>\n",
              "    <path d=\"M18.56 5.44l.94 2.06.94-2.06 2.06-.94-2.06-.94-.94-2.06-.94 2.06-2.06.94zm-11 1L8.5 8.5l.94-2.06 2.06-.94-2.06-.94L8.5 2.5l-.94 2.06-2.06.94zm10 10l.94 2.06.94-2.06 2.06-.94-2.06-.94-.94-2.06-.94 2.06-2.06.94z\"/><path d=\"M17.41 7.96l-1.37-1.37c-.4-.4-.92-.59-1.43-.59-.52 0-1.04.2-1.43.59L10.3 9.45l-7.72 7.72c-.78.78-.78 2.05 0 2.83L4 21.41c.39.39.9.59 1.41.59.51 0 1.02-.2 1.41-.59l7.78-7.78 2.81-2.81c.8-.78.8-2.07 0-2.86zM5.41 20L4 18.59l7.72-7.72 1.47 1.35L5.41 20z\"/>\n",
              "  </svg>\n",
              "      </button>\n",
              "      \n",
              "  <style>\n",
              "    .colab-df-container {\n",
              "      display:flex;\n",
              "      flex-wrap:wrap;\n",
              "      gap: 12px;\n",
              "    }\n",
              "\n",
              "    .colab-df-convert {\n",
              "      background-color: #E8F0FE;\n",
              "      border: none;\n",
              "      border-radius: 50%;\n",
              "      cursor: pointer;\n",
              "      display: none;\n",
              "      fill: #1967D2;\n",
              "      height: 32px;\n",
              "      padding: 0 0 0 0;\n",
              "      width: 32px;\n",
              "    }\n",
              "\n",
              "    .colab-df-convert:hover {\n",
              "      background-color: #E2EBFA;\n",
              "      box-shadow: 0px 1px 2px rgba(60, 64, 67, 0.3), 0px 1px 3px 1px rgba(60, 64, 67, 0.15);\n",
              "      fill: #174EA6;\n",
              "    }\n",
              "\n",
              "    [theme=dark] .colab-df-convert {\n",
              "      background-color: #3B4455;\n",
              "      fill: #D2E3FC;\n",
              "    }\n",
              "\n",
              "    [theme=dark] .colab-df-convert:hover {\n",
              "      background-color: #434B5C;\n",
              "      box-shadow: 0px 1px 3px 1px rgba(0, 0, 0, 0.15);\n",
              "      filter: drop-shadow(0px 1px 2px rgba(0, 0, 0, 0.3));\n",
              "      fill: #FFFFFF;\n",
              "    }\n",
              "  </style>\n",
              "\n",
              "      <script>\n",
              "        const buttonEl =\n",
              "          document.querySelector('#df-72ddfe19-eec4-4c03-9c71-98cb3bb39514 button.colab-df-convert');\n",
              "        buttonEl.style.display =\n",
              "          google.colab.kernel.accessAllowed ? 'block' : 'none';\n",
              "\n",
              "        async function convertToInteractive(key) {\n",
              "          const element = document.querySelector('#df-72ddfe19-eec4-4c03-9c71-98cb3bb39514');\n",
              "          const dataTable =\n",
              "            await google.colab.kernel.invokeFunction('convertToInteractive',\n",
              "                                                     [key], {});\n",
              "          if (!dataTable) return;\n",
              "\n",
              "          const docLinkHtml = 'Like what you see? Visit the ' +\n",
              "            '<a target=\"_blank\" href=https://colab.research.google.com/notebooks/data_table.ipynb>data table notebook</a>'\n",
              "            + ' to learn more about interactive tables.';\n",
              "          element.innerHTML = '';\n",
              "          dataTable['output_type'] = 'display_data';\n",
              "          await google.colab.output.renderOutput(dataTable, element);\n",
              "          const docLink = document.createElement('div');\n",
              "          docLink.innerHTML = docLinkHtml;\n",
              "          element.appendChild(docLink);\n",
              "        }\n",
              "      </script>\n",
              "    </div>\n",
              "  </div>\n",
              "  "
            ],
            "text/plain": [
              "                               url  ...                       industry_label\n",
              "25180    http://www.starkhomes.com  ...                          Real Estate\n",
              "25181   http://www.hotel-konsul.de  ...            Leisure, Travel & Tourism\n",
              "25182           http://www.suva.ch  ...                            Insurance\n",
              "25183  http://www.wiegandsystem.de  ...                     Medical Practice\n",
              "25184   http://www.coresystems.net  ...  Information Technology and Services\n",
              "\n",
              "[5 rows x 4 columns]"
            ]
          },
          "metadata": {},
          "execution_count": 22
        }
      ]
    },
    {
      "cell_type": "code",
      "source": [
        "# Number of words in the training dataset\n",
        "print(data_train['html'].apply(lambda x: len(x.split(' '))).sum())"
      ],
      "metadata": {
        "id": "J0hnXdz00rPm",
        "colab": {
          "base_uri": "https://localhost:8080/"
        },
        "outputId": "4e438faf-c20c-44dc-dc08-7f74bb8b8a71"
      },
      "execution_count": null,
      "outputs": [
        {
          "output_type": "stream",
          "name": "stdout",
          "text": [
            "170234367\n"
          ]
        }
      ]
    },
    {
      "cell_type": "markdown",
      "source": [
        "More than one-half of the html content is cleaned."
      ],
      "metadata": {
        "id": "k69dFVEV07UK"
      }
    },
    {
      "cell_type": "markdown",
      "source": [
        "*Test Dataset after Cleaning*"
      ],
      "metadata": {
        "id": "Lk_feAGM2Fbw"
      }
    },
    {
      "cell_type": "code",
      "source": [
        "data_test['html'] = data_test['html'].apply(cleaning_text)\n",
        "data_test.tail()"
      ],
      "metadata": {
        "id": "SQEfXIowxdKW",
        "colab": {
          "base_uri": "https://localhost:8080/",
          "height": 206
        },
        "outputId": "6f083edc-0aac-4bb2-eddd-2e39aa83427e"
      },
      "execution_count": null,
      "outputs": [
        {
          "output_type": "execute_result",
          "data": {
            "text/html": [
              "\n",
              "  <div id=\"df-135107b9-21e9-4e53-bde0-d15d74871c51\">\n",
              "    <div class=\"colab-df-container\">\n",
              "      <div>\n",
              "<style scoped>\n",
              "    .dataframe tbody tr th:only-of-type {\n",
              "        vertical-align: middle;\n",
              "    }\n",
              "\n",
              "    .dataframe tbody tr th {\n",
              "        vertical-align: top;\n",
              "    }\n",
              "\n",
              "    .dataframe thead th {\n",
              "        text-align: right;\n",
              "    }\n",
              "</style>\n",
              "<table border=\"1\" class=\"dataframe\">\n",
              "  <thead>\n",
              "    <tr style=\"text-align: right;\">\n",
              "      <th></th>\n",
              "      <th>url</th>\n",
              "      <th>html</th>\n",
              "      <th>industry</th>\n",
              "      <th>industry_label</th>\n",
              "    </tr>\n",
              "  </thead>\n",
              "  <tbody>\n",
              "    <tr>\n",
              "      <th>8391</th>\n",
              "      <td>http://www.lovatoelectric.de</td>\n",
              "      <td>\\r \\tLovato Electric  Energy and Automa...</td>\n",
              "      <td>25</td>\n",
              "      <td>Consumer Goods</td>\n",
              "    </tr>\n",
              "    <tr>\n",
              "      <th>8392</th>\n",
              "      <td>http://www.hollflachdachbau.de</td>\n",
              "      <td>Startseite  Holl Flachdachbau             ...</td>\n",
              "      <td>48</td>\n",
              "      <td>Construction</td>\n",
              "    </tr>\n",
              "    <tr>\n",
              "      <th>8393</th>\n",
              "      <td>http://www.q-park.de</td>\n",
              "      <td>﻿\\r    \\r     dataLayer  pagelanguagedetypehom...</td>\n",
              "      <td>44</td>\n",
              "      <td>Real Estate</td>\n",
              "    </tr>\n",
              "    <tr>\n",
              "      <th>8394</th>\n",
              "      <td>http://www.jrs.de</td>\n",
              "      <td>JRS   J Rettenmaier  Söhne GmbH  Co KG  docum...</td>\n",
              "      <td>13</td>\n",
              "      <td>Medical Practice</td>\n",
              "    </tr>\n",
              "    <tr>\n",
              "      <th>8395</th>\n",
              "      <td>http://www.spelsberg.de</td>\n",
              "      <td>functionwdsliwlwlwlpus...</td>\n",
              "      <td>25</td>\n",
              "      <td>Consumer Goods</td>\n",
              "    </tr>\n",
              "  </tbody>\n",
              "</table>\n",
              "</div>\n",
              "      <button class=\"colab-df-convert\" onclick=\"convertToInteractive('df-135107b9-21e9-4e53-bde0-d15d74871c51')\"\n",
              "              title=\"Convert this dataframe to an interactive table.\"\n",
              "              style=\"display:none;\">\n",
              "        \n",
              "  <svg xmlns=\"http://www.w3.org/2000/svg\" height=\"24px\"viewBox=\"0 0 24 24\"\n",
              "       width=\"24px\">\n",
              "    <path d=\"M0 0h24v24H0V0z\" fill=\"none\"/>\n",
              "    <path d=\"M18.56 5.44l.94 2.06.94-2.06 2.06-.94-2.06-.94-.94-2.06-.94 2.06-2.06.94zm-11 1L8.5 8.5l.94-2.06 2.06-.94-2.06-.94L8.5 2.5l-.94 2.06-2.06.94zm10 10l.94 2.06.94-2.06 2.06-.94-2.06-.94-.94-2.06-.94 2.06-2.06.94z\"/><path d=\"M17.41 7.96l-1.37-1.37c-.4-.4-.92-.59-1.43-.59-.52 0-1.04.2-1.43.59L10.3 9.45l-7.72 7.72c-.78.78-.78 2.05 0 2.83L4 21.41c.39.39.9.59 1.41.59.51 0 1.02-.2 1.41-.59l7.78-7.78 2.81-2.81c.8-.78.8-2.07 0-2.86zM5.41 20L4 18.59l7.72-7.72 1.47 1.35L5.41 20z\"/>\n",
              "  </svg>\n",
              "      </button>\n",
              "      \n",
              "  <style>\n",
              "    .colab-df-container {\n",
              "      display:flex;\n",
              "      flex-wrap:wrap;\n",
              "      gap: 12px;\n",
              "    }\n",
              "\n",
              "    .colab-df-convert {\n",
              "      background-color: #E8F0FE;\n",
              "      border: none;\n",
              "      border-radius: 50%;\n",
              "      cursor: pointer;\n",
              "      display: none;\n",
              "      fill: #1967D2;\n",
              "      height: 32px;\n",
              "      padding: 0 0 0 0;\n",
              "      width: 32px;\n",
              "    }\n",
              "\n",
              "    .colab-df-convert:hover {\n",
              "      background-color: #E2EBFA;\n",
              "      box-shadow: 0px 1px 2px rgba(60, 64, 67, 0.3), 0px 1px 3px 1px rgba(60, 64, 67, 0.15);\n",
              "      fill: #174EA6;\n",
              "    }\n",
              "\n",
              "    [theme=dark] .colab-df-convert {\n",
              "      background-color: #3B4455;\n",
              "      fill: #D2E3FC;\n",
              "    }\n",
              "\n",
              "    [theme=dark] .colab-df-convert:hover {\n",
              "      background-color: #434B5C;\n",
              "      box-shadow: 0px 1px 3px 1px rgba(0, 0, 0, 0.15);\n",
              "      filter: drop-shadow(0px 1px 2px rgba(0, 0, 0, 0.3));\n",
              "      fill: #FFFFFF;\n",
              "    }\n",
              "  </style>\n",
              "\n",
              "      <script>\n",
              "        const buttonEl =\n",
              "          document.querySelector('#df-135107b9-21e9-4e53-bde0-d15d74871c51 button.colab-df-convert');\n",
              "        buttonEl.style.display =\n",
              "          google.colab.kernel.accessAllowed ? 'block' : 'none';\n",
              "\n",
              "        async function convertToInteractive(key) {\n",
              "          const element = document.querySelector('#df-135107b9-21e9-4e53-bde0-d15d74871c51');\n",
              "          const dataTable =\n",
              "            await google.colab.kernel.invokeFunction('convertToInteractive',\n",
              "                                                     [key], {});\n",
              "          if (!dataTable) return;\n",
              "\n",
              "          const docLinkHtml = 'Like what you see? Visit the ' +\n",
              "            '<a target=\"_blank\" href=https://colab.research.google.com/notebooks/data_table.ipynb>data table notebook</a>'\n",
              "            + ' to learn more about interactive tables.';\n",
              "          element.innerHTML = '';\n",
              "          dataTable['output_type'] = 'display_data';\n",
              "          await google.colab.output.renderOutput(dataTable, element);\n",
              "          const docLink = document.createElement('div');\n",
              "          docLink.innerHTML = docLinkHtml;\n",
              "          element.appendChild(docLink);\n",
              "        }\n",
              "      </script>\n",
              "    </div>\n",
              "  </div>\n",
              "  "
            ],
            "text/plain": [
              "                                 url  ...    industry_label\n",
              "8391    http://www.lovatoelectric.de  ...    Consumer Goods\n",
              "8392  http://www.hollflachdachbau.de  ...      Construction\n",
              "8393            http://www.q-park.de  ...       Real Estate\n",
              "8394               http://www.jrs.de  ...  Medical Practice\n",
              "8395         http://www.spelsberg.de  ...    Consumer Goods\n",
              "\n",
              "[5 rows x 4 columns]"
            ]
          },
          "metadata": {},
          "execution_count": 24
        }
      ]
    },
    {
      "cell_type": "code",
      "source": [
        "# Number of words in the test dataset\n",
        "print(data_test['html'].apply(lambda x: len(x.split(' '))).sum())"
      ],
      "metadata": {
        "id": "voPq2VeF2T1F",
        "colab": {
          "base_uri": "https://localhost:8080/"
        },
        "outputId": "a7bc7341-0b20-44c4-e4be-5260ed3562f9"
      },
      "execution_count": null,
      "outputs": [
        {
          "output_type": "stream",
          "name": "stdout",
          "text": [
            "58947648\n"
          ]
        }
      ]
    },
    {
      "cell_type": "markdown",
      "source": [
        "More than one-half of the html content is cleaned."
      ],
      "metadata": {
        "id": "ZSzbJ9342SIX"
      }
    },
    {
      "cell_type": "markdown",
      "source": [
        "**Train the Model through a Pipeline**"
      ],
      "metadata": {
        "id": "3KlBf57s20Hc"
      }
    },
    {
      "cell_type": "markdown",
      "source": [
        "sklearn.feature_extraction.text.TfidfVectorizer is used to calculate a tf-idf vector for each observation in the column 'html', in which:\n",
        "\n",
        "*   sublinear_df is set to True to use a logarithmic form for frequency.\n",
        "*   min_df is the minimum numbers of documents a word must be present in to be kept.\n",
        "*   norm is set to l2, to ensure all our feature vectors have a euclidian norm of 1.\n",
        "*   ngram_range is set to (1, 2) to indicate that we want to consider both unigrams and bigrams.\n",
        "*   stop_words is set to \"english\" to remove all common pronouns (\"a\", \"the\", ...) to reduce the number of noisy features.\n",
        "\n",
        "Then, the Support Vector Machine (SVM) Model is used to fit the train dataset."
      ],
      "metadata": {
        "id": "F9ASN6Ds4C9O"
      }
    },
    {
      "cell_type": "code",
      "source": [
        "from sklearn.feature_extraction.text import TfidfVectorizer\n",
        "from sklearn.pipeline import Pipeline\n",
        "from sklearn.svm import LinearSVC\n",
        "SVM = Pipeline([\n",
        "    ('tfidf', TfidfVectorizer(sublinear_tf=True, min_df=50, norm='l2', encoding='latin-1', ngram_range=(1, 2), stop_words='english')),\n",
        "    ('SVM', LinearSVC())\n",
        "    ])"
      ],
      "metadata": {
        "id": "yrhzfYbh41aE"
      },
      "execution_count": null,
      "outputs": []
    },
    {
      "cell_type": "code",
      "source": [
        "SVM.fit(data_train.html,data_train.industry_label)"
      ],
      "metadata": {
        "id": "FlgsIRoT6KBS",
        "colab": {
          "base_uri": "https://localhost:8080/"
        },
        "outputId": "31f2c305-550b-4fc1-dc3c-466b177cf7c2"
      },
      "execution_count": null,
      "outputs": [
        {
          "output_type": "execute_result",
          "data": {
            "text/plain": [
              "Pipeline(steps=[('tfidf',\n",
              "                 TfidfVectorizer(encoding='latin-1', min_df=50,\n",
              "                                 ngram_range=(1, 2), stop_words='english',\n",
              "                                 sublinear_tf=True)),\n",
              "                ('SVM', LinearSVC())])"
            ]
          },
          "metadata": {},
          "execution_count": 27
        }
      ]
    },
    {
      "cell_type": "markdown",
      "source": [
        "**Evaluate the Model**"
      ],
      "metadata": {
        "id": "5eYeSI_Q8wWz"
      }
    },
    {
      "cell_type": "code",
      "source": [
        "predictions = SVM.predict(data_test.html)"
      ],
      "metadata": {
        "id": "Si6-9VIq8t1e"
      },
      "execution_count": null,
      "outputs": []
    },
    {
      "cell_type": "markdown",
      "source": [
        "The model has been evaluated using the classification report."
      ],
      "metadata": {
        "id": "N2t9dBcw-p-z"
      }
    },
    {
      "cell_type": "code",
      "source": [
        "from sklearn import metrics\n",
        "import pandas as pd\n",
        "lr_report = metrics.classification_report(data_test.industry_label, \n",
        "                                           predictions,  \n",
        "                                           output_dict=True)\n",
        "pd.DataFrame(lr_report).T"
      ],
      "metadata": {
        "id": "muaRF4L59kFi",
        "colab": {
          "base_uri": "https://localhost:8080/",
          "height": 739
        },
        "outputId": "368641cd-647d-4375-af5a-ceda65e21484"
      },
      "execution_count": null,
      "outputs": [
        {
          "output_type": "execute_result",
          "data": {
            "text/html": [
              "\n",
              "  <div id=\"df-a923cc5c-2f54-42f1-accf-cfee68b4682e\">\n",
              "    <div class=\"colab-df-container\">\n",
              "      <div>\n",
              "<style scoped>\n",
              "    .dataframe tbody tr th:only-of-type {\n",
              "        vertical-align: middle;\n",
              "    }\n",
              "\n",
              "    .dataframe tbody tr th {\n",
              "        vertical-align: top;\n",
              "    }\n",
              "\n",
              "    .dataframe thead th {\n",
              "        text-align: right;\n",
              "    }\n",
              "</style>\n",
              "<table border=\"1\" class=\"dataframe\">\n",
              "  <thead>\n",
              "    <tr style=\"text-align: right;\">\n",
              "      <th></th>\n",
              "      <th>precision</th>\n",
              "      <th>recall</th>\n",
              "      <th>f1-score</th>\n",
              "      <th>support</th>\n",
              "    </tr>\n",
              "  </thead>\n",
              "  <tbody>\n",
              "    <tr>\n",
              "      <th>Automotive</th>\n",
              "      <td>0.800000</td>\n",
              "      <td>0.629213</td>\n",
              "      <td>0.704403</td>\n",
              "      <td>356.000000</td>\n",
              "    </tr>\n",
              "    <tr>\n",
              "      <th>Construction</th>\n",
              "      <td>0.683784</td>\n",
              "      <td>0.648718</td>\n",
              "      <td>0.665789</td>\n",
              "      <td>390.000000</td>\n",
              "    </tr>\n",
              "    <tr>\n",
              "      <th>Consumer Goods</th>\n",
              "      <td>0.650350</td>\n",
              "      <td>0.500000</td>\n",
              "      <td>0.565350</td>\n",
              "      <td>372.000000</td>\n",
              "    </tr>\n",
              "    <tr>\n",
              "      <th>Financial Services</th>\n",
              "      <td>0.829157</td>\n",
              "      <td>0.776119</td>\n",
              "      <td>0.801762</td>\n",
              "      <td>469.000000</td>\n",
              "    </tr>\n",
              "    <tr>\n",
              "      <th>Human Resources</th>\n",
              "      <td>0.757062</td>\n",
              "      <td>0.614679</td>\n",
              "      <td>0.678481</td>\n",
              "      <td>218.000000</td>\n",
              "    </tr>\n",
              "    <tr>\n",
              "      <th>Information Technology and Services</th>\n",
              "      <td>0.662245</td>\n",
              "      <td>0.836625</td>\n",
              "      <td>0.739291</td>\n",
              "      <td>1671.000000</td>\n",
              "    </tr>\n",
              "    <tr>\n",
              "      <th>Insurance</th>\n",
              "      <td>0.781022</td>\n",
              "      <td>0.703947</td>\n",
              "      <td>0.740484</td>\n",
              "      <td>152.000000</td>\n",
              "    </tr>\n",
              "    <tr>\n",
              "      <th>Legal Services</th>\n",
              "      <td>0.912000</td>\n",
              "      <td>0.844444</td>\n",
              "      <td>0.876923</td>\n",
              "      <td>135.000000</td>\n",
              "    </tr>\n",
              "    <tr>\n",
              "      <th>Leisure, Travel &amp; Tourism</th>\n",
              "      <td>0.911111</td>\n",
              "      <td>0.831081</td>\n",
              "      <td>0.869258</td>\n",
              "      <td>148.000000</td>\n",
              "    </tr>\n",
              "    <tr>\n",
              "      <th>Logistics and Supply Chain</th>\n",
              "      <td>0.847328</td>\n",
              "      <td>0.606557</td>\n",
              "      <td>0.707006</td>\n",
              "      <td>183.000000</td>\n",
              "    </tr>\n",
              "    <tr>\n",
              "      <th>Management Consulting</th>\n",
              "      <td>0.656522</td>\n",
              "      <td>0.596838</td>\n",
              "      <td>0.625259</td>\n",
              "      <td>759.000000</td>\n",
              "    </tr>\n",
              "    <tr>\n",
              "      <th>Marketing and Advertising</th>\n",
              "      <td>0.731768</td>\n",
              "      <td>0.713253</td>\n",
              "      <td>0.722392</td>\n",
              "      <td>830.000000</td>\n",
              "    </tr>\n",
              "    <tr>\n",
              "      <th>Mechanical or Industrial Engineering</th>\n",
              "      <td>0.637014</td>\n",
              "      <td>0.798805</td>\n",
              "      <td>0.708794</td>\n",
              "      <td>1004.000000</td>\n",
              "    </tr>\n",
              "    <tr>\n",
              "      <th>Medical Practice</th>\n",
              "      <td>0.791549</td>\n",
              "      <td>0.711392</td>\n",
              "      <td>0.749333</td>\n",
              "      <td>395.000000</td>\n",
              "    </tr>\n",
              "    <tr>\n",
              "      <th>Real Estate</th>\n",
              "      <td>0.875000</td>\n",
              "      <td>0.729167</td>\n",
              "      <td>0.795455</td>\n",
              "      <td>240.000000</td>\n",
              "    </tr>\n",
              "    <tr>\n",
              "      <th>Recreational Facilities and Services</th>\n",
              "      <td>0.716667</td>\n",
              "      <td>0.527607</td>\n",
              "      <td>0.607774</td>\n",
              "      <td>163.000000</td>\n",
              "    </tr>\n",
              "    <tr>\n",
              "      <th>Renewables &amp; Environment</th>\n",
              "      <td>0.756303</td>\n",
              "      <td>0.620690</td>\n",
              "      <td>0.681818</td>\n",
              "      <td>290.000000</td>\n",
              "    </tr>\n",
              "    <tr>\n",
              "      <th>Telecommunications</th>\n",
              "      <td>0.731343</td>\n",
              "      <td>0.320261</td>\n",
              "      <td>0.445455</td>\n",
              "      <td>153.000000</td>\n",
              "    </tr>\n",
              "    <tr>\n",
              "      <th>Wholesale</th>\n",
              "      <td>0.655246</td>\n",
              "      <td>0.653846</td>\n",
              "      <td>0.654545</td>\n",
              "      <td>468.000000</td>\n",
              "    </tr>\n",
              "    <tr>\n",
              "      <th>accuracy</th>\n",
              "      <td>0.707242</td>\n",
              "      <td>0.707242</td>\n",
              "      <td>0.707242</td>\n",
              "      <td>0.707242</td>\n",
              "    </tr>\n",
              "    <tr>\n",
              "      <th>macro avg</th>\n",
              "      <td>0.757130</td>\n",
              "      <td>0.666487</td>\n",
              "      <td>0.702083</td>\n",
              "      <td>8396.000000</td>\n",
              "    </tr>\n",
              "    <tr>\n",
              "      <th>weighted avg</th>\n",
              "      <td>0.715610</td>\n",
              "      <td>0.707242</td>\n",
              "      <td>0.704258</td>\n",
              "      <td>8396.000000</td>\n",
              "    </tr>\n",
              "  </tbody>\n",
              "</table>\n",
              "</div>\n",
              "      <button class=\"colab-df-convert\" onclick=\"convertToInteractive('df-a923cc5c-2f54-42f1-accf-cfee68b4682e')\"\n",
              "              title=\"Convert this dataframe to an interactive table.\"\n",
              "              style=\"display:none;\">\n",
              "        \n",
              "  <svg xmlns=\"http://www.w3.org/2000/svg\" height=\"24px\"viewBox=\"0 0 24 24\"\n",
              "       width=\"24px\">\n",
              "    <path d=\"M0 0h24v24H0V0z\" fill=\"none\"/>\n",
              "    <path d=\"M18.56 5.44l.94 2.06.94-2.06 2.06-.94-2.06-.94-.94-2.06-.94 2.06-2.06.94zm-11 1L8.5 8.5l.94-2.06 2.06-.94-2.06-.94L8.5 2.5l-.94 2.06-2.06.94zm10 10l.94 2.06.94-2.06 2.06-.94-2.06-.94-.94-2.06-.94 2.06-2.06.94z\"/><path d=\"M17.41 7.96l-1.37-1.37c-.4-.4-.92-.59-1.43-.59-.52 0-1.04.2-1.43.59L10.3 9.45l-7.72 7.72c-.78.78-.78 2.05 0 2.83L4 21.41c.39.39.9.59 1.41.59.51 0 1.02-.2 1.41-.59l7.78-7.78 2.81-2.81c.8-.78.8-2.07 0-2.86zM5.41 20L4 18.59l7.72-7.72 1.47 1.35L5.41 20z\"/>\n",
              "  </svg>\n",
              "      </button>\n",
              "      \n",
              "  <style>\n",
              "    .colab-df-container {\n",
              "      display:flex;\n",
              "      flex-wrap:wrap;\n",
              "      gap: 12px;\n",
              "    }\n",
              "\n",
              "    .colab-df-convert {\n",
              "      background-color: #E8F0FE;\n",
              "      border: none;\n",
              "      border-radius: 50%;\n",
              "      cursor: pointer;\n",
              "      display: none;\n",
              "      fill: #1967D2;\n",
              "      height: 32px;\n",
              "      padding: 0 0 0 0;\n",
              "      width: 32px;\n",
              "    }\n",
              "\n",
              "    .colab-df-convert:hover {\n",
              "      background-color: #E2EBFA;\n",
              "      box-shadow: 0px 1px 2px rgba(60, 64, 67, 0.3), 0px 1px 3px 1px rgba(60, 64, 67, 0.15);\n",
              "      fill: #174EA6;\n",
              "    }\n",
              "\n",
              "    [theme=dark] .colab-df-convert {\n",
              "      background-color: #3B4455;\n",
              "      fill: #D2E3FC;\n",
              "    }\n",
              "\n",
              "    [theme=dark] .colab-df-convert:hover {\n",
              "      background-color: #434B5C;\n",
              "      box-shadow: 0px 1px 3px 1px rgba(0, 0, 0, 0.15);\n",
              "      filter: drop-shadow(0px 1px 2px rgba(0, 0, 0, 0.3));\n",
              "      fill: #FFFFFF;\n",
              "    }\n",
              "  </style>\n",
              "\n",
              "      <script>\n",
              "        const buttonEl =\n",
              "          document.querySelector('#df-a923cc5c-2f54-42f1-accf-cfee68b4682e button.colab-df-convert');\n",
              "        buttonEl.style.display =\n",
              "          google.colab.kernel.accessAllowed ? 'block' : 'none';\n",
              "\n",
              "        async function convertToInteractive(key) {\n",
              "          const element = document.querySelector('#df-a923cc5c-2f54-42f1-accf-cfee68b4682e');\n",
              "          const dataTable =\n",
              "            await google.colab.kernel.invokeFunction('convertToInteractive',\n",
              "                                                     [key], {});\n",
              "          if (!dataTable) return;\n",
              "\n",
              "          const docLinkHtml = 'Like what you see? Visit the ' +\n",
              "            '<a target=\"_blank\" href=https://colab.research.google.com/notebooks/data_table.ipynb>data table notebook</a>'\n",
              "            + ' to learn more about interactive tables.';\n",
              "          element.innerHTML = '';\n",
              "          dataTable['output_type'] = 'display_data';\n",
              "          await google.colab.output.renderOutput(dataTable, element);\n",
              "          const docLink = document.createElement('div');\n",
              "          docLink.innerHTML = docLinkHtml;\n",
              "          element.appendChild(docLink);\n",
              "        }\n",
              "      </script>\n",
              "    </div>\n",
              "  </div>\n",
              "  "
            ],
            "text/plain": [
              "                                      precision  ...      support\n",
              "Automotive                             0.800000  ...   356.000000\n",
              "Construction                           0.683784  ...   390.000000\n",
              "Consumer Goods                         0.650350  ...   372.000000\n",
              "Financial Services                     0.829157  ...   469.000000\n",
              "Human Resources                        0.757062  ...   218.000000\n",
              "Information Technology and Services    0.662245  ...  1671.000000\n",
              "Insurance                              0.781022  ...   152.000000\n",
              "Legal Services                         0.912000  ...   135.000000\n",
              "Leisure, Travel & Tourism              0.911111  ...   148.000000\n",
              "Logistics and Supply Chain             0.847328  ...   183.000000\n",
              "Management Consulting                  0.656522  ...   759.000000\n",
              "Marketing and Advertising              0.731768  ...   830.000000\n",
              "Mechanical or Industrial Engineering   0.637014  ...  1004.000000\n",
              "Medical Practice                       0.791549  ...   395.000000\n",
              "Real Estate                            0.875000  ...   240.000000\n",
              "Recreational Facilities and Services   0.716667  ...   163.000000\n",
              "Renewables & Environment               0.756303  ...   290.000000\n",
              "Telecommunications                     0.731343  ...   153.000000\n",
              "Wholesale                              0.655246  ...   468.000000\n",
              "accuracy                               0.707242  ...     0.707242\n",
              "macro avg                              0.757130  ...  8396.000000\n",
              "weighted avg                           0.715610  ...  8396.000000\n",
              "\n",
              "[22 rows x 4 columns]"
            ]
          },
          "metadata": {},
          "execution_count": 29
        }
      ]
    },
    {
      "cell_type": "markdown",
      "source": [
        "*   f1-score is the harmonic mean between precision and recall.\n",
        "*   Recall is the number of correctly predicted elements of a class out of the number of actual/true elements of that class.\n",
        "*   Precision is the number of correctly predicted elements of a class out of all predicted elements of that class.\n",
        "*   Support is the number of occurence of the given class in the test dataset.\n",
        "\n",
        "The \"Telecommunications\" class has the lowest recall with only 0,32. This means that the percentage of the correctly predicted elements of the \"Telecommunications\" class out of its true elements is nearly 32%.\n",
        "\n",
        "\n"
      ],
      "metadata": {
        "id": "rrNmx9q_9-R_"
      }
    },
    {
      "cell_type": "markdown",
      "source": [
        "The Confusion Matrix is displayed below to get a deeper look on the \n",
        "correctly-predicted elements and the actual/true ones of each class"
      ],
      "metadata": {
        "id": "l3d4NYc0IMiL"
      }
    },
    {
      "cell_type": "code",
      "source": [
        "# Confusion Matrix\n",
        "from sklearn.metrics import confusion_matrix\n",
        "import seaborn as sns\n",
        "import numpy as np\n",
        "unique_label = np.unique(data_test.industry_label)\n",
        "conf_mat = confusion_matrix(data_test.industry_label, predictions)\n",
        "fig, ax = plt.subplots(figsize=(12,12))\n",
        "sns.heatmap(conf_mat, annot=True, fmt='d',\n",
        "            xticklabels=unique_label, yticklabels=unique_label)\n",
        "plt.ylabel('Actual')\n",
        "plt.xlabel('Predicted')\n",
        "plt.show()"
      ],
      "metadata": {
        "id": "d8c3PyFiHRxi",
        "colab": {
          "base_uri": "https://localhost:8080/",
          "height": 888
        },
        "outputId": "34b13f69-1b8e-40bb-c537-5793569ab35c"
      },
      "execution_count": null,
      "outputs": [
        {
          "output_type": "display_data",
          "data": {
            "image/png": "[encoded data removed]",
            "text/plain": [
              "<Figure size 864x864 with 2 Axes>"
            ]
          },
          "metadata": {
            "needs_background": "light"
          }
        }
      ]
    },
    {
      "cell_type": "markdown",
      "source": [
        "*   The lowest recall relating to the \"Telecommunications\" class is confirmed by the confusion matrix, since only 49 elements out of 153 are being correctly predicted in this class.\n",
        "*   The \"Legal Services\" class has the highest recall by nearly 0,84. There are 114 elements in this class out of 135 true elements that are correctly predicted.    \n",
        "*   174 elements that belong in reality to the \"Management Consulting\" class, are incorrectly predicted as belonging to the \"Information Technology and Services\" class. \n",
        "\n",
        "\n",
        "\n"
      ],
      "metadata": {
        "id": "LQuo9LggPRzz"
      }
    },
    {
      "cell_type": "markdown",
      "source": [
        "**Using the trained model for inference**"
      ],
      "metadata": {
        "id": "tNSP6hapLEl_"
      }
    },
    {
      "cell_type": "markdown",
      "source": [
        "Selenium Scraper"
      ],
      "metadata": {
        "id": "dKQSa9NgLkxf"
      }
    },
    {
      "cell_type": "code",
      "source": [
        "#Download the libraries needed to use Selenium\n",
        "!apt-get update\n",
        "!apt install chromium-chromedriver\n",
        "!cp /usr/lib/chromium-browser/chromedriver /usr/bin\n",
        "!pip install selenium"
      ],
      "metadata": {
        "id": "Oh5cX1jiLj5E",
        "colab": {
          "base_uri": "https://localhost:8080/"
        },
        "outputId": "fd843ff7-6512-4014-fbdc-9d4de40d96c4"
      },
      "execution_count": null,
      "outputs": [
        {
          "output_type": "stream",
          "name": "stdout",
          "text": [
            "\r0% [Working]\r            \rGet:1 http://security.ubuntu.com/ubuntu bionic-security InRelease [88.7 kB]\n",
            "\r0% [Connecting to archive.ubuntu.com (91.189.88.152)] [1 InRelease 14.2 kB/88.7\r                                                                               \rGet:2 https://cloud.r-project.org/bin/linux/ubuntu bionic-cran40/ InRelease [3,626 B]\n",
            "Ign:3 https://developer.download.nvidia.com/compute/cuda/repos/ubuntu1804/x86_64  InRelease\n",
            "Ign:4 https://developer.download.nvidia.com/compute/machine-learning/repos/ubuntu1804/x86_64  InRelease\n",
            "Hit:5 http://archive.ubuntu.com/ubuntu bionic InRelease\n",
            "Get:6 https://developer.download.nvidia.com/compute/cuda/repos/ubuntu1804/x86_64  Release [696 B]\n",
            "Hit:7 https://developer.download.nvidia.com/compute/machine-learning/repos/ubuntu1804/x86_64  Release\n",
            "Get:8 https://developer.download.nvidia.com/compute/cuda/repos/ubuntu1804/x86_64  Release.gpg [836 B]\n",
            "Get:9 http://ppa.launchpad.net/c2d4u.team/c2d4u4.0+/ubuntu bionic InRelease [15.9 kB]\n",
            "Get:10 http://archive.ubuntu.com/ubuntu bionic-updates InRelease [88.7 kB]\n",
            "Get:11 http://security.ubuntu.com/ubuntu bionic-security/main amd64 Packages [2,564 kB]\n",
            "Hit:12 http://ppa.launchpad.net/cran/libgit2/ubuntu bionic InRelease\n",
            "Get:13 http://archive.ubuntu.com/ubuntu bionic-backports InRelease [74.6 kB]\n",
            "Get:14 http://security.ubuntu.com/ubuntu bionic-security/universe amd64 Packages [1,468 kB]\n",
            "Get:15 http://ppa.launchpad.net/deadsnakes/ppa/ubuntu bionic InRelease [15.9 kB]\n",
            "Get:16 http://security.ubuntu.com/ubuntu bionic-security/restricted amd64 Packages [783 kB]\n",
            "Get:17 http://security.ubuntu.com/ubuntu bionic-security/multiverse amd64 Packages [21.1 kB]\n",
            "Get:19 http://ppa.launchpad.net/graphics-drivers/ppa/ubuntu bionic InRelease [21.3 kB]\n",
            "Get:20 https://developer.download.nvidia.com/compute/cuda/repos/ubuntu1804/x86_64  Packages [917 kB]\n",
            "Get:21 http://ppa.launchpad.net/c2d4u.team/c2d4u4.0+/ubuntu bionic/main Sources [1,825 kB]\n",
            "Get:22 http://archive.ubuntu.com/ubuntu bionic-updates/restricted amd64 Packages [816 kB]\n",
            "Get:23 http://archive.ubuntu.com/ubuntu bionic-updates/main amd64 Packages [3,004 kB]\n",
            "Get:24 http://archive.ubuntu.com/ubuntu bionic-updates/multiverse amd64 Packages [29.0 kB]\n",
            "Get:25 http://archive.ubuntu.com/ubuntu bionic-updates/universe amd64 Packages [2,247 kB]\n",
            "Get:26 http://ppa.launchpad.net/c2d4u.team/c2d4u4.0+/ubuntu bionic/main amd64 Packages [935 kB]\n",
            "Get:27 http://ppa.launchpad.net/deadsnakes/ppa/ubuntu bionic/main amd64 Packages [45.3 kB]\n",
            "Get:28 http://ppa.launchpad.net/graphics-drivers/ppa/ubuntu bionic/main amd64 Packages [42.8 kB]\n",
            "Fetched 15.0 MB in 3s (4,349 kB/s)\n",
            "Reading package lists... Done\n",
            "Reading package lists... Done\n",
            "Building dependency tree       \n",
            "Reading state information... Done\n",
            "The following packages were automatically installed and are no longer required:\n",
            "  cuda-command-line-tools-10-0 cuda-command-line-tools-10-1\n",
            "  cuda-command-line-tools-11-0 cuda-compiler-10-0 cuda-compiler-10-1\n",
            "  cuda-compiler-11-0 cuda-cuobjdump-10-0 cuda-cuobjdump-10-1\n",
            "  cuda-cuobjdump-11-0 cuda-cupti-10-0 cuda-cupti-10-1 cuda-cupti-11-0\n",
            "  cuda-cupti-dev-11-0 cuda-documentation-10-0 cuda-documentation-10-1\n",
            "  cuda-documentation-11-0 cuda-documentation-11-1 cuda-gdb-10-0 cuda-gdb-10-1\n",
            "  cuda-gdb-11-0 cuda-gpu-library-advisor-10-0 cuda-gpu-library-advisor-10-1\n",
            "  cuda-libraries-10-0 cuda-libraries-10-1 cuda-libraries-11-0\n",
            "  cuda-memcheck-10-0 cuda-memcheck-10-1 cuda-memcheck-11-0 cuda-nsight-10-0\n",
            "  cuda-nsight-10-1 cuda-nsight-11-0 cuda-nsight-11-1 cuda-nsight-compute-10-0\n",
            "  cuda-nsight-compute-10-1 cuda-nsight-compute-11-0 cuda-nsight-compute-11-1\n",
            "  cuda-nsight-systems-10-1 cuda-nsight-systems-11-0 cuda-nsight-systems-11-1\n",
            "  cuda-nvcc-10-0 cuda-nvcc-10-1 cuda-nvcc-11-0 cuda-nvdisasm-10-0\n",
            "  cuda-nvdisasm-10-1 cuda-nvdisasm-11-0 cuda-nvml-dev-10-0 cuda-nvml-dev-10-1\n",
            "  cuda-nvml-dev-11-0 cuda-nvprof-10-0 cuda-nvprof-10-1 cuda-nvprof-11-0\n",
            "  cuda-nvprune-10-0 cuda-nvprune-10-1 cuda-nvprune-11-0 cuda-nvtx-10-0\n",
            "  cuda-nvtx-10-1 cuda-nvtx-11-0 cuda-nvvp-10-0 cuda-nvvp-10-1 cuda-nvvp-11-0\n",
            "  cuda-nvvp-11-1 cuda-samples-10-0 cuda-samples-10-1 cuda-samples-11-0\n",
            "  cuda-samples-11-1 cuda-sanitizer-11-0 cuda-sanitizer-api-10-1\n",
            "  cuda-toolkit-10-0 cuda-toolkit-10-1 cuda-toolkit-11-0 cuda-toolkit-11-1\n",
            "  cuda-tools-10-0 cuda-tools-10-1 cuda-tools-11-0 cuda-tools-11-1\n",
            "  cuda-visual-tools-10-0 cuda-visual-tools-10-1 cuda-visual-tools-11-0\n",
            "  cuda-visual-tools-11-1 default-jre dkms freeglut3 freeglut3-dev\n",
            "  keyboard-configuration libargon2-0 libcap2 libcryptsetup12\n",
            "  libdevmapper1.02.1 libfontenc1 libidn11 libip4tc0 libjansson4\n",
            "  libnvidia-cfg1-510 libnvidia-common-460 libnvidia-common-510\n",
            "  libnvidia-extra-510 libnvidia-fbc1-510 libnvidia-gl-510 libpam-systemd\n",
            "  libpolkit-agent-1-0 libpolkit-backend-1-0 libpolkit-gobject-1-0 libxfont2\n",
            "  libxi-dev libxkbfile1 libxmu-dev libxmu-headers libxnvctrl0\n",
            "  nsight-compute-2020.2.1 nsight-compute-2022.1.0 nsight-systems-2020.3.2\n",
            "  nsight-systems-2020.3.4 nsight-systems-2021.5.2 nvidia-dkms-510\n",
            "  nvidia-kernel-common-510 nvidia-kernel-source-510 nvidia-modprobe\n",
            "  nvidia-settings openjdk-11-jre policykit-1 policykit-1-gnome python3-xkit\n",
            "  screen-resolution-extra systemd systemd-sysv udev x11-xkb-utils\n",
            "  xserver-common xserver-xorg-core-hwe-18.04 xserver-xorg-video-nvidia-510\n",
            "Use 'apt autoremove' to remove them.\n",
            "The following additional packages will be installed:\n",
            "  chromium-browser chromium-browser-l10n chromium-codecs-ffmpeg-extra\n",
            "Suggested packages:\n",
            "  webaccounts-chromium-extension unity-chromium-extension\n",
            "The following NEW packages will be installed:\n",
            "  chromium-browser chromium-browser-l10n chromium-chromedriver\n",
            "  chromium-codecs-ffmpeg-extra\n",
            "0 upgraded, 4 newly installed, 0 to remove and 63 not upgraded.\n",
            "Need to get 95.3 MB of archives.\n",
            "After this operation, 327 MB of additional disk space will be used.\n",
            "Get:1 http://archive.ubuntu.com/ubuntu bionic-updates/universe amd64 chromium-codecs-ffmpeg-extra amd64 97.0.4692.71-0ubuntu0.18.04.1 [1,142 kB]\n",
            "Get:2 http://archive.ubuntu.com/ubuntu bionic-updates/universe amd64 chromium-browser amd64 97.0.4692.71-0ubuntu0.18.04.1 [84.7 MB]\n",
            "Get:3 http://archive.ubuntu.com/ubuntu bionic-updates/universe amd64 chromium-browser-l10n all 97.0.4692.71-0ubuntu0.18.04.1 [4,370 kB]\n",
            "Get:4 http://archive.ubuntu.com/ubuntu bionic-updates/universe amd64 chromium-chromedriver amd64 97.0.4692.71-0ubuntu0.18.04.1 [5,055 kB]\n",
            "Fetched 95.3 MB in 4s (24.1 MB/s)\n",
            "Selecting previously unselected package chromium-codecs-ffmpeg-extra.\n",
            "(Reading database ... 155113 files and directories currently installed.)\n",
            "Preparing to unpack .../chromium-codecs-ffmpeg-extra_97.0.4692.71-0ubuntu0.18.04.1_amd64.deb ...\n",
            "Unpacking chromium-codecs-ffmpeg-extra (97.0.4692.71-0ubuntu0.18.04.1) ...\n",
            "Selecting previously unselected package chromium-browser.\n",
            "Preparing to unpack .../chromium-browser_97.0.4692.71-0ubuntu0.18.04.1_amd64.deb ...\n",
            "Unpacking chromium-browser (97.0.4692.71-0ubuntu0.18.04.1) ...\n",
            "Selecting previously unselected package chromium-browser-l10n.\n",
            "Preparing to unpack .../chromium-browser-l10n_97.0.4692.71-0ubuntu0.18.04.1_all.deb ...\n",
            "Unpacking chromium-browser-l10n (97.0.4692.71-0ubuntu0.18.04.1) ...\n",
            "Selecting previously unselected package chromium-chromedriver.\n",
            "Preparing to unpack .../chromium-chromedriver_97.0.4692.71-0ubuntu0.18.04.1_amd64.deb ...\n",
            "Unpacking chromium-chromedriver (97.0.4692.71-0ubuntu0.18.04.1) ...\n",
            "Setting up chromium-codecs-ffmpeg-extra (97.0.4692.71-0ubuntu0.18.04.1) ...\n",
            "Setting up chromium-browser (97.0.4692.71-0ubuntu0.18.04.1) ...\n",
            "update-alternatives: using /usr/bin/chromium-browser to provide /usr/bin/x-www-browser (x-www-browser) in auto mode\n",
            "update-alternatives: using /usr/bin/chromium-browser to provide /usr/bin/gnome-www-browser (gnome-www-browser) in auto mode\n",
            "Setting up chromium-chromedriver (97.0.4692.71-0ubuntu0.18.04.1) ...\n",
            "Setting up chromium-browser-l10n (97.0.4692.71-0ubuntu0.18.04.1) ...\n",
            "Processing triggers for man-db (2.8.3-2ubuntu0.1) ...\n",
            "Processing triggers for hicolor-icon-theme (0.17-2) ...\n",
            "Processing triggers for mime-support (3.60ubuntu1) ...\n",
            "Processing triggers for libc-bin (2.27-3ubuntu1.3) ...\n",
            "/sbin/ldconfig.real: /usr/local/lib/python3.7/dist-packages/ideep4py/lib/libmkldnn.so.0 is not a symbolic link\n",
            "\n",
            "cp: '/usr/lib/chromium-browser/chromedriver' and '/usr/bin/chromedriver' are the same file\n",
            "Collecting selenium\n",
            "  Downloading selenium-4.1.0-py3-none-any.whl (958 kB)\n",
            "\u001b[K     |████████████████████████████████| 958 kB 5.1 MB/s \n",
            "\u001b[?25hCollecting trio-websocket~=0.9\n",
            "  Downloading trio_websocket-0.9.2-py3-none-any.whl (16 kB)\n",
            "Collecting urllib3[secure]~=1.26\n",
            "  Downloading urllib3-1.26.8-py2.py3-none-any.whl (138 kB)\n",
            "\u001b[K     |████████████████████████████████| 138 kB 66.7 MB/s \n",
            "\u001b[?25hCollecting trio~=0.17\n",
            "  Downloading trio-0.19.0-py3-none-any.whl (356 kB)\n",
            "\u001b[K     |████████████████████████████████| 356 kB 83.2 MB/s \n",
            "\u001b[?25hRequirement already satisfied: idna in /usr/local/lib/python3.7/dist-packages (from trio~=0.17->selenium) (2.10)\n",
            "Collecting outcome\n",
            "  Downloading outcome-1.1.0-py2.py3-none-any.whl (9.7 kB)\n",
            "Requirement already satisfied: attrs>=19.2.0 in /usr/local/lib/python3.7/dist-packages (from trio~=0.17->selenium) (21.4.0)\n",
            "Collecting async-generator>=1.9\n",
            "  Downloading async_generator-1.10-py3-none-any.whl (18 kB)\n",
            "Requirement already satisfied: sortedcontainers in /usr/local/lib/python3.7/dist-packages (from trio~=0.17->selenium) (2.4.0)\n",
            "Collecting sniffio\n",
            "  Downloading sniffio-1.2.0-py3-none-any.whl (10 kB)\n",
            "Collecting wsproto>=0.14\n",
            "  Downloading wsproto-1.0.0-py3-none-any.whl (24 kB)\n",
            "Collecting cryptography>=1.3.4\n",
            "  Downloading cryptography-36.0.1-cp36-abi3-manylinux_2_24_x86_64.whl (3.6 MB)\n",
            "\u001b[K     |████████████████████████████████| 3.6 MB 78.3 MB/s \n",
            "\u001b[?25hRequirement already satisfied: certifi in /usr/local/lib/python3.7/dist-packages (from urllib3[secure]~=1.26->selenium) (2021.10.8)\n",
            "Collecting pyOpenSSL>=0.14\n",
            "  Downloading pyOpenSSL-22.0.0-py2.py3-none-any.whl (55 kB)\n",
            "\u001b[K     |████████████████████████████████| 55 kB 5.1 MB/s \n",
            "\u001b[?25hRequirement already satisfied: cffi>=1.12 in /usr/local/lib/python3.7/dist-packages (from cryptography>=1.3.4->urllib3[secure]~=1.26->selenium) (1.15.0)\n",
            "Requirement already satisfied: pycparser in /usr/local/lib/python3.7/dist-packages (from cffi>=1.12->cryptography>=1.3.4->urllib3[secure]~=1.26->selenium) (2.21)\n",
            "Collecting h11<1,>=0.9.0\n",
            "  Downloading h11-0.13.0-py3-none-any.whl (58 kB)\n",
            "\u001b[K     |████████████████████████████████| 58 kB 8.0 MB/s \n",
            "\u001b[?25hRequirement already satisfied: typing-extensions in /usr/local/lib/python3.7/dist-packages (from h11<1,>=0.9.0->wsproto>=0.14->trio-websocket~=0.9->selenium) (3.10.0.2)\n",
            "Installing collected packages: sniffio, outcome, h11, cryptography, async-generator, wsproto, urllib3, trio, pyOpenSSL, trio-websocket, selenium\n",
            "  Attempting uninstall: urllib3\n",
            "    Found existing installation: urllib3 1.24.3\n",
            "    Uninstalling urllib3-1.24.3:\n",
            "      Successfully uninstalled urllib3-1.24.3\n",
            "\u001b[31mERROR: pip's dependency resolver does not currently take into account all the packages that are installed. This behaviour is the source of the following dependency conflicts.\n",
            "requests 2.23.0 requires urllib3!=1.25.0,!=1.25.1,<1.26,>=1.21.1, but you have urllib3 1.26.8 which is incompatible.\n",
            "datascience 0.10.6 requires folium==0.2.1, but you have folium 0.8.3 which is incompatible.\u001b[0m\n",
            "Successfully installed async-generator-1.10 cryptography-36.0.1 h11-0.13.0 outcome-1.1.0 pyOpenSSL-22.0.0 selenium-4.1.0 sniffio-1.2.0 trio-0.19.0 trio-websocket-0.9.2 urllib3-1.26.8 wsproto-1.0.0\n"
          ]
        }
      ]
    },
    {
      "cell_type": "code",
      "source": [
        "# Import libraries\n",
        "from selenium import webdriver\n",
        "from bs4 import BeautifulSoup"
      ],
      "metadata": {
        "id": "Q72TgZTGLMF1"
      },
      "execution_count": null,
      "outputs": []
    },
    {
      "cell_type": "code",
      "source": [
        "#Settings for using the driver without a UI\n",
        "options = webdriver.ChromeOptions()\n",
        "options.add_argument('--headless')\n",
        "options.add_argument('--no-sandbox')\n",
        "#options.add_argument('--disable-dev-shm-usage')\n",
        "options.add_argument(\"user-agent=Mozilla/5.0 (Windows NT 6.1; Win64; x64) AppleWebKit/537.36 (KHTML, like Gecko) Chrome/84.0.4147.125 Safari/537.36\")\n",
        "driver = webdriver.Chrome('chromedriver',options=options)\n",
        "driver.implicitly_wait(10)"
      ],
      "metadata": {
        "id": "DuZVpKvRMIiq"
      },
      "execution_count": null,
      "outputs": []
    },
    {
      "cell_type": "markdown",
      "source": [
        "Example 1"
      ],
      "metadata": {
        "id": "MwCG66Wls0j3"
      }
    },
    {
      "cell_type": "code",
      "source": [
        "# Test download\n",
        "url = 'https://www.expert.de/'\n",
        "driver.get(url)\n",
        "html = driver.page_source.encode('utf-8')\n",
        "Cleaned_text_1 = cleaning_text(str(html))\n",
        "Cleaned_text_1[:512]"
      ],
      "metadata": {
        "id": "ukT4sfD8MM_D",
        "colab": {
          "base_uri": "https://localhost:8080/",
          "height": 87
        },
        "outputId": "18a51252-3cd6-4181-a6c5-c6edabc84ff4"
      },
      "execution_count": null,
      "outputs": [
        {
          "output_type": "execute_result",
          "data": {
            "application/vnd.google.colaboratory.intrinsic+json": {
              "type": "string"
            },
            "text/plain": [
              "'bnnnnnnnnnnnnnnnnnnnnnnnnnnnnElektromarkt in Ihrer Nxc3xa4he mit OnlineShop xe2x80x93 expert                              windowdataLayer  windowdataLayer  function gtag dataLayerpusharguments gtagconsent default adstorage deniedanalyticsstorage deniedfunctionalitystorage deniedpersonalizationstorage deniedsecuritystorage grantedwaitforupdate 500gtagset adsdataredaction truefunctiondoLogConsentfunction logConsentpreferenceajaxurlapiuseraddPreferencetypePOSTcontentTypeapplicationjsoncharsetutf8dataTypejsonda'"
            ]
          },
          "metadata": {},
          "execution_count": 34
        }
      ]
    },
    {
      "cell_type": "code",
      "source": [
        "prediction = SVM.predict([Cleaned_text_1])\n",
        "prediction"
      ],
      "metadata": {
        "id": "mnJWHvRkskuG",
        "colab": {
          "base_uri": "https://localhost:8080/"
        },
        "outputId": "deb4bb19-bb0c-47f4-b5d1-e5166f5a8c31"
      },
      "execution_count": null,
      "outputs": [
        {
          "output_type": "execute_result",
          "data": {
            "text/plain": [
              "array(['Wholesale'], dtype=object)"
            ]
          },
          "metadata": {},
          "execution_count": 35
        }
      ]
    },
    {
      "cell_type": "markdown",
      "source": [
        "Example 2"
      ],
      "metadata": {
        "id": "qWDTB6P7s4Ly"
      }
    },
    {
      "cell_type": "code",
      "source": [
        "# Test download\n",
        "url = 'https://www.ING.de/'\n",
        "driver.get(url)\n",
        "html = driver.page_source.encode('utf-8')\n",
        "Cleaned_text_2 = cleaning_text(str(html))\n",
        "Cleaned_text_2[:512]"
      ],
      "metadata": {
        "id": "F009yOvks6JU",
        "colab": {
          "base_uri": "https://localhost:8080/",
          "height": 87
        },
        "outputId": "767b5c3f-bec8-4cbc-8eb8-64a87db5acc2"
      },
      "execution_count": null,
      "outputs": [
        {
          "output_type": "execute_result",
          "data": {
            "application/vnd.google.colaboratory.intrinsic+json": {
              "type": "string"
            },
            "text/plain": [
              "'bnnwindowGCO  nnnnnnnnnnnnING  Willkommen bei Deutschlands beliebtester Banknnnnnncontext httpschemaorgntype Corporationnid httpswwwingdeingdibanname INGnalternateName INGDiBanlegalName INGDiBa AGndescription Deutschlands beliebteste Banknurl httpswwwingdenlogo httpswwwingdebinariescontentgalleryassetsueberunspressebilderingdeutschlandlogorgbjpgnaddress ntype PostalAddressnaddressLocality Frankfurt am MainnpostalCode 60486nstreetAddress TheodorHeussAllee 2nncontactPoint ntype ContactPointntelephone 49 69  5'"
            ]
          },
          "metadata": {},
          "execution_count": 36
        }
      ]
    },
    {
      "cell_type": "code",
      "source": [
        "prediction = SVM.predict([Cleaned_text_2])\n",
        "prediction "
      ],
      "metadata": {
        "id": "kqsDx11As65A",
        "colab": {
          "base_uri": "https://localhost:8080/"
        },
        "outputId": "30eeb10b-7be2-4bab-d562-4d219102b78c"
      },
      "execution_count": null,
      "outputs": [
        {
          "output_type": "execute_result",
          "data": {
            "text/plain": [
              "array(['Financial Services'], dtype=object)"
            ]
          },
          "metadata": {},
          "execution_count": 37
        }
      ]
    }
  ]
}